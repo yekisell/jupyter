{
 "cells": [
  {
   "cell_type": "code",
   "execution_count": 2,
   "id": "9edf264b",
   "metadata": {},
   "outputs": [],
   "source": [
    "import pandas as pd\n",
    "import numpy as np\n",
    "from sklearn.tree import DecisionTreeClassifier\n",
    "from sklearn.ensemble import RandomForestClassifier, BaggingClassifier\n",
    "from sklearn.model_selection import cross_val_score\n",
    "from sklearn.datasets import load_digits"
   ]
  },
  {
   "cell_type": "code",
   "execution_count": 13,
   "id": "fc8a5658",
   "metadata": {},
   "outputs": [],
   "source": [
    "def forest_answers(number, answer):\n",
    "    filename = 'forest_answer' + str(number)\n",
    "    with open(filename, 'w') as fout:\n",
    "        fout.write(str(answer))"
   ]
  },
  {
   "cell_type": "code",
   "execution_count": 10,
   "id": "85094849",
   "metadata": {},
   "outputs": [],
   "source": [
    "digits = load_digits()\n",
    "cv = 10"
   ]
  },
  {
   "cell_type": "code",
   "execution_count": 11,
   "id": "7e23de23",
   "metadata": {},
   "outputs": [],
   "source": [
    "X = digits.data\n",
    "y = digits.target"
   ]
  },
  {
   "cell_type": "code",
   "execution_count": 16,
   "id": "07f8393d",
   "metadata": {},
   "outputs": [],
   "source": [
    "tree = DecisionTreeClassifier()\n",
    "tree_scores = cross_val_score(tree, X, y, cv=cv, n_jobs=-1)\n",
    "forest_answers(1, np.mean(tree_scores))"
   ]
  },
  {
   "cell_type": "code",
   "execution_count": 17,
   "id": "7546878c",
   "metadata": {},
   "outputs": [],
   "source": [
    "bagging = BaggingClassifier(n_estimators=100)\n",
    "bagging_scores = cross_val_score(bagging, X, y, cv=cv, n_jobs=-1)\n",
    "forest_answers(2, np.mean(bagging_scores))"
   ]
  },
  {
   "cell_type": "code",
   "execution_count": 26,
   "id": "2d1d9f9e",
   "metadata": {},
   "outputs": [],
   "source": [
    "bagging_root = BaggingClassifier(n_estimators=100, max_features=np.sqrt(X.shape[1]))\n",
    "bagging_root_scores = cross_val_score(bagging_root, X, y, cv=cv, n_jobs=-1)\n",
    "forest_answers(3, np.mean(bagging_root_scores))"
   ]
  },
  {
   "cell_type": "code",
   "execution_count": 33,
   "id": "d135bec5",
   "metadata": {},
   "outputs": [],
   "source": [
    "root_tree = DecisionTreeClassifier(max_features=int(np.sqrt(X.shape[1])))\n",
    "bagging_root_trees = BaggingClassifier(base_estimator=root_tree, n_estimators=100)\n",
    "bagging_root_trees_scores = cross_val_score(bagging_root_trees, X, y, cv=cv, n_jobs=-1)\n",
    "forest_answers(4, np.mean(bagging_root_trees_scores))"
   ]
  },
  {
   "cell_type": "code",
   "execution_count": 34,
   "id": "09d60fc4",
   "metadata": {},
   "outputs": [],
   "source": [
    "correst_answers_5 = [2, 3, 4, 7]"
   ]
  },
  {
   "cell_type": "code",
   "execution_count": 37,
   "id": "23623d31",
   "metadata": {},
   "outputs": [],
   "source": [
    "with open('forest_answer5', 'w') as fout:\n",
    "    for ans in correst_answers_5:\n",
    "        fout.write(str(ans) + ' ')"
   ]
  },
  {
   "cell_type": "code",
   "execution_count": null,
   "id": "a4b0a8ec",
   "metadata": {},
   "outputs": [],
   "source": []
  }
 ],
 "metadata": {
  "kernelspec": {
   "display_name": "Python 3",
   "language": "python",
   "name": "python3"
  },
  "language_info": {
   "codemirror_mode": {
    "name": "ipython",
    "version": 3
   },
   "file_extension": ".py",
   "mimetype": "text/x-python",
   "name": "python",
   "nbconvert_exporter": "python",
   "pygments_lexer": "ipython3",
   "version": "3.8.8"
  }
 },
 "nbformat": 4,
 "nbformat_minor": 5
}
