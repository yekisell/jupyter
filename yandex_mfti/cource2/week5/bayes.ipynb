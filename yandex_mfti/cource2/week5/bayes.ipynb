{
 "cells": [
  {
   "cell_type": "code",
   "execution_count": 51,
   "id": "b3553cd5",
   "metadata": {},
   "outputs": [],
   "source": [
    "import numpy as np\n",
    "import pandas as pd\n",
    "from sklearn.model_selection import train_test_split\n",
    "from sklearn.naive_bayes import BernoulliNB, MultinomialNB, GaussianNB\n",
    "from sklearn.model_selection import cross_val_score\n",
    "from sklearn.datasets import load_digits, load_breast_cancer"
   ]
  },
  {
   "cell_type": "code",
   "execution_count": 52,
   "id": "f380fe38",
   "metadata": {},
   "outputs": [],
   "source": [
    "digits = load_digits()\n",
    "breast_cancer = load_breast_cancer()\n",
    "\n",
    "X_digits = digits.data\n",
    "y_digits = digits.target\n",
    "X_breast_cancer = breast_cancer.data\n",
    "y_breast_cancer = breast_cancer.target"
   ]
  },
  {
   "cell_type": "code",
   "execution_count": 47,
   "id": "c33b0539",
   "metadata": {},
   "outputs": [],
   "source": [
    "bernoulli = BernoulliNB()\n",
    "multi = MultinomialNB()\n",
    "gauss = GaussianNB()"
   ]
  },
  {
   "cell_type": "markdown",
   "id": "15d11cb0",
   "metadata": {},
   "source": [
    "## Digits"
   ]
  },
  {
   "cell_type": "code",
   "execution_count": 57,
   "id": "f2244ffb",
   "metadata": {},
   "outputs": [
    {
     "data": {
      "text/plain": [
       "GaussianNB()"
      ]
     },
     "execution_count": 57,
     "metadata": {},
     "output_type": "execute_result"
    }
   ],
   "source": [
    "bernoulli.fit(X_digits, y_digits)\n",
    "multi.fit(X_digits, y_digits)\n",
    "gauss.fit(X_digits, y_digits)"
   ]
  },
  {
   "cell_type": "code",
   "execution_count": 74,
   "id": "cee538ab",
   "metadata": {},
   "outputs": [
    {
     "name": "stdout",
     "output_type": "stream",
     "text": [
      "0.8325170701427685\n",
      "0.8797858472998138\n",
      "0.8113904407200497\n"
     ]
    }
   ],
   "source": [
    "print(cross_val_score(bernoulli, X_digits, y_digits, scoring='accuracy', cv=10).mean())\n",
    "print(cross_val_score(multi, X_digits, y_digits, scoring='accuracy', cv=10).mean())\n",
    "print(cross_val_score(gauss, X_digits, y_digits, scoring='accuracy', cv=10).mean())"
   ]
  },
  {
   "cell_type": "markdown",
   "id": "2b41b916",
   "metadata": {},
   "source": [
    "## Breast Cancer"
   ]
  },
  {
   "cell_type": "code",
   "execution_count": 76,
   "id": "bba12c83",
   "metadata": {},
   "outputs": [
    {
     "name": "stdout",
     "output_type": "stream",
     "text": [
      "0.6274122807017544\n",
      "0.8927944862155389\n",
      "0.9367794486215537\n"
     ]
    }
   ],
   "source": [
    "print(cross_val_score(bernoulli, X_breast_cancer, y_breast_cancer, scoring='accuracy', cv=10).mean())\n",
    "print(cross_val_score(multi, X_breast_cancer, y_breast_cancer, scoring='accuracy', cv=10).mean())\n",
    "print(cross_val_score(gauss, X_breast_cancer, y_breast_cancer, scoring='accuracy', cv=10).mean())"
   ]
  },
  {
   "cell_type": "code",
   "execution_count": 79,
   "id": "e2ec264e",
   "metadata": {},
   "outputs": [],
   "source": [
    "with open('cancer_answer.txt', 'w') as fout:\n",
    "    fout.write(str(0.9367794486215537))\n",
    "\n",
    "with open('digits_answer.txt', 'w') as fout:\n",
    "    fout.write(str(0.8797858472998138))"
   ]
  },
  {
   "cell_type": "code",
   "execution_count": 82,
   "id": "5767af2b",
   "metadata": {},
   "outputs": [],
   "source": [
    "with open('answer_test.txt', 'w') as fout:\n",
    "    fout.write('3 4')"
   ]
  },
  {
   "cell_type": "code",
   "execution_count": null,
   "id": "23c5865e",
   "metadata": {},
   "outputs": [],
   "source": []
  }
 ],
 "metadata": {
  "kernelspec": {
   "display_name": "Python 3",
   "language": "python",
   "name": "python3"
  },
  "language_info": {
   "codemirror_mode": {
    "name": "ipython",
    "version": 3
   },
   "file_extension": ".py",
   "mimetype": "text/x-python",
   "name": "python",
   "nbconvert_exporter": "python",
   "pygments_lexer": "ipython3",
   "version": "3.8.8"
  }
 },
 "nbformat": 4,
 "nbformat_minor": 5
}
