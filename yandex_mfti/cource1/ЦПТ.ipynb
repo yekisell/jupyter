{
 "cells": [
  {
   "cell_type": "markdown",
   "id": "aca00160",
   "metadata": {},
   "source": [
    "# Гамма-распределение"
   ]
  },
  {
   "cell_type": "code",
   "execution_count": 1,
   "id": "6550a679",
   "metadata": {},
   "outputs": [],
   "source": [
    "import pandas as pd\n",
    "import numpy as np\n",
    "import matplotlib.pyplot as plt\n",
    "import scipy.stats as sts"
   ]
  },
  {
   "cell_type": "markdown",
   "id": "ff7d1f4a",
   "metadata": {},
   "source": [
    "Гамма-распределение задаётся слудующими параметрами: $$ a=3,  b=20, c=2 $$ ,где $$ a>0, b>0 $$ a - параметр формы, b - параметр масштаба, с - параметр сдвига"
   ]
  },
  {
   "cell_type": "code",
   "execution_count": 2,
   "id": "cfe5be5d",
   "metadata": {},
   "outputs": [],
   "source": [
    "a = 3.\n",
    "b = 20.\n",
    "c = 2.\n",
    "gamma_rv = sts.gamma(a,loc=c, scale=b)"
   ]
  },
  {
   "cell_type": "markdown",
   "id": "ca40a900",
   "metadata": {},
   "source": [
    "## Теоретические показатели параметров гамма-распределения"
   ]
  },
  {
   "cell_type": "markdown",
   "id": "0fcfcc71",
   "metadata": {},
   "source": [
    "Математическое ожидание: $$ Е = а*b + с $$ Дисперсия: $$ D = a*b^2 $$ Стандартное отклонение: $$ S = \\sqrt{D} $$"
   ]
  },
  {
   "cell_type": "code",
   "execution_count": 3,
   "id": "8cc7c9ba",
   "metadata": {
    "scrolled": false
   },
   "outputs": [
    {
     "data": {
      "text/html": [
       "<div>\n",
       "<style scoped>\n",
       "    .dataframe tbody tr th:only-of-type {\n",
       "        vertical-align: middle;\n",
       "    }\n",
       "\n",
       "    .dataframe tbody tr th {\n",
       "        vertical-align: top;\n",
       "    }\n",
       "\n",
       "    .dataframe thead th {\n",
       "        text-align: right;\n",
       "    }\n",
       "</style>\n",
       "<table border=\"1\" class=\"dataframe\">\n",
       "  <thead>\n",
       "    <tr style=\"text-align: right;\">\n",
       "      <th></th>\n",
       "      <th>Распределение</th>\n",
       "      <th>Вид</th>\n",
       "      <th>Объем выборки</th>\n",
       "      <th>Матожидание</th>\n",
       "      <th>Дисперсия</th>\n",
       "      <th>Отклонение</th>\n",
       "      <th>Теор.Мато</th>\n",
       "      <th>Теор.Дисп</th>\n",
       "      <th>Теор.Откл</th>\n",
       "    </tr>\n",
       "  </thead>\n",
       "  <tbody>\n",
       "    <tr>\n",
       "      <th>1</th>\n",
       "      <td>Исходное</td>\n",
       "      <td>Гамма</td>\n",
       "      <td>None</td>\n",
       "      <td>62.0</td>\n",
       "      <td>1200.0</td>\n",
       "      <td>34.641</td>\n",
       "      <td>62</td>\n",
       "      <td>1200.0</td>\n",
       "      <td>34.641</td>\n",
       "    </tr>\n",
       "  </tbody>\n",
       "</table>\n",
       "</div>"
      ],
      "text/plain": [
       "  Распределение    Вид Объем выборки  Матожидание  Дисперсия  Отклонение  \\\n",
       "1      Исходное  Гамма          None         62.0     1200.0      34.641   \n",
       "\n",
       "   Теор.Мато  Теор.Дисп  Теор.Откл  \n",
       "1         62     1200.0     34.641  "
      ]
     },
     "execution_count": 3,
     "metadata": {},
     "output_type": "execute_result"
    }
   ],
   "source": [
    "# Рассчитаем показатели согласно формулам выше\n",
    "E = a*b+c\n",
    "D = a*b**2\n",
    "S = D**0.5\n",
    "frame = pd.DataFrame({'Распределение': 'Исходное',\n",
    "                      'Вид': 'Гамма',\n",
    "                      'Объем выборки': None, \n",
    "                      'Матожидание':round(E,3), \n",
    "                      'Дисперсия': round(D,3), \n",
    "                      'Отклонение': round(S,3),\n",
    "                      'Теор.Мато': 62,\n",
    "                      'Теор.Дисп': round((1200/1),3),\n",
    "                      'Теор.Откл': round((1200/1)**0.5,3)},index=[1])\n",
    "frame"
   ]
  },
  {
   "cell_type": "markdown",
   "id": "12397fd3",
   "metadata": {},
   "source": [
    "## Распределение из выборочных случайных величин"
   ]
  },
  {
   "cell_type": "markdown",
   "id": "7597fc38",
   "metadata": {},
   "source": [
    "Сгенерируем выборку объёма 1000 из гамма-распределения"
   ]
  },
  {
   "cell_type": "code",
   "execution_count": 4,
   "id": "f8d69f25",
   "metadata": {},
   "outputs": [],
   "source": [
    "sample = gamma_rv.rvs(size=1000)"
   ]
  },
  {
   "cell_type": "markdown",
   "id": "e5ffb479",
   "metadata": {},
   "source": [
    "Построим график плотности вероятности гамма-распреления и сопоставим с гистограммой выборки"
   ]
  },
  {
   "cell_type": "code",
   "execution_count": 5,
   "id": "d8820976",
   "metadata": {
    "scrolled": false
   },
   "outputs": [
    {
     "data": {
      "image/png": "[encoded data removed]",
      "text/plain": [
       "<Figure size 432x288 with 1 Axes>"
      ]
     },
     "metadata": {
      "needs_background": "light"
     },
     "output_type": "display_data"
    },
    {
     "data": {
      "text/html": [
       "<div>\n",
       "<style scoped>\n",
       "    .dataframe tbody tr th:only-of-type {\n",
       "        vertical-align: middle;\n",
       "    }\n",
       "\n",
       "    .dataframe tbody tr th {\n",
       "        vertical-align: top;\n",
       "    }\n",
       "\n",
       "    .dataframe thead th {\n",
       "        text-align: right;\n",
       "    }\n",
       "</style>\n",
       "<table border=\"1\" class=\"dataframe\">\n",
       "  <thead>\n",
       "    <tr style=\"text-align: right;\">\n",
       "      <th></th>\n",
       "      <th>Распределение</th>\n",
       "      <th>Вид</th>\n",
       "      <th>Объем выборки</th>\n",
       "      <th>Матожидание</th>\n",
       "      <th>Дисперсия</th>\n",
       "      <th>Отклонение</th>\n",
       "      <th>Теор.Мато</th>\n",
       "      <th>Теор.Дисп</th>\n",
       "      <th>Теор.Откл</th>\n",
       "    </tr>\n",
       "  </thead>\n",
       "  <tbody>\n",
       "    <tr>\n",
       "      <th>0</th>\n",
       "      <td>Исходное</td>\n",
       "      <td>Гамма</td>\n",
       "      <td>None</td>\n",
       "      <td>62.000</td>\n",
       "      <td>1200.000</td>\n",
       "      <td>34.641</td>\n",
       "      <td>62</td>\n",
       "      <td>1200.0</td>\n",
       "      <td>34.641</td>\n",
       "    </tr>\n",
       "    <tr>\n",
       "      <th>1</th>\n",
       "      <td>Выборочное</td>\n",
       "      <td>Гамма</td>\n",
       "      <td>1</td>\n",
       "      <td>62.786</td>\n",
       "      <td>1321.405</td>\n",
       "      <td>36.351</td>\n",
       "      <td>62</td>\n",
       "      <td>1200.0</td>\n",
       "      <td>34.641</td>\n",
       "    </tr>\n",
       "  </tbody>\n",
       "</table>\n",
       "</div>"
      ],
      "text/plain": [
       "  Распределение    Вид Объем выборки  Матожидание  Дисперсия  Отклонение  \\\n",
       "0      Исходное  Гамма          None       62.000   1200.000      34.641   \n",
       "1    Выборочное  Гамма             1       62.786   1321.405      36.351   \n",
       "\n",
       "   Теор.Мато  Теор.Дисп  Теор.Откл  \n",
       "0         62     1200.0     34.641  \n",
       "1         62     1200.0     34.641  "
      ]
     },
     "execution_count": 5,
     "metadata": {},
     "output_type": "execute_result"
    }
   ],
   "source": [
    "# Пространство иксов\n",
    "x = np.linspace(gamma_rv.ppf(0.0001),\n",
    "              gamma_rv.ppf(0.9999), 100)\n",
    "# График плотности\n",
    "plt.plot(x, gamma_rv.pdf(x),\n",
    "         'r-', lw=2, alpha=0.6, label='gamma pdf')\n",
    "# Гистограмма\n",
    "plt.hist(sample,density=True, histtype='stepfilled', alpha=0.5, bins='auto')\n",
    "plt.xlabel('Значение переменной')\n",
    "plt.ylabel('Вероятность')\n",
    "plt.show()\n",
    "# Матожидание есть среднее арифметическое выборки\n",
    "E = np.mean(sample)\n",
    "# Дисперсия\n",
    "D = np.var(sample)\n",
    "# Стандартное отклонение\n",
    "S = np.std(sample)\n",
    "frame = frame.append({'Распределение': 'Выборочное',\n",
    "                      'Вид': 'Гамма',\n",
    "                      'Объем выборки': '1',\n",
    "                      'Матожидание':round(E,3), \n",
    "                      'Дисперсия': round(D,3), \n",
    "                      'Отклонение': round(S,3),\n",
    "                      'Теор.Мато': 62,\n",
    "                      'Теор.Дисп': round((1200/1),3),\n",
    "                      'Теор.Откл': round((1200/1)**0.5,3)},ignore_index=True)\n",
    "frame"
   ]
  },
  {
   "cell_type": "markdown",
   "id": "77ebbd13",
   "metadata": {},
   "source": [
    "Как видно на графике, сгенерированная нами выборка случайной величины достаточно точно описывает исходное распределение."
   ]
  },
  {
   "cell_type": "markdown",
   "id": "4f350b4a",
   "metadata": {},
   "source": [
    "## Другие объёмы выборки"
   ]
  },
  {
   "cell_type": "markdown",
   "id": "52ba8722",
   "metadata": {},
   "source": [
    "Как утверждает центральная предельная теорема, распределение выборочных средних можно описать нормальным. Выборочное среднее, построенное по выборке n, можно приблизить нормальным распределением со средним значением, которое совпадает с математическим ожиданием исходной случайной величины и с дисперсией, которая равна дисперсии исходной случайной величины, поделенной на n. "
   ]
  },
  {
   "cell_type": "markdown",
   "id": "b43370c4",
   "metadata": {},
   "source": [
    "Посмотрим, как изменится график, а также ключевые параметры распределения с увеличением количества выборок\n",
    "т.е. возьмем 1000 раз не одну псевдослучайную величину, а среднее арифметическое от n псевдослучайных величин"
   ]
  },
  {
   "cell_type": "code",
   "execution_count": 6,
   "id": "07bb0352",
   "metadata": {},
   "outputs": [],
   "source": [
    "# Функция для формирования выборки усредненной по n\n",
    "def sample_average(n):\n",
    "    sample_aver = []\n",
    "    for i in range(1000):\n",
    "        # выбираем n случайных чисел из гамма-распределения и берем их среднее для каждого i\n",
    "        rval = gamma_rv.rvs(size=n)\n",
    "        sample_aver.append(np.mean(rval))\n",
    "    return sample_aver"
   ]
  },
  {
   "cell_type": "code",
   "execution_count": 7,
   "id": "0a9057f8",
   "metadata": {},
   "outputs": [],
   "source": [
    "# Функция для вывода на экран графиков и гистограмм\n",
    "def plot_all(sample_aver,i):\n",
    "    fig, axes = plt.subplots(figsize=(8,4))\n",
    "    plt.hist(sample_aver,density=True, histtype='stepfilled', alpha=0.5, bins='auto')\n",
    "    plt.xlabel('Значение переменной')\n",
    "    plt.ylabel('Вероятность')\n",
    "    axes.set_xlim([0,120])\n",
    "    axes.set_ylim([0,0.15])\n",
    "    print(\"Объем выборки: {}\".format(i))\n",
    "    #Описываем полученную выборку нормальным распределением с теоретическими показателями E и S.\n",
    "    plt.plot(sorted(sample_aver),[sts.norm.pdf(x, 62, (1200/i)**0.5) for x in sorted(sample_aver)],\n",
    "         color='red', lw=2)\n",
    "    plt.show()"
   ]
  },
  {
   "cell_type": "code",
   "execution_count": 8,
   "id": "eb800755",
   "metadata": {},
   "outputs": [
    {
     "name": "stdout",
     "output_type": "stream",
     "text": [
      "Объем выборки: 5\n"
     ]
    },
    {
     "data": {
      "image/png": "[encoded data removed]",
      "text/plain": [
       "<Figure size 576x288 with 1 Axes>"
      ]
     },
     "metadata": {
      "needs_background": "light"
     },
     "output_type": "display_data"
    },
    {
     "name": "stdout",
     "output_type": "stream",
     "text": [
      "Объем выборки: 10\n"
     ]
    },
    {
     "data": {
      "image/png": "[encoded data removed]",
      "text/plain": [
       "<Figure size 576x288 with 1 Axes>"
      ]
     },
     "metadata": {
      "needs_background": "light"
     },
     "output_type": "display_data"
    },
    {
     "name": "stdout",
     "output_type": "stream",
     "text": [
      "Объем выборки: 50\n"
     ]
    },
    {
     "data": {
      "image/png": "[encoded data removed]",
      "text/plain": [
       "<Figure size 576x288 with 1 Axes>"
      ]
     },
     "metadata": {
      "needs_background": "light"
     },
     "output_type": "display_data"
    },
    {
     "name": "stdout",
     "output_type": "stream",
     "text": [
      "Объем выборки: 100\n"
     ]
    },
    {
     "data": {
      "image/png": "[encoded data removed]",
      "text/plain": [
       "<Figure size 576x288 with 1 Axes>"
      ]
     },
     "metadata": {
      "needs_background": "light"
     },
     "output_type": "display_data"
    },
    {
     "data": {
      "text/html": [
       "<div>\n",
       "<style scoped>\n",
       "    .dataframe tbody tr th:only-of-type {\n",
       "        vertical-align: middle;\n",
       "    }\n",
       "\n",
       "    .dataframe tbody tr th {\n",
       "        vertical-align: top;\n",
       "    }\n",
       "\n",
       "    .dataframe thead th {\n",
       "        text-align: right;\n",
       "    }\n",
       "</style>\n",
       "<table border=\"1\" class=\"dataframe\">\n",
       "  <thead>\n",
       "    <tr style=\"text-align: right;\">\n",
       "      <th></th>\n",
       "      <th>Распределение</th>\n",
       "      <th>Вид</th>\n",
       "      <th>Объем выборки</th>\n",
       "      <th>Матожидание</th>\n",
       "      <th>Дисперсия</th>\n",
       "      <th>Отклонение</th>\n",
       "      <th>Теор.Мато</th>\n",
       "      <th>Теор.Дисп</th>\n",
       "      <th>Теор.Откл</th>\n",
       "    </tr>\n",
       "  </thead>\n",
       "  <tbody>\n",
       "    <tr>\n",
       "      <th>0</th>\n",
       "      <td>Исходное</td>\n",
       "      <td>Гамма</td>\n",
       "      <td>None</td>\n",
       "      <td>62.0</td>\n",
       "      <td>1200.0</td>\n",
       "      <td>34.641</td>\n",
       "      <td>62</td>\n",
       "      <td>1200.0</td>\n",
       "      <td>34.641</td>\n",
       "    </tr>\n",
       "    <tr>\n",
       "      <th>1</th>\n",
       "      <td>Выборочное</td>\n",
       "      <td>Гамма</td>\n",
       "      <td>1</td>\n",
       "      <td>62.786</td>\n",
       "      <td>1321.405</td>\n",
       "      <td>36.351</td>\n",
       "      <td>62</td>\n",
       "      <td>1200.0</td>\n",
       "      <td>34.641</td>\n",
       "    </tr>\n",
       "    <tr>\n",
       "      <th>2</th>\n",
       "      <td>Выборочное</td>\n",
       "      <td>Нормальное</td>\n",
       "      <td>5</td>\n",
       "      <td>61.8 (-0.4%)</td>\n",
       "      <td>2.31e+02 (-3.8%)</td>\n",
       "      <td>15.2 (-1.9%)</td>\n",
       "      <td>62</td>\n",
       "      <td>240.0</td>\n",
       "      <td>15.492</td>\n",
       "    </tr>\n",
       "    <tr>\n",
       "      <th>3</th>\n",
       "      <td>Выборочное</td>\n",
       "      <td>Нормальное</td>\n",
       "      <td>10</td>\n",
       "      <td>62.3 (0.41%)</td>\n",
       "      <td>1.26e+02 (5.1%)</td>\n",
       "      <td>11.2 (2.5%)</td>\n",
       "      <td>62</td>\n",
       "      <td>120.0</td>\n",
       "      <td>10.954</td>\n",
       "    </tr>\n",
       "    <tr>\n",
       "      <th>4</th>\n",
       "      <td>Выборочное</td>\n",
       "      <td>Нормальное</td>\n",
       "      <td>50</td>\n",
       "      <td>62.2 (0.31%)</td>\n",
       "      <td>25.0 (4.2%)</td>\n",
       "      <td>5.0 (2.1%)</td>\n",
       "      <td>62</td>\n",
       "      <td>24.0</td>\n",
       "      <td>4.899</td>\n",
       "    </tr>\n",
       "    <tr>\n",
       "      <th>5</th>\n",
       "      <td>Выборочное</td>\n",
       "      <td>Нормальное</td>\n",
       "      <td>100</td>\n",
       "      <td>62.1 (0.084%)</td>\n",
       "      <td>11.8 (-1.4%)</td>\n",
       "      <td>3.44 (-0.69%)</td>\n",
       "      <td>62</td>\n",
       "      <td>12.0</td>\n",
       "      <td>3.464</td>\n",
       "    </tr>\n",
       "  </tbody>\n",
       "</table>\n",
       "</div>"
      ],
      "text/plain": [
       "  Распределение         Вид Объем выборки    Матожидание         Дисперсия  \\\n",
       "0      Исходное       Гамма          None           62.0            1200.0   \n",
       "1    Выборочное       Гамма             1         62.786          1321.405   \n",
       "2    Выборочное  Нормальное             5   61.8 (-0.4%)  2.31e+02 (-3.8%)   \n",
       "3    Выборочное  Нормальное            10   62.3 (0.41%)   1.26e+02 (5.1%)   \n",
       "4    Выборочное  Нормальное            50   62.2 (0.31%)       25.0 (4.2%)   \n",
       "5    Выборочное  Нормальное           100  62.1 (0.084%)      11.8 (-1.4%)   \n",
       "\n",
       "      Отклонение  Теор.Мато  Теор.Дисп Теор.Откл  \n",
       "0         34.641         62     1200.0    34.641  \n",
       "1         36.351         62     1200.0    34.641  \n",
       "2   15.2 (-1.9%)         62      240.0    15.492  \n",
       "3    11.2 (2.5%)         62      120.0    10.954  \n",
       "4     5.0 (2.1%)         62       24.0     4.899  \n",
       "5  3.44 (-0.69%)         62       12.0     3.464  "
      ]
     },
     "execution_count": 8,
     "metadata": {},
     "output_type": "execute_result"
    }
   ],
   "source": [
    "# Определим значения n и произведем расчеты\n",
    "volume = [5,10,50,100]\n",
    "for i in volume:\n",
    "    sample_aver = sample_average(i)\n",
    "    plot_all(sample_aver,i)\n",
    "    E = np.mean(sample_aver)\n",
    "    D = np.var(sample_aver)\n",
    "    S = np.std(sample_aver)\n",
    "    frame = frame.append({'Распределение': 'Выборочное',\n",
    "                'Вид': 'Нормальное',\n",
    "                'Объем выборки': i,\n",
    "                 #Укажем дополнительно процент расхождения выборочных показателей с теоретическими\n",
    "                'Матожидание':'{:.3} ({:.2}%)'.format(E,(E*100/62)-100), \n",
    "                'Дисперсия': '{:.3} ({:.2}%)'.format(D,(D*100/(1200/i))-100), \n",
    "                'Отклонение': '{:.3} ({:.2}%)'.format(S,(S*100/(1200/i)**0.5)-100),\n",
    "                'Теор.Мато': 62,\n",
    "                'Теор.Дисп': round((1200/i),3),\n",
    "                'Теор.Откл': str(round((1200/i)**0.5,3))},ignore_index=True)\n",
    "    \n",
    "frame"
   ]
  },
  {
   "cell_type": "markdown",
   "id": "165db1bc",
   "metadata": {},
   "source": [
    "## Вывод"
   ]
  },
  {
   "cell_type": "markdown",
   "id": "751e0a5c",
   "metadata": {},
   "source": [
    "Итак, у нас есть сводная таблица параметров и графики при разных значениях n, на основании которых можно сделать несколько выводов:\n",
    "1. Увеличивая объём выборки, показатели дисперсии и стандартного отклонения уменьшаются.\n",
    "2. Псевдослучайные величины концентрируются с большей плотностью вокруг выборочного среднего с увеличением n.\n",
    "3. Выборочное среднее приближается к математическому ожиданию с увеличением n, более того становится точнее аппроксимация, но только до определенного предела (при n>50, разброс не только не уменьшается, но может и увеличиваться).\n",
    "4. Точность аппроксимации дисперсии и стандартного отклонения не растёт с увеличением n  "
   ]
  },
  {
   "cell_type": "code",
   "execution_count": null,
   "id": "d7ae03a4",
   "metadata": {},
   "outputs": [],
   "source": []
  }
 ],
 "metadata": {
  "kernelspec": {
   "display_name": "Python 3",
   "language": "python",
   "name": "python3"
  },
  "language_info": {
   "codemirror_mode": {
    "name": "ipython",
    "version": 3
   },
   "file_extension": ".py",
   "mimetype": "text/x-python",
   "name": "python",
   "nbconvert_exporter": "python",
   "pygments_lexer": "ipython3",
   "version": "3.8.8"
  }
 },
 "nbformat": 4,
 "nbformat_minor": 5
}
