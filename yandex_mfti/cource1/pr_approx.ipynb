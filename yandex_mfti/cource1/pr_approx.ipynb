{
 "cells": [
  {
   "cell_type": "markdown",
   "id": "97ef41fb",
   "metadata": {},
   "source": [
    "## Задача 2: аппроксимация функции"
   ]
  },
  {
   "cell_type": "code",
   "execution_count": 1,
   "id": "bc71c03e",
   "metadata": {},
   "outputs": [],
   "source": [
    "import numpy \n",
    "import scipy\n",
    "import re\n",
    "from scipy.spatial import distance"
   ]
  },
  {
   "cell_type": "code",
   "execution_count": 2,
   "id": "e92a90ce",
   "metadata": {},
   "outputs": [],
   "source": [
    "def f(x):\n",
    "    return(numpy.sin(x / 5) * numpy.exp(x / 10) + 5 * numpy.exp(-x / 2))"
   ]
  },
  {
   "cell_type": "code",
   "execution_count": 3,
   "id": "ffd1bdb2",
   "metadata": {},
   "outputs": [
    {
     "data": {
      "text/plain": [
       "array([ 3.43914511, -0.18692825])"
      ]
     },
     "execution_count": 3,
     "metadata": {},
     "output_type": "execute_result"
    }
   ],
   "source": [
    "A = numpy.array([[1, 1], [1, 15]])\n",
    "b = numpy.array([f(1), f(15)])\n",
    "\n",
    "scipy.linalg.solve(A, b)"
   ]
  },
  {
   "cell_type": "code",
   "execution_count": 4,
   "id": "58ee557d",
   "metadata": {},
   "outputs": [
    {
     "data": {
      "text/plain": [
       "array([ 3.32512949, -0.06531159, -0.00760104])"
      ]
     },
     "execution_count": 4,
     "metadata": {},
     "output_type": "execute_result"
    }
   ],
   "source": [
    "A = numpy.array([[1, 1, 1], [1, 8, 64], [1, 15, 225]])\n",
    "b = numpy.array([f(1), f(8), f(15)])\n",
    "\n",
    "scipy.linalg.solve(A, b)"
   ]
  },
  {
   "cell_type": "code",
   "execution_count": 5,
   "id": "44afbbdd",
   "metadata": {},
   "outputs": [],
   "source": [
    "A = numpy.array([[1, 1, 1, 1], [1, 4, 16, 64], [1, 10, 100, 1000], [1, 15, 225, 15**3]])\n",
    "b = numpy.array([f(1), f(4), f(10), f(15)])\n",
    "\n",
    "solution = scipy.linalg.solve(A, b)"
   ]
  },
  {
   "cell_type": "code",
   "execution_count": 6,
   "id": "47bec789",
   "metadata": {},
   "outputs": [],
   "source": [
    "subm = ''\n",
    "for w in solution:\n",
    "    subm += str(round(w, 2)) + ' '\n",
    "subm = subm.strip()"
   ]
  },
  {
   "cell_type": "code",
   "execution_count": 7,
   "id": "18f02a4a",
   "metadata": {},
   "outputs": [],
   "source": [
    "f = open('submission2.txt', 'w')\n",
    "f.write(subm)\n",
    "f.close()"
   ]
  }
 ],
 "metadata": {
  "kernelspec": {
   "display_name": "Python 3",
   "language": "python",
   "name": "python3"
  },
  "language_info": {
   "codemirror_mode": {
    "name": "ipython",
    "version": 3
   },
   "file_extension": ".py",
   "mimetype": "text/x-python",
   "name": "python",
   "nbconvert_exporter": "python",
   "pygments_lexer": "ipython3",
   "version": "3.8.8"
  }
 },
 "nbformat": 4,
 "nbformat_minor": 5
}
