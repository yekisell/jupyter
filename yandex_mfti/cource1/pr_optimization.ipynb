{
 "cells": [
  {
   "cell_type": "code",
   "execution_count": 28,
   "id": "0c2bae8c",
   "metadata": {},
   "outputs": [],
   "source": [
    "import numpy \n",
    "import scipy\n",
    "import scipy.optimize\n",
    "import re\n",
    "from scipy.spatial import distance\n",
    "from math import sin, exp\n",
    "import matplotlib.pyplot as plt"
   ]
  },
  {
   "cell_type": "code",
   "execution_count": 64,
   "id": "027e67bc",
   "metadata": {},
   "outputs": [],
   "source": [
    "def f(x):\n",
    "    return(sin(x / 5.0) * exp(x / 10.0) + 5 * exp(-x / 2.0))"
   ]
  },
  {
   "cell_type": "markdown",
   "id": "d9983a44",
   "metadata": {},
   "source": [
    "## Задача 1. Минимизация гладкой функции"
   ]
  },
  {
   "cell_type": "code",
   "execution_count": 22,
   "id": "f4553067",
   "metadata": {},
   "outputs": [],
   "source": [
    "x = numpy.arange(0, 30, 0.01)\n",
    "f_values = []\n",
    "for ix in x:\n",
    "    f_values.append(f(ix))"
   ]
  },
  {
   "cell_type": "code",
   "execution_count": 26,
   "id": "e369959b",
   "metadata": {},
   "outputs": [
    {
     "data": {
      "image/png": "[encoded data removed]",
      "text/plain": [
       "<Figure size 432x288 with 1 Axes>"
      ]
     },
     "metadata": {
      "needs_background": "light"
     },
     "output_type": "display_data"
    }
   ],
   "source": [
    "plt.plot(x, f_values, 'r-');"
   ]
  },
  {
   "cell_type": "code",
   "execution_count": 41,
   "id": "516c103b",
   "metadata": {},
   "outputs": [
    {
     "data": {
      "text/plain": [
       "      fun: 1.7452682903447336\n",
       " hess_inv: array([[5.98752645]])\n",
       "      jac: array([-2.04145908e-06])\n",
       "  message: 'Optimization terminated successfully.'\n",
       "     nfev: 14\n",
       "      nit: 6\n",
       "     njev: 7\n",
       "   status: 0\n",
       "  success: True\n",
       "        x: array([4.13627628])"
      ]
     },
     "execution_count": 41,
     "metadata": {},
     "output_type": "execute_result"
    }
   ],
   "source": [
    "scipy.optimize.minimize(f, 2.0)"
   ]
  },
  {
   "cell_type": "code",
   "execution_count": 46,
   "id": "5083d98e",
   "metadata": {},
   "outputs": [],
   "source": [
    "i1 = round(scipy.optimize.minimize(f, 2.0, method='BFGS').fun, 2)\n",
    "i2 = round(scipy.optimize.minimize(f, 30.0, method='BFGS').fun, 2)"
   ]
  },
  {
   "cell_type": "code",
   "execution_count": 47,
   "id": "3c91e8b7",
   "metadata": {},
   "outputs": [
    {
     "data": {
      "text/plain": [
       "(1.75, -11.9)"
      ]
     },
     "execution_count": 47,
     "metadata": {},
     "output_type": "execute_result"
    }
   ],
   "source": [
    "i1, i2"
   ]
  },
  {
   "cell_type": "code",
   "execution_count": 48,
   "id": "60f08e2e",
   "metadata": {},
   "outputs": [],
   "source": [
    "f = open('task1.txt', 'w')\n",
    "f.write(str(i1) + ' ' + str(i2))\n",
    "f.close()"
   ]
  },
  {
   "cell_type": "markdown",
   "id": "c58e9b0c",
   "metadata": {},
   "source": [
    "## Задача 2. Глобальная оптимизация"
   ]
  },
  {
   "cell_type": "code",
   "execution_count": 118,
   "id": "a600443a",
   "metadata": {},
   "outputs": [],
   "source": [
    "def f(x):\n",
    "    return(sin(x[0] / 5.0) * exp(x[0] / 10.0) + 5 * exp(-x[0] / 2.0))"
   ]
  },
  {
   "cell_type": "code",
   "execution_count": 119,
   "id": "88e84067",
   "metadata": {},
   "outputs": [
    {
     "data": {
      "text/plain": [
       "     fun: -11.89889466598053\n",
       "     jac: array([1.24344968e-06])\n",
       " message: 'Optimization terminated successfully.'\n",
       "    nfev: 68\n",
       "     nit: 3\n",
       " success: True\n",
       "       x: array([25.88019467])"
      ]
     },
     "execution_count": 119,
     "metadata": {},
     "output_type": "execute_result"
    }
   ],
   "source": [
    "scipy.optimize.differential_evolution(f, [(1., 30.)])"
   ]
  },
  {
   "cell_type": "code",
   "execution_count": 120,
   "id": "d0143650",
   "metadata": {},
   "outputs": [],
   "source": [
    "i3 = round(scipy.optimize.differential_evolution(f, [(1., 30.)]).fun, 2)"
   ]
  },
  {
   "cell_type": "code",
   "execution_count": 71,
   "id": "60367e51",
   "metadata": {},
   "outputs": [],
   "source": [
    "f = open('task2.txt', 'w')\n",
    "f.write(str(i3))\n",
    "f.close()"
   ]
  },
  {
   "cell_type": "markdown",
   "id": "8fdb953c",
   "metadata": {},
   "source": [
    "## Задача 3. Минимизация негладкой функции"
   ]
  },
  {
   "cell_type": "code",
   "execution_count": 86,
   "id": "1b89245e",
   "metadata": {},
   "outputs": [],
   "source": [
    "def h(x):\n",
    "    return int(sin(x / 5.0) * exp(x / 10.0) + 5 * exp(-x / 2.0))"
   ]
  },
  {
   "cell_type": "code",
   "execution_count": 90,
   "id": "880e322d",
   "metadata": {
    "scrolled": true
   },
   "outputs": [],
   "source": [
    "x = numpy.arange(0, 30, 0.01)\n",
    "h_values = []\n",
    "for ix in x:\n",
    "    h_values.append(h(ix))"
   ]
  },
  {
   "cell_type": "code",
   "execution_count": 92,
   "id": "65527cb1",
   "metadata": {},
   "outputs": [
    {
     "data": {
      "image/png": "[encoded data removed]",
      "text/plain": [
       "<Figure size 432x288 with 1 Axes>"
      ]
     },
     "metadata": {
      "needs_background": "light"
     },
     "output_type": "display_data"
    }
   ],
   "source": [
    "plt.plot(x, h_values, 'g-');"
   ]
  },
  {
   "cell_type": "code",
   "execution_count": 123,
   "id": "63d8e8c3",
   "metadata": {},
   "outputs": [
    {
     "data": {
      "text/plain": [
       "      fun: -5\n",
       " hess_inv: array([[1]])\n",
       "      jac: array([0.])\n",
       "  message: 'Optimization terminated successfully.'\n",
       "     nfev: 2\n",
       "      nit: 0\n",
       "     njev: 1\n",
       "   status: 0\n",
       "  success: True\n",
       "        x: array([30.])"
      ]
     },
     "execution_count": 123,
     "metadata": {},
     "output_type": "execute_result"
    }
   ],
   "source": [
    "scipy.optimize.minimize(h, 30.0, method='BFGS')"
   ]
  },
  {
   "cell_type": "code",
   "execution_count": 115,
   "id": "f02d6602",
   "metadata": {},
   "outputs": [
    {
     "data": {
      "text/plain": [
       "     fun: -11.0\n",
       " message: 'Optimization terminated successfully.'\n",
       "    nfev: 77\n",
       "     nit: 4\n",
       " success: True\n",
       "       x: array([25.2348511])"
      ]
     },
     "execution_count": 115,
     "metadata": {},
     "output_type": "execute_result"
    }
   ],
   "source": [
    "scipy.optimize.differential_evolution(h, [(1., 30.)])"
   ]
  },
  {
   "cell_type": "code",
   "execution_count": 124,
   "id": "285f55d4",
   "metadata": {},
   "outputs": [],
   "source": [
    "i4 = scipy.optimize.minimize(h, 30.0, method='BFGS').fun\n",
    "i5 = scipy.optimize.differential_evolution(h, [(1., 30.)]).fun"
   ]
  },
  {
   "cell_type": "code",
   "execution_count": 126,
   "id": "41d49aaa",
   "metadata": {},
   "outputs": [],
   "source": [
    "f = open('task3.txt', 'w')\n",
    "f.write(str(i4) + ' ' + str(int(i5)))\n",
    "f.close()"
   ]
  },
  {
   "cell_type": "code",
   "execution_count": null,
   "id": "52a7187d",
   "metadata": {},
   "outputs": [],
   "source": []
  }
 ],
 "metadata": {
  "kernelspec": {
   "display_name": "Python 3",
   "language": "python",
   "name": "python3"
  },
  "language_info": {
   "codemirror_mode": {
    "name": "ipython",
    "version": 3
   },
   "file_extension": ".py",
   "mimetype": "text/x-python",
   "name": "python",
   "nbconvert_exporter": "python",
   "pygments_lexer": "ipython3",
   "version": "3.8.8"
  }
 },
 "nbformat": 4,
 "nbformat_minor": 5
}
