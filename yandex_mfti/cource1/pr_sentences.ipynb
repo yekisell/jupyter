{
 "cells": [
  {
   "cell_type": "markdown",
   "id": "7b012c28",
   "metadata": {},
   "source": [
    "## Задача 1: сравнение предложений"
   ]
  },
  {
   "cell_type": "code",
   "execution_count": 421,
   "id": "68574974",
   "metadata": {},
   "outputs": [],
   "source": [
    "import numpy \n",
    "import scipy\n",
    "import re\n",
    "from scipy.spatial import distance"
   ]
  },
  {
   "cell_type": "code",
   "execution_count": 422,
   "id": "9a3c2231",
   "metadata": {},
   "outputs": [],
   "source": [
    "f = open('sentences.txt', 'r')"
   ]
  },
  {
   "cell_type": "code",
   "execution_count": 423,
   "id": "e6852836",
   "metadata": {},
   "outputs": [],
   "source": [
    "sentences = []\n",
    "for line in f:\n",
    "    sentences.append(line.strip().lower())\n",
    "f.close()"
   ]
  },
  {
   "cell_type": "code",
   "execution_count": 424,
   "id": "2309103f",
   "metadata": {},
   "outputs": [],
   "source": [
    "tokenized_sentences = []\n",
    "for sentence in sentences:\n",
    "    tokenized_sentences.append(re.split('[^a-z]', sentence))"
   ]
  },
  {
   "cell_type": "code",
   "execution_count": 425,
   "id": "ffeb0d2e",
   "metadata": {
    "scrolled": false
   },
   "outputs": [],
   "source": [
    "for tokenized_sentence in tokenized_sentences:\n",
    "    while '' in tokenized_sentence:\n",
    "        tokenized_sentence.remove('')"
   ]
  },
  {
   "cell_type": "code",
   "execution_count": 426,
   "id": "b3959785",
   "metadata": {},
   "outputs": [],
   "source": [
    "n = len(tokenized_sentences)"
   ]
  },
  {
   "cell_type": "code",
   "execution_count": 427,
   "id": "d720e45d",
   "metadata": {},
   "outputs": [],
   "source": [
    "dictionary = {}\n",
    "d = -1\n",
    "for tokenized_sentence in tokenized_sentences:\n",
    "    for word in tokenized_sentence:\n",
    "        if word not in dictionary:\n",
    "            d += 1\n",
    "            dictionary[word] = d"
   ]
  },
  {
   "cell_type": "code",
   "execution_count": 428,
   "id": "fdca00e7",
   "metadata": {},
   "outputs": [],
   "source": [
    "mtx = numpy.zeros((n, d + 1))"
   ]
  },
  {
   "cell_type": "code",
   "execution_count": 429,
   "id": "8d9aea55",
   "metadata": {},
   "outputs": [],
   "source": [
    "for i, tokenized_sentence in enumerate(tokenized_sentences):\n",
    "    for token in tokenized_sentence:\n",
    "        mtx[i, dictionary[token]] += 1"
   ]
  },
  {
   "cell_type": "code",
   "execution_count": 442,
   "id": "ff0dba03",
   "metadata": {},
   "outputs": [],
   "source": [
    "distances = []\n",
    "for i in range(n):\n",
    "    distances.append(distance.cosine(mtx[0], mtx[i]))"
   ]
  },
  {
   "cell_type": "code",
   "execution_count": 443,
   "id": "bd392c2b",
   "metadata": {},
   "outputs": [
    {
     "data": {
      "text/plain": [
       "[0.0,\n",
       " 0.9527544408738466,\n",
       " 0.8644738145642124,\n",
       " 0.8951715163278082,\n",
       " 0.7770887149698589,\n",
       " 0.9402385695332803,\n",
       " 0.7327387580875756,\n",
       " 0.9258750683338899,\n",
       " 0.8842724875284311,\n",
       " 0.9055088817476932,\n",
       " 0.8328165362273942,\n",
       " 0.8804771390665607,\n",
       " 0.8396432548525454,\n",
       " 0.8703592552895671,\n",
       " 0.8740118423302576,\n",
       " 0.9442721787424647,\n",
       " 0.8406361854220809,\n",
       " 0.956644501523794,\n",
       " 0.9442721787424647,\n",
       " 0.8885443574849294,\n",
       " 0.8427572744917122,\n",
       " 0.8250364469440588]"
      ]
     },
     "execution_count": 443,
     "metadata": {},
     "output_type": "execute_result"
    }
   ],
   "source": [
    "distances"
   ]
  },
  {
   "cell_type": "code",
   "execution_count": 444,
   "id": "4220c765",
   "metadata": {},
   "outputs": [],
   "source": [
    "f = open('submission1.txt', 'w')"
   ]
  },
  {
   "cell_type": "code",
   "execution_count": 445,
   "id": "14ba2dc1",
   "metadata": {},
   "outputs": [],
   "source": [
    "distances.remove(min(distances))\n",
    "for i, dt in enumerate(distances):\n",
    "    if dt == min(distances):\n",
    "        i1 = i\n",
    "distances.remove(min(distances))\n",
    "for i, dt in enumerate(distances):\n",
    "    if dt == min(distances):\n",
    "        i2 = i"
   ]
  },
  {
   "cell_type": "code",
   "execution_count": 446,
   "id": "2a6c136a",
   "metadata": {},
   "outputs": [
    {
     "data": {
      "text/plain": [
       "(5, 3)"
      ]
     },
     "execution_count": 446,
     "metadata": {},
     "output_type": "execute_result"
    }
   ],
   "source": [
    "i1, i2"
   ]
  },
  {
   "cell_type": "code",
   "execution_count": 447,
   "id": "8faa5155",
   "metadata": {},
   "outputs": [],
   "source": [
    "f.write(str(i1 + 1) + ' ' + str(i2 + 1))\n",
    "f.close()"
   ]
  },
  {
   "cell_type": "code",
   "execution_count": null,
   "id": "98908a7c",
   "metadata": {},
   "outputs": [],
   "source": []
  }
 ],
 "metadata": {
  "kernelspec": {
   "display_name": "Python 3",
   "language": "python",
   "name": "python3"
  },
  "language_info": {
   "codemirror_mode": {
    "name": "ipython",
    "version": 3
   },
   "file_extension": ".py",
   "mimetype": "text/x-python",
   "name": "python",
   "nbconvert_exporter": "python",
   "pygments_lexer": "ipython3",
   "version": "3.8.8"
  }
 },
 "nbformat": 4,
 "nbformat_minor": 5
}
