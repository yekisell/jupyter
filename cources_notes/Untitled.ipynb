{
 "cells": [
  {
   "cell_type": "code",
   "execution_count": 39,
   "id": "b5c2051c",
   "metadata": {},
   "outputs": [],
   "source": [
    "analyst_data = {'Anatoly': [2, 1000], 'Olga' : [3, 10000], 'Beslan' : [4, 100000]}"
   ]
  },
  {
   "cell_type": "code",
   "execution_count": 43,
   "id": "a024e0b5",
   "metadata": {},
   "outputs": [],
   "source": [
    "analyst_data['Michael'] = [10, 1000000]"
   ]
  },
  {
   "cell_type": "code",
   "execution_count": 44,
   "id": "958cae94",
   "metadata": {},
   "outputs": [
    {
     "data": {
      "text/plain": [
       "{'Anatoly': [2, 1000],\n",
       " 'Olga': [3, 10000],\n",
       " 'Beslan': [4, 100000],\n",
       " 'Michael': [10, 1000000]}"
      ]
     },
     "execution_count": 44,
     "metadata": {},
     "output_type": "execute_result"
    }
   ],
   "source": [
    "analyst_data"
   ]
  },
  {
   "cell_type": "code",
   "execution_count": 45,
   "id": "2c553e15",
   "metadata": {},
   "outputs": [
    {
     "name": "stdout",
     "output_type": "stream",
     "text": [
      "[2, 1000]\n",
      "[3, 10000]\n",
      "[4, 100000]\n",
      "[10, 1000000]\n"
     ]
    }
   ],
   "source": [
    "for i in analyst_data:\n",
    "    print(analyst_data[i])"
   ]
  },
  {
   "cell_type": "code",
   "execution_count": 46,
   "id": "cadfbfa8",
   "metadata": {},
   "outputs": [],
   "source": [
    "user_ages = [10, 18, 21, 35, 42, 27, 12, 16]"
   ]
  },
  {
   "cell_type": "code",
   "execution_count": 47,
   "id": "ce161589",
   "metadata": {
    "scrolled": false
   },
   "outputs": [
    {
     "name": "stdout",
     "output_type": "stream",
     "text": [
      "21\n",
      "35\n",
      "42\n",
      "27\n"
     ]
    }
   ],
   "source": [
    "for i in range(len(user_ages)):\n",
    "    if user_ages[i] > 18:\n",
    "        print(user_ages[i])"
   ]
  },
  {
   "cell_type": "code",
   "execution_count": 49,
   "id": "809b701d",
   "metadata": {},
   "outputs": [],
   "source": [
    "worker = ['Olya', 'Silyutina', 350000, 3]"
   ]
  },
  {
   "cell_type": "code",
   "execution_count": 52,
   "id": "c79b308a",
   "metadata": {},
   "outputs": [],
   "source": [
    "status = \"{user_name} {user_family} is {position}\""
   ]
  },
  {
   "cell_type": "code",
   "execution_count": 53,
   "id": "954ddd54",
   "metadata": {},
   "outputs": [],
   "source": [
    "if worker[3] < 2:\n",
    "    pos = 'junior'\n",
    "elif worker[3] > 5:\n",
    "    pos = 'senior'\n",
    "else:\n",
    "    pos = 'middle'"
   ]
  },
  {
   "cell_type": "code",
   "execution_count": 55,
   "id": "3c15ccf3",
   "metadata": {},
   "outputs": [
    {
     "data": {
      "text/plain": [
       "'Olya Silyutina is middle'"
      ]
     },
     "execution_count": 55,
     "metadata": {},
     "output_type": "execute_result"
    }
   ],
   "source": [
    "status = status.format(user_name = worker[0], user_family = worker[1], position = pos)\n",
    "status"
   ]
  },
  {
   "cell_type": "code",
   "execution_count": null,
   "id": "48e64479",
   "metadata": {},
   "outputs": [],
   "source": []
  },
  {
   "cell_type": "code",
   "execution_count": 56,
   "id": "31d2e488",
   "metadata": {},
   "outputs": [],
   "source": [
    "values = [12, 134, 10, 47, 100, 20, 50, 160, 210]"
   ]
  },
  {
   "cell_type": "code",
   "execution_count": 58,
   "id": "2fb5cb51",
   "metadata": {},
   "outputs": [],
   "source": [
    "tens = []\n",
    "for value in values:\n",
    "    if value % 10 == 0:\n",
    "        tens.append(value)"
   ]
  },
  {
   "cell_type": "code",
   "execution_count": 59,
   "id": "67c6a01d",
   "metadata": {},
   "outputs": [
    {
     "data": {
      "text/plain": [
       "[10, 100, 20, 50, 160, 210]"
      ]
     },
     "execution_count": 59,
     "metadata": {},
     "output_type": "execute_result"
    }
   ],
   "source": [
    "tens"
   ]
  },
  {
   "cell_type": "code",
   "execution_count": null,
   "id": "04507df5",
   "metadata": {},
   "outputs": [],
   "source": []
  },
  {
   "cell_type": "code",
   "execution_count": 60,
   "id": "e71df620",
   "metadata": {},
   "outputs": [],
   "source": [
    "workers = [['Ivan', 'Ivanov', 100000, 2], ['Petr', 'Petrov', 150000, 2], ['Sidor', 'Sidorov', 200000, 3]]"
   ]
  },
  {
   "cell_type": "code",
   "execution_count": 61,
   "id": "feb4a156",
   "metadata": {},
   "outputs": [
    {
     "name": "stdout",
     "output_type": "stream",
     "text": [
      "Ivan Ivanov is middle\n",
      "Petr Petrov is middle\n",
      "Sidor Sidorov is middle\n"
     ]
    }
   ],
   "source": [
    "for worker in workers:\n",
    "    status = \"{user_name} {user_family} is {position}\"\n",
    "    if worker[3] < 2:\n",
    "        pos = 'junior'\n",
    "    elif worker[3] > 5:\n",
    "        pos = 'senior'\n",
    "    else:\n",
    "        pos = 'middle'\n",
    "    status = status.format(user_name = worker[0], user_family = worker[1], position = pos)\n",
    "    print(status)"
   ]
  },
  {
   "cell_type": "code",
   "execution_count": null,
   "id": "a7dc0601",
   "metadata": {},
   "outputs": [],
   "source": []
  }
 ],
 "metadata": {
  "kernelspec": {
   "display_name": "Python 3",
   "language": "python",
   "name": "python3"
  },
  "language_info": {
   "codemirror_mode": {
    "name": "ipython",
    "version": 3
   },
   "file_extension": ".py",
   "mimetype": "text/x-python",
   "name": "python",
   "nbconvert_exporter": "python",
   "pygments_lexer": "ipython3",
   "version": "3.8.8"
  }
 },
 "nbformat": 4,
 "nbformat_minor": 5
}
