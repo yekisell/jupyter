{
 "cells": [
  {
   "cell_type": "code",
   "execution_count": 1,
   "id": "95980402",
   "metadata": {},
   "outputs": [],
   "source": [
    "%matplotlib inline\n",
    "# отключим предупреждения Anaconda\n",
    "import warnings\n",
    "\n",
    "import matplotlib.pyplot as plt\n",
    "import seaborn as sns\n",
    "\n",
    "warnings.filterwarnings(\"ignore\")\n",
    "import numpy as np\n",
    "import pandas as pd"
   ]
  },
  {
   "cell_type": "code",
   "execution_count": 2,
   "id": "84fad26b",
   "metadata": {},
   "outputs": [],
   "source": [
    "def delete_nan(table):\n",
    "    for col in table.columns:\n",
    "        table[col] = table[col].fillna(table[col].median())\n",
    "    return table"
   ]
  },
  {
   "cell_type": "code",
   "execution_count": 4,
   "id": "b2a980c3",
   "metadata": {},
   "outputs": [
    {
     "data": {
      "text/html": [
       "<div>\n",
       "<style scoped>\n",
       "    .dataframe tbody tr th:only-of-type {\n",
       "        vertical-align: middle;\n",
       "    }\n",
       "\n",
       "    .dataframe tbody tr th {\n",
       "        vertical-align: top;\n",
       "    }\n",
       "\n",
       "    .dataframe thead th {\n",
       "        text-align: right;\n",
       "    }\n",
       "</style>\n",
       "<table border=\"1\" class=\"dataframe\">\n",
       "  <thead>\n",
       "    <tr style=\"text-align: right;\">\n",
       "      <th></th>\n",
       "      <th>SeriousDlqin2yrs</th>\n",
       "      <th>age</th>\n",
       "      <th>NumberOfTime30-59DaysPastDueNotWorse</th>\n",
       "      <th>DebtRatio</th>\n",
       "      <th>NumberOfTimes90DaysLate</th>\n",
       "      <th>NumberOfTime60-89DaysPastDueNotWorse</th>\n",
       "      <th>MonthlyIncome</th>\n",
       "      <th>NumberOfDependents</th>\n",
       "    </tr>\n",
       "  </thead>\n",
       "  <tbody>\n",
       "    <tr>\n",
       "      <th>0</th>\n",
       "      <td>0</td>\n",
       "      <td>64</td>\n",
       "      <td>0</td>\n",
       "      <td>0.249908</td>\n",
       "      <td>0</td>\n",
       "      <td>0</td>\n",
       "      <td>8158.0</td>\n",
       "      <td>0.0</td>\n",
       "    </tr>\n",
       "    <tr>\n",
       "      <th>1</th>\n",
       "      <td>0</td>\n",
       "      <td>58</td>\n",
       "      <td>0</td>\n",
       "      <td>3870.000000</td>\n",
       "      <td>0</td>\n",
       "      <td>0</td>\n",
       "      <td>NaN</td>\n",
       "      <td>0.0</td>\n",
       "    </tr>\n",
       "    <tr>\n",
       "      <th>2</th>\n",
       "      <td>0</td>\n",
       "      <td>41</td>\n",
       "      <td>0</td>\n",
       "      <td>0.456127</td>\n",
       "      <td>0</td>\n",
       "      <td>0</td>\n",
       "      <td>6666.0</td>\n",
       "      <td>0.0</td>\n",
       "    </tr>\n",
       "    <tr>\n",
       "      <th>3</th>\n",
       "      <td>0</td>\n",
       "      <td>43</td>\n",
       "      <td>0</td>\n",
       "      <td>0.000190</td>\n",
       "      <td>0</td>\n",
       "      <td>0</td>\n",
       "      <td>10500.0</td>\n",
       "      <td>2.0</td>\n",
       "    </tr>\n",
       "    <tr>\n",
       "      <th>4</th>\n",
       "      <td>1</td>\n",
       "      <td>49</td>\n",
       "      <td>0</td>\n",
       "      <td>0.271820</td>\n",
       "      <td>0</td>\n",
       "      <td>0</td>\n",
       "      <td>400.0</td>\n",
       "      <td>0.0</td>\n",
       "    </tr>\n",
       "  </tbody>\n",
       "</table>\n",
       "</div>"
      ],
      "text/plain": [
       "   SeriousDlqin2yrs  age  NumberOfTime30-59DaysPastDueNotWorse    DebtRatio  \\\n",
       "0                 0   64                                     0     0.249908   \n",
       "1                 0   58                                     0  3870.000000   \n",
       "2                 0   41                                     0     0.456127   \n",
       "3                 0   43                                     0     0.000190   \n",
       "4                 1   49                                     0     0.271820   \n",
       "\n",
       "   NumberOfTimes90DaysLate  NumberOfTime60-89DaysPastDueNotWorse  \\\n",
       "0                        0                                     0   \n",
       "1                        0                                     0   \n",
       "2                        0                                     0   \n",
       "3                        0                                     0   \n",
       "4                        0                                     0   \n",
       "\n",
       "   MonthlyIncome  NumberOfDependents  \n",
       "0         8158.0                 0.0  \n",
       "1            NaN                 0.0  \n",
       "2         6666.0                 0.0  \n",
       "3        10500.0                 2.0  \n",
       "4          400.0                 0.0  "
      ]
     },
     "execution_count": 4,
     "metadata": {},
     "output_type": "execute_result"
    }
   ],
   "source": [
    "data = pd.read_csv('https://raw.githubusercontent.com/Yorko/mlcourse.ai/master/data/credit_scoring_sample.csv', sep=';')\n",
    "data.head()"
   ]
  },
  {
   "cell_type": "code",
   "execution_count": 5,
   "id": "7eaa5093",
   "metadata": {},
   "outputs": [
    {
     "data": {
      "text/plain": [
       "SeriousDlqin2yrs                          int64\n",
       "age                                       int64\n",
       "NumberOfTime30-59DaysPastDueNotWorse      int64\n",
       "DebtRatio                               float64\n",
       "NumberOfTimes90DaysLate                   int64\n",
       "NumberOfTime60-89DaysPastDueNotWorse      int64\n",
       "MonthlyIncome                           float64\n",
       "NumberOfDependents                      float64\n",
       "dtype: object"
      ]
     },
     "execution_count": 5,
     "metadata": {},
     "output_type": "execute_result"
    }
   ],
   "source": [
    "data.dtypes"
   ]
  },
  {
   "cell_type": "code",
   "execution_count": 10,
   "id": "e1f247e8",
   "metadata": {},
   "outputs": [
    {
     "name": "stdout",
     "output_type": "stream",
     "text": [
      "Distribution of target\n"
     ]
    },
    {
     "data": {
      "text/plain": [
       "0    0.777511\n",
       "1    0.222489\n",
       "Name: SeriousDlqin2yrs, dtype: float64"
      ]
     },
     "execution_count": 10,
     "metadata": {},
     "output_type": "execute_result"
    },
    {
     "data": {
      "image/png": "[encoded data removed]",
      "text/plain": [
       "<Figure size 432x288 with 1 Axes>"
      ]
     },
     "metadata": {
      "needs_background": "light"
     },
     "output_type": "display_data"
    }
   ],
   "source": [
    "ax = data.SeriousDlqin2yrs.hist(orientation=\"horizontal\", color=\"red\")\n",
    "ax.set_xlabel(\"number_of_observations\")\n",
    "ax.set_ylabel(\"unique_value\")\n",
    "ax.set_title(\"Target distribution\")\n",
    "\n",
    "print(\"Distribution of target\")\n",
    "data[\"SeriousDlqin2yrs\"].value_counts(normalize=True)"
   ]
  },
  {
   "cell_type": "code",
   "execution_count": 11,
   "id": "08b919da",
   "metadata": {},
   "outputs": [
    {
     "data": {
      "text/plain": [
       "['age',\n",
       " 'NumberOfTime30-59DaysPastDueNotWorse',\n",
       " 'DebtRatio',\n",
       " 'NumberOfTimes90DaysLate',\n",
       " 'NumberOfTime60-89DaysPastDueNotWorse',\n",
       " 'MonthlyIncome',\n",
       " 'NumberOfDependents']"
      ]
     },
     "execution_count": 11,
     "metadata": {},
     "output_type": "execute_result"
    }
   ],
   "source": [
    "independent_columns_names = data.columns.values\n",
    "independent_columns_names = [x for x in data if x != \"SeriousDlqin2yrs\"]\n",
    "independent_columns_names"
   ]
  },
  {
   "cell_type": "code",
   "execution_count": 12,
   "id": "5ee00c07",
   "metadata": {},
   "outputs": [],
   "source": [
    "table = delete_nan(data)"
   ]
  },
  {
   "cell_type": "code",
   "execution_count": 13,
   "id": "7b19dfd5",
   "metadata": {},
   "outputs": [],
   "source": [
    "X = table[independent_columns_names]\n",
    "y = table[\"SeriousDlqin2yrs\"]"
   ]
  },
  {
   "cell_type": "markdown",
   "id": "3391df7f",
   "metadata": {},
   "source": [
    "# Бутстрэп"
   ]
  },
  {
   "cell_type": "code",
   "execution_count": 15,
   "id": "386602e9",
   "metadata": {},
   "outputs": [],
   "source": [
    "def get_bootstrap_samples(data, n_samples):\n",
    "    # функция для генерации подвыборок с помощью бутстрэпа\n",
    "    indices = np.random.randint(0, len(data), (n_samples, len(data)))\n",
    "    samples = data[indices]\n",
    "    return samples\n",
    "def stat_intervals(stat, alpha):\n",
    "    # функция для интервальной оценки\n",
    "    boundaries = np.percentile(stat, [100 * alpha / 2., 100 * (1 - alpha / 2.)])\n",
    "    return boundaries"
   ]
  },
  {
   "cell_type": "code",
   "execution_count": 16,
   "id": "305b3834",
   "metadata": {},
   "outputs": [],
   "source": [
    "late_folks = data[data['SeriousDlqin2yrs'] == 1]['age'].values"
   ]
  },
  {
   "cell_type": "code",
   "execution_count": 17,
   "id": "fcf2b443",
   "metadata": {},
   "outputs": [],
   "source": [
    "np.random.seed(0)"
   ]
  },
  {
   "cell_type": "code",
   "execution_count": 18,
   "id": "ee192ea7",
   "metadata": {},
   "outputs": [],
   "source": [
    "late_folks_scores = [np.mean(sample) for sample in get_bootstrap_samples(late_folks, 1000)]"
   ]
  },
  {
   "cell_type": "code",
   "execution_count": 20,
   "id": "2ab44333",
   "metadata": {},
   "outputs": [
    {
     "name": "stdout",
     "output_type": "stream",
     "text": [
      "Age for late: mean interval [45.71379414 46.12700479]\n"
     ]
    }
   ],
   "source": [
    "print(\"Age for late: mean interval\",  stat_intervals(late_folks_scores, 0.1))"
   ]
  },
  {
   "cell_type": "code",
   "execution_count": null,
   "id": "2025b812",
   "metadata": {},
   "outputs": [],
   "source": []
  },
  {
   "cell_type": "markdown",
   "id": "209e3848",
   "metadata": {},
   "source": [
    "# Подбор параметров для модели логистической регрессии"
   ]
  },
  {
   "cell_type": "code",
   "execution_count": 21,
   "id": "fb52d8e0",
   "metadata": {},
   "outputs": [],
   "source": [
    "from sklearn.linear_model import LogisticRegression\n",
    "from sklearn.model_selection import GridSearchCV, StratifiedKFold"
   ]
  },
  {
   "cell_type": "code",
   "execution_count": 22,
   "id": "69453a2d",
   "metadata": {},
   "outputs": [],
   "source": [
    "lr = LogisticRegression(random_state=5, class_weight=\"balanced\")"
   ]
  },
  {
   "cell_type": "code",
   "execution_count": 23,
   "id": "c88ec9e4",
   "metadata": {},
   "outputs": [],
   "source": [
    "parameters = {\"C\": (0.0001, 0.001, 0.01, 0.1, 1, 10)}"
   ]
  },
  {
   "cell_type": "code",
   "execution_count": 24,
   "id": "21efc7a8",
   "metadata": {},
   "outputs": [],
   "source": [
    "skf = StratifiedKFold(n_splits=5, shuffle=True, random_state=5)"
   ]
  },
  {
   "cell_type": "code",
   "execution_count": 32,
   "id": "148552a7",
   "metadata": {},
   "outputs": [],
   "source": [
    "grid_linear_model = GridSearchCV(lr, parameters, cv=skf, scoring='roc_auc')"
   ]
  },
  {
   "cell_type": "code",
   "execution_count": 33,
   "id": "5a09e08f",
   "metadata": {},
   "outputs": [
    {
     "data": {
      "text/plain": [
       "GridSearchCV(cv=StratifiedKFold(n_splits=5, random_state=5, shuffle=True),\n",
       "             estimator=LogisticRegression(class_weight='balanced',\n",
       "                                          random_state=5),\n",
       "             param_grid={'C': (0.0001, 0.001, 0.01, 0.1, 1, 10)},\n",
       "             scoring='roc_auc')"
      ]
     },
     "execution_count": 33,
     "metadata": {},
     "output_type": "execute_result"
    }
   ],
   "source": [
    "grid_linear_model.fit(X, y)"
   ]
  },
  {
   "cell_type": "code",
   "execution_count": 50,
   "id": "99c3aacf",
   "metadata": {},
   "outputs": [
    {
     "data": {
      "text/plain": [
       "0.006391021712033982"
      ]
     },
     "execution_count": 50,
     "metadata": {},
     "output_type": "execute_result"
    }
   ],
   "source": [
    "np.std(grid_linear_model.cv_results_['mean_test_score'])"
   ]
  },
  {
   "cell_type": "code",
   "execution_count": 41,
   "id": "4545a8f7",
   "metadata": {},
   "outputs": [
    {
     "data": {
      "text/plain": [
       "0.8089120626797153"
      ]
     },
     "execution_count": 41,
     "metadata": {},
     "output_type": "execute_result"
    }
   ],
   "source": [
    "grid_linear_model.best_score_"
   ]
  },
  {
   "cell_type": "code",
   "execution_count": null,
   "id": "1a469a91",
   "metadata": {},
   "outputs": [],
   "source": []
  },
  {
   "cell_type": "markdown",
   "id": "a7070c39",
   "metadata": {},
   "source": [
    "# Определение влияния признаков"
   ]
  },
  {
   "cell_type": "code",
   "execution_count": 42,
   "id": "b0698f41",
   "metadata": {},
   "outputs": [],
   "source": [
    "best_lr = grid_linear_model.best_estimator_"
   ]
  },
  {
   "cell_type": "code",
   "execution_count": 44,
   "id": "9d2d28fa",
   "metadata": {},
   "outputs": [
    {
     "data": {
      "text/plain": [
       "LogisticRegression(C=0.001, class_weight='balanced', random_state=5)"
      ]
     },
     "execution_count": 44,
     "metadata": {},
     "output_type": "execute_result"
    }
   ],
   "source": [
    "best_lr.fit(X, y)"
   ]
  },
  {
   "cell_type": "code",
   "execution_count": 65,
   "id": "49e62f0d",
   "metadata": {},
   "outputs": [],
   "source": [
    "features = pd.DataFrame(best_lr.coef_.T, X.columns, columns=['coefficient'])"
   ]
  },
  {
   "cell_type": "code",
   "execution_count": 66,
   "id": "15f7edf5",
   "metadata": {},
   "outputs": [],
   "source": [
    "features.coefficient = features.coefficient.abs()"
   ]
  },
  {
   "cell_type": "code",
   "execution_count": 71,
   "id": "5677e1d4",
   "metadata": {},
   "outputs": [],
   "source": [
    "importance = best_lr.coef_[0]"
   ]
  },
  {
   "cell_type": "code",
   "execution_count": 72,
   "id": "30d36a71",
   "metadata": {},
   "outputs": [
    {
     "data": {
      "text/plain": [
       "array([1.36553860e-02, 4.46826437e-01, 6.49615365e-06, 3.90375740e-01,\n",
       "       2.16036140e-01, 1.14751808e-05, 1.91722892e-01])"
      ]
     },
     "execution_count": 72,
     "metadata": {},
     "output_type": "execute_result"
    }
   ],
   "source": [
    "importance"
   ]
  },
  {
   "cell_type": "code",
   "execution_count": 74,
   "id": "532f86dc",
   "metadata": {},
   "outputs": [
    {
     "name": "stdout",
     "output_type": "stream",
     "text": [
      "age: 0.01366\n",
      "NumberOfTime30-59DaysPastDueNotWorse: 0.44683\n",
      "DebtRatio: 0.00001\n",
      "NumberOfTimes90DaysLate: 0.39038\n",
      "NumberOfTime60-89DaysPastDueNotWorse: 0.21604\n",
      "MonthlyIncome: 0.00001\n",
      "NumberOfDependents: 0.19172\n"
     ]
    }
   ],
   "source": [
    "for i,v in enumerate(importance):\n",
    "    print('%s: %.5f' % (X.columns[i],v))"
   ]
  },
  {
   "cell_type": "code",
   "execution_count": 92,
   "id": "67f6e131",
   "metadata": {},
   "outputs": [
    {
     "data": {
      "text/plain": [
       "age                                     0.12\n",
       "NumberOfTime30-59DaysPastDueNotWorse    0.18\n",
       "DebtRatio                               0.12\n",
       "NumberOfTimes90DaysLate                 0.17\n",
       "NumberOfTime60-89DaysPastDueNotWorse    0.15\n",
       "MonthlyIncome                           0.12\n",
       "NumberOfDependents                      0.14\n",
       "Name: coefficient, dtype: float64"
      ]
     },
     "execution_count": 92,
     "metadata": {},
     "output_type": "execute_result"
    }
   ],
   "source": [
    "(np.exp(features.coefficient) / np.sum(np.exp(features.coefficient))).round(2)"
   ]
  },
  {
   "cell_type": "code",
   "execution_count": 93,
   "id": "a1d9627b",
   "metadata": {},
   "outputs": [],
   "source": [
    "X_new = X"
   ]
  },
  {
   "cell_type": "code",
   "execution_count": 95,
   "id": "8f8cec81",
   "metadata": {},
   "outputs": [],
   "source": [
    "X_new['age'] = X_new['age'] + 20"
   ]
  },
  {
   "cell_type": "code",
   "execution_count": null,
   "id": "cced8f50",
   "metadata": {},
   "outputs": [],
   "source": []
  },
  {
   "cell_type": "markdown",
   "id": "8cb987c8",
   "metadata": {},
   "source": [
    "# Случайный лес"
   ]
  },
  {
   "cell_type": "code",
   "execution_count": 97,
   "id": "33821c8d",
   "metadata": {},
   "outputs": [],
   "source": [
    "from sklearn.ensemble import RandomForestClassifier"
   ]
  },
  {
   "cell_type": "code",
   "execution_count": 98,
   "id": "850a3ac2",
   "metadata": {},
   "outputs": [],
   "source": [
    "rf = RandomForestClassifier(\n",
    "    n_estimators=100,\n",
    "    n_jobs=-1,\n",
    "    random_state=42,\n",
    "    oob_score=True,\n",
    "    class_weight=\"balanced\",\n",
    ")"
   ]
  },
  {
   "cell_type": "code",
   "execution_count": 99,
   "id": "b549c678",
   "metadata": {},
   "outputs": [],
   "source": [
    "parameters = {\n",
    "    \"max_features\": [1, 2, 4],\n",
    "    \"min_samples_leaf\": [3, 5, 7, 9],\n",
    "    \"max_depth\": [5, 10, 15],\n",
    "}"
   ]
  },
  {
   "cell_type": "code",
   "execution_count": 104,
   "id": "e5bf518e",
   "metadata": {},
   "outputs": [],
   "source": [
    "grid_rf = GridSearchCV(rf, parameters, cv = skf, scoring='roc_auc')"
   ]
  },
  {
   "cell_type": "code",
   "execution_count": 105,
   "id": "eb2c8ffe",
   "metadata": {},
   "outputs": [
    {
     "data": {
      "text/plain": [
       "GridSearchCV(cv=StratifiedKFold(n_splits=5, random_state=5, shuffle=True),\n",
       "             estimator=RandomForestClassifier(class_weight='balanced',\n",
       "                                              n_jobs=-1, oob_score=True,\n",
       "                                              random_state=42),\n",
       "             param_grid={'max_depth': [5, 10, 15], 'max_features': [1, 2, 4],\n",
       "                         'min_samples_leaf': [3, 5, 7, 9]},\n",
       "             scoring='roc_auc')"
      ]
     },
     "execution_count": 105,
     "metadata": {},
     "output_type": "execute_result"
    }
   ],
   "source": [
    "grid_rf.fit(X, y)"
   ]
  },
  {
   "cell_type": "code",
   "execution_count": 108,
   "id": "a8de5e79",
   "metadata": {},
   "outputs": [
    {
     "data": {
      "text/plain": [
       "0.026820670654852385"
      ]
     },
     "execution_count": 108,
     "metadata": {},
     "output_type": "execute_result"
    }
   ],
   "source": [
    "grid_rf.best_score_ - grid_linear_model.best_score_"
   ]
  },
  {
   "cell_type": "code",
   "execution_count": 109,
   "id": "abdaa1d0",
   "metadata": {},
   "outputs": [],
   "source": [
    "best_rf = grid_rf.best_estimator_"
   ]
  },
  {
   "cell_type": "code",
   "execution_count": 113,
   "id": "67f57d87",
   "metadata": {},
   "outputs": [],
   "source": [
    "rf_feature_importances = pd.DataFrame(best_rf.feature_importances_, X.columns, ['importance'])"
   ]
  },
  {
   "cell_type": "code",
   "execution_count": 115,
   "id": "cffb8d8f",
   "metadata": {},
   "outputs": [
    {
     "data": {
      "text/html": [
       "<div>\n",
       "<style scoped>\n",
       "    .dataframe tbody tr th:only-of-type {\n",
       "        vertical-align: middle;\n",
       "    }\n",
       "\n",
       "    .dataframe tbody tr th {\n",
       "        vertical-align: top;\n",
       "    }\n",
       "\n",
       "    .dataframe thead th {\n",
       "        text-align: right;\n",
       "    }\n",
       "</style>\n",
       "<table border=\"1\" class=\"dataframe\">\n",
       "  <thead>\n",
       "    <tr style=\"text-align: right;\">\n",
       "      <th></th>\n",
       "      <th>importance</th>\n",
       "    </tr>\n",
       "  </thead>\n",
       "  <tbody>\n",
       "    <tr>\n",
       "      <th>NumberOfDependents</th>\n",
       "      <td>0.014343</td>\n",
       "    </tr>\n",
       "    <tr>\n",
       "      <th>MonthlyIncome</th>\n",
       "      <td>0.058277</td>\n",
       "    </tr>\n",
       "    <tr>\n",
       "      <th>DebtRatio</th>\n",
       "      <td>0.076118</td>\n",
       "    </tr>\n",
       "    <tr>\n",
       "      <th>age</th>\n",
       "      <td>0.115587</td>\n",
       "    </tr>\n",
       "    <tr>\n",
       "      <th>NumberOfTime60-89DaysPastDueNotWorse</th>\n",
       "      <td>0.156217</td>\n",
       "    </tr>\n",
       "    <tr>\n",
       "      <th>NumberOfTimes90DaysLate</th>\n",
       "      <td>0.278447</td>\n",
       "    </tr>\n",
       "    <tr>\n",
       "      <th>NumberOfTime30-59DaysPastDueNotWorse</th>\n",
       "      <td>0.301011</td>\n",
       "    </tr>\n",
       "  </tbody>\n",
       "</table>\n",
       "</div>"
      ],
      "text/plain": [
       "                                      importance\n",
       "NumberOfDependents                      0.014343\n",
       "MonthlyIncome                           0.058277\n",
       "DebtRatio                               0.076118\n",
       "age                                     0.115587\n",
       "NumberOfTime60-89DaysPastDueNotWorse    0.156217\n",
       "NumberOfTimes90DaysLate                 0.278447\n",
       "NumberOfTime30-59DaysPastDueNotWorse    0.301011"
      ]
     },
     "execution_count": 115,
     "metadata": {},
     "output_type": "execute_result"
    }
   ],
   "source": [
    "rf_feature_importances.sort_values('importance')"
   ]
  },
  {
   "cell_type": "code",
   "execution_count": null,
   "id": "ec4153e6",
   "metadata": {},
   "outputs": [],
   "source": []
  },
  {
   "cell_type": "markdown",
   "id": "77f1dc5a",
   "metadata": {},
   "source": [
    "# Бэггинг"
   ]
  },
  {
   "cell_type": "code",
   "execution_count": 125,
   "id": "03f8a7e3",
   "metadata": {},
   "outputs": [],
   "source": [
    "from sklearn.ensemble import BaggingClassifier\n",
    "from sklearn.model_selection import RandomizedSearchCV\n",
    "\n",
    "parameters = {\n",
    "    \"max_features\": (2, 3, 4),\n",
    "    \"max_samples\": (0.5, 0.7, 0.9),\n",
    "    \"base_estimator__C\": (0.0001, 0.001, 0.01, 1, 10, 100),\n",
    "}"
   ]
  },
  {
   "cell_type": "code",
   "execution_count": 128,
   "id": "c9763577",
   "metadata": {},
   "outputs": [],
   "source": [
    "bc = BaggingClassifier(base_estimator=LogisticRegression(), n_estimators=100, random_state=42)"
   ]
  },
  {
   "cell_type": "code",
   "execution_count": 129,
   "id": "89b5cdda",
   "metadata": {},
   "outputs": [],
   "source": [
    "grid_bag = RandomizedSearchCV(bc, parameters, cv=skf, random_state=1, n_iter=20).fit(X, y)"
   ]
  },
  {
   "cell_type": "code",
   "execution_count": 131,
   "id": "845f3f2f",
   "metadata": {},
   "outputs": [
    {
     "data": {
      "text/plain": [
       "{'max_samples': 0.5, 'max_features': 4, 'base_estimator__C': 10}"
      ]
     },
     "execution_count": 131,
     "metadata": {},
     "output_type": "execute_result"
    }
   ],
   "source": [
    "grid_bag.best_params_"
   ]
  },
  {
   "cell_type": "code",
   "execution_count": null,
   "id": "350f1654",
   "metadata": {},
   "outputs": [],
   "source": []
  }
 ],
 "metadata": {
  "kernelspec": {
   "display_name": "Python 3",
   "language": "python",
   "name": "python3"
  },
  "language_info": {
   "codemirror_mode": {
    "name": "ipython",
    "version": 3
   },
   "file_extension": ".py",
   "mimetype": "text/x-python",
   "name": "python",
   "nbconvert_exporter": "python",
   "pygments_lexer": "ipython3",
   "version": "3.8.8"
  }
 },
 "nbformat": 4,
 "nbformat_minor": 5
}
