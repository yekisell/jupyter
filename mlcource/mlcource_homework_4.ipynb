{
 "cells": [
  {
   "cell_type": "code",
   "execution_count": 13,
   "id": "eeeca69f",
   "metadata": {},
   "outputs": [],
   "source": [
    "import numpy as np\n",
    "import pandas as pd\n",
    "import scipy\n",
    "from sklearn.feature_extraction import DictVectorizer\n",
    "from sklearn.feature_extraction.text import TfidfVectorizer\n",
    "from sklearn.linear_model import Ridge\n",
    "from sklearn.metrics import mean_squared_error\n",
    "from sklearn.model_selection import train_test_split\n",
    "\n",
    "%matplotlib inline\n",
    "from matplotlib import pyplot as plt\n",
    "import seaborn as sns"
   ]
  },
  {
   "cell_type": "code",
   "execution_count": 2,
   "id": "357b19af",
   "metadata": {},
   "outputs": [],
   "source": [
    "train_df = pd.read_csv('../data_frames/howpop_train.csv')\n",
    "test_df = pd.read_csv('../data_frames/howpop_test.csv')"
   ]
  },
  {
   "cell_type": "code",
   "execution_count": 5,
   "id": "ff03a031",
   "metadata": {},
   "outputs": [
    {
     "data": {
      "text/html": [
       "<div>\n",
       "<style scoped>\n",
       "    .dataframe tbody tr th:only-of-type {\n",
       "        vertical-align: middle;\n",
       "    }\n",
       "\n",
       "    .dataframe tbody tr th {\n",
       "        vertical-align: top;\n",
       "    }\n",
       "\n",
       "    .dataframe thead th {\n",
       "        text-align: right;\n",
       "    }\n",
       "</style>\n",
       "<table border=\"1\" class=\"dataframe\">\n",
       "  <thead>\n",
       "    <tr style=\"text-align: right;\">\n",
       "      <th></th>\n",
       "      <th>0</th>\n",
       "    </tr>\n",
       "  </thead>\n",
       "  <tbody>\n",
       "    <tr>\n",
       "      <th>url</th>\n",
       "      <td>https://habrahabr.ru/post/18284/</td>\n",
       "    </tr>\n",
       "    <tr>\n",
       "      <th>domain</th>\n",
       "      <td>habrahabr.ru</td>\n",
       "    </tr>\n",
       "    <tr>\n",
       "      <th>post_id</th>\n",
       "      <td>18284</td>\n",
       "    </tr>\n",
       "    <tr>\n",
       "      <th>published</th>\n",
       "      <td>2008-01-01 18:19:00</td>\n",
       "    </tr>\n",
       "    <tr>\n",
       "      <th>author</th>\n",
       "      <td>@Tapac</td>\n",
       "    </tr>\n",
       "    <tr>\n",
       "      <th>flow</th>\n",
       "      <td>develop</td>\n",
       "    </tr>\n",
       "    <tr>\n",
       "      <th>polling</th>\n",
       "      <td>False</td>\n",
       "    </tr>\n",
       "    <tr>\n",
       "      <th>content_len</th>\n",
       "      <td>4305</td>\n",
       "    </tr>\n",
       "    <tr>\n",
       "      <th>title</th>\n",
       "      <td>Новогодний подарок блоггерам — WordPress 2.3.2</td>\n",
       "    </tr>\n",
       "    <tr>\n",
       "      <th>comments</th>\n",
       "      <td>0</td>\n",
       "    </tr>\n",
       "    <tr>\n",
       "      <th>favs</th>\n",
       "      <td>0</td>\n",
       "    </tr>\n",
       "    <tr>\n",
       "      <th>views</th>\n",
       "      <td>236</td>\n",
       "    </tr>\n",
       "    <tr>\n",
       "      <th>votes_plus</th>\n",
       "      <td>0.0</td>\n",
       "    </tr>\n",
       "    <tr>\n",
       "      <th>votes_minus</th>\n",
       "      <td>0.0</td>\n",
       "    </tr>\n",
       "    <tr>\n",
       "      <th>views_lognorm</th>\n",
       "      <td>-0.792687</td>\n",
       "    </tr>\n",
       "    <tr>\n",
       "      <th>favs_lognorm</th>\n",
       "      <td>-1.344075</td>\n",
       "    </tr>\n",
       "    <tr>\n",
       "      <th>comments_lognorm</th>\n",
       "      <td>-2.436871</td>\n",
       "    </tr>\n",
       "  </tbody>\n",
       "</table>\n",
       "</div>"
      ],
      "text/plain": [
       "                                                               0\n",
       "url                             https://habrahabr.ru/post/18284/\n",
       "domain                                              habrahabr.ru\n",
       "post_id                                                    18284\n",
       "published                                    2008-01-01 18:19:00\n",
       "author                                                    @Tapac\n",
       "flow                                                     develop\n",
       "polling                                                    False\n",
       "content_len                                                 4305\n",
       "title             Новогодний подарок блоггерам — WordPress 2.3.2\n",
       "comments                                                       0\n",
       "favs                                                           0\n",
       "views                                                        236\n",
       "votes_plus                                                   0.0\n",
       "votes_minus                                                  0.0\n",
       "views_lognorm                                          -0.792687\n",
       "favs_lognorm                                           -1.344075\n",
       "comments_lognorm                                       -2.436871"
      ]
     },
     "execution_count": 5,
     "metadata": {},
     "output_type": "execute_result"
    }
   ],
   "source": [
    "train_df.head(1).T"
   ]
  },
  {
   "cell_type": "code",
   "execution_count": 7,
   "id": "ea1bad79",
   "metadata": {},
   "outputs": [
    {
     "data": {
      "text/plain": [
       "((134137, 17), (3990, 9))"
      ]
     },
     "execution_count": 7,
     "metadata": {},
     "output_type": "execute_result"
    }
   ],
   "source": [
    "train_df.shape, test_df.shape"
   ]
  },
  {
   "cell_type": "code",
   "execution_count": 12,
   "id": "a8b15559",
   "metadata": {},
   "outputs": [
    {
     "data": {
      "image/png": "[encoded data removed]",
      "text/plain": [
       "<Figure size 432x288 with 1 Axes>"
      ]
     },
     "metadata": {
      "needs_background": "light"
     },
     "output_type": "display_data"
    }
   ],
   "source": [
    "train_df['published'].apply(lambda date: pd.to_datetime(date).value).plot();"
   ]
  },
  {
   "cell_type": "code",
   "execution_count": 14,
   "id": "61ac606a",
   "metadata": {},
   "outputs": [
    {
     "data": {
      "text/plain": [
       "<AxesSubplot:>"
      ]
     },
     "execution_count": 14,
     "metadata": {},
     "output_type": "execute_result"
    },
    {
     "data": {
      "image/png": "[encoded data removed]",
      "text/plain": [
       "<Figure size 432x288 with 2 Axes>"
      ]
     },
     "metadata": {
      "needs_background": "light"
     },
     "output_type": "display_data"
    }
   ],
   "source": [
    "sns.heatmap(train_df.corr())"
   ]
  },
  {
   "cell_type": "code",
   "execution_count": 17,
   "id": "434e4154",
   "metadata": {},
   "outputs": [
    {
     "data": {
      "text/html": [
       "<div>\n",
       "<style scoped>\n",
       "    .dataframe tbody tr th:only-of-type {\n",
       "        vertical-align: middle;\n",
       "    }\n",
       "\n",
       "    .dataframe tbody tr th {\n",
       "        vertical-align: top;\n",
       "    }\n",
       "\n",
       "    .dataframe thead th {\n",
       "        text-align: right;\n",
       "    }\n",
       "</style>\n",
       "<table border=\"1\" class=\"dataframe\">\n",
       "  <thead>\n",
       "    <tr style=\"text-align: right;\">\n",
       "      <th></th>\n",
       "      <th>post_id</th>\n",
       "      <th>polling</th>\n",
       "      <th>content_len</th>\n",
       "      <th>comments</th>\n",
       "      <th>favs</th>\n",
       "      <th>views</th>\n",
       "      <th>votes_plus</th>\n",
       "      <th>votes_minus</th>\n",
       "      <th>views_lognorm</th>\n",
       "      <th>favs_lognorm</th>\n",
       "      <th>comments_lognorm</th>\n",
       "    </tr>\n",
       "  </thead>\n",
       "  <tbody>\n",
       "    <tr>\n",
       "      <th>post_id</th>\n",
       "      <td>1.0</td>\n",
       "      <td>NaN</td>\n",
       "      <td>NaN</td>\n",
       "      <td>NaN</td>\n",
       "      <td>NaN</td>\n",
       "      <td>NaN</td>\n",
       "      <td>NaN</td>\n",
       "      <td>NaN</td>\n",
       "      <td>NaN</td>\n",
       "      <td>NaN</td>\n",
       "      <td>NaN</td>\n",
       "    </tr>\n",
       "    <tr>\n",
       "      <th>polling</th>\n",
       "      <td>NaN</td>\n",
       "      <td>1.0</td>\n",
       "      <td>NaN</td>\n",
       "      <td>NaN</td>\n",
       "      <td>NaN</td>\n",
       "      <td>NaN</td>\n",
       "      <td>NaN</td>\n",
       "      <td>NaN</td>\n",
       "      <td>NaN</td>\n",
       "      <td>NaN</td>\n",
       "      <td>NaN</td>\n",
       "    </tr>\n",
       "    <tr>\n",
       "      <th>content_len</th>\n",
       "      <td>NaN</td>\n",
       "      <td>NaN</td>\n",
       "      <td>1.0</td>\n",
       "      <td>NaN</td>\n",
       "      <td>NaN</td>\n",
       "      <td>NaN</td>\n",
       "      <td>NaN</td>\n",
       "      <td>NaN</td>\n",
       "      <td>NaN</td>\n",
       "      <td>NaN</td>\n",
       "      <td>NaN</td>\n",
       "    </tr>\n",
       "    <tr>\n",
       "      <th>comments</th>\n",
       "      <td>NaN</td>\n",
       "      <td>NaN</td>\n",
       "      <td>NaN</td>\n",
       "      <td>1.0</td>\n",
       "      <td>NaN</td>\n",
       "      <td>NaN</td>\n",
       "      <td>NaN</td>\n",
       "      <td>NaN</td>\n",
       "      <td>NaN</td>\n",
       "      <td>NaN</td>\n",
       "      <td>NaN</td>\n",
       "    </tr>\n",
       "    <tr>\n",
       "      <th>favs</th>\n",
       "      <td>NaN</td>\n",
       "      <td>NaN</td>\n",
       "      <td>NaN</td>\n",
       "      <td>NaN</td>\n",
       "      <td>1.0</td>\n",
       "      <td>NaN</td>\n",
       "      <td>NaN</td>\n",
       "      <td>NaN</td>\n",
       "      <td>NaN</td>\n",
       "      <td>NaN</td>\n",
       "      <td>NaN</td>\n",
       "    </tr>\n",
       "    <tr>\n",
       "      <th>views</th>\n",
       "      <td>NaN</td>\n",
       "      <td>NaN</td>\n",
       "      <td>NaN</td>\n",
       "      <td>NaN</td>\n",
       "      <td>NaN</td>\n",
       "      <td>1.0</td>\n",
       "      <td>NaN</td>\n",
       "      <td>NaN</td>\n",
       "      <td>NaN</td>\n",
       "      <td>NaN</td>\n",
       "      <td>NaN</td>\n",
       "    </tr>\n",
       "    <tr>\n",
       "      <th>votes_plus</th>\n",
       "      <td>NaN</td>\n",
       "      <td>NaN</td>\n",
       "      <td>NaN</td>\n",
       "      <td>NaN</td>\n",
       "      <td>NaN</td>\n",
       "      <td>NaN</td>\n",
       "      <td>1.0</td>\n",
       "      <td>NaN</td>\n",
       "      <td>NaN</td>\n",
       "      <td>NaN</td>\n",
       "      <td>NaN</td>\n",
       "    </tr>\n",
       "    <tr>\n",
       "      <th>votes_minus</th>\n",
       "      <td>NaN</td>\n",
       "      <td>NaN</td>\n",
       "      <td>NaN</td>\n",
       "      <td>NaN</td>\n",
       "      <td>NaN</td>\n",
       "      <td>NaN</td>\n",
       "      <td>NaN</td>\n",
       "      <td>1.0</td>\n",
       "      <td>NaN</td>\n",
       "      <td>NaN</td>\n",
       "      <td>NaN</td>\n",
       "    </tr>\n",
       "    <tr>\n",
       "      <th>views_lognorm</th>\n",
       "      <td>NaN</td>\n",
       "      <td>NaN</td>\n",
       "      <td>NaN</td>\n",
       "      <td>NaN</td>\n",
       "      <td>NaN</td>\n",
       "      <td>NaN</td>\n",
       "      <td>NaN</td>\n",
       "      <td>NaN</td>\n",
       "      <td>1.0</td>\n",
       "      <td>NaN</td>\n",
       "      <td>NaN</td>\n",
       "    </tr>\n",
       "    <tr>\n",
       "      <th>favs_lognorm</th>\n",
       "      <td>NaN</td>\n",
       "      <td>NaN</td>\n",
       "      <td>NaN</td>\n",
       "      <td>NaN</td>\n",
       "      <td>NaN</td>\n",
       "      <td>NaN</td>\n",
       "      <td>NaN</td>\n",
       "      <td>NaN</td>\n",
       "      <td>NaN</td>\n",
       "      <td>1.0</td>\n",
       "      <td>NaN</td>\n",
       "    </tr>\n",
       "    <tr>\n",
       "      <th>comments_lognorm</th>\n",
       "      <td>NaN</td>\n",
       "      <td>NaN</td>\n",
       "      <td>NaN</td>\n",
       "      <td>NaN</td>\n",
       "      <td>NaN</td>\n",
       "      <td>NaN</td>\n",
       "      <td>NaN</td>\n",
       "      <td>NaN</td>\n",
       "      <td>NaN</td>\n",
       "      <td>NaN</td>\n",
       "      <td>1.0</td>\n",
       "    </tr>\n",
       "  </tbody>\n",
       "</table>\n",
       "</div>"
      ],
      "text/plain": [
       "                  post_id  polling  content_len  comments  favs  views  \\\n",
       "post_id               1.0      NaN          NaN       NaN   NaN    NaN   \n",
       "polling               NaN      1.0          NaN       NaN   NaN    NaN   \n",
       "content_len           NaN      NaN          1.0       NaN   NaN    NaN   \n",
       "comments              NaN      NaN          NaN       1.0   NaN    NaN   \n",
       "favs                  NaN      NaN          NaN       NaN   1.0    NaN   \n",
       "views                 NaN      NaN          NaN       NaN   NaN    1.0   \n",
       "votes_plus            NaN      NaN          NaN       NaN   NaN    NaN   \n",
       "votes_minus           NaN      NaN          NaN       NaN   NaN    NaN   \n",
       "views_lognorm         NaN      NaN          NaN       NaN   NaN    NaN   \n",
       "favs_lognorm          NaN      NaN          NaN       NaN   NaN    NaN   \n",
       "comments_lognorm      NaN      NaN          NaN       NaN   NaN    NaN   \n",
       "\n",
       "                  votes_plus  votes_minus  views_lognorm  favs_lognorm  \\\n",
       "post_id                  NaN          NaN            NaN           NaN   \n",
       "polling                  NaN          NaN            NaN           NaN   \n",
       "content_len              NaN          NaN            NaN           NaN   \n",
       "comments                 NaN          NaN            NaN           NaN   \n",
       "favs                     NaN          NaN            NaN           NaN   \n",
       "views                    NaN          NaN            NaN           NaN   \n",
       "votes_plus               1.0          NaN            NaN           NaN   \n",
       "votes_minus              NaN          1.0            NaN           NaN   \n",
       "views_lognorm            NaN          NaN            1.0           NaN   \n",
       "favs_lognorm             NaN          NaN            NaN           1.0   \n",
       "comments_lognorm         NaN          NaN            NaN           NaN   \n",
       "\n",
       "                  comments_lognorm  \n",
       "post_id                        NaN  \n",
       "polling                        NaN  \n",
       "content_len                    NaN  \n",
       "comments                       NaN  \n",
       "favs                           NaN  \n",
       "views                          NaN  \n",
       "votes_plus                     NaN  \n",
       "votes_minus                    NaN  \n",
       "views_lognorm                  NaN  \n",
       "favs_lognorm                   NaN  \n",
       "comments_lognorm               1.0  "
      ]
     },
     "execution_count": 17,
     "metadata": {},
     "output_type": "execute_result"
    }
   ],
   "source": [
    "train_df.corr() > 0.9"
   ]
  },
  {
   "cell_type": "code",
   "execution_count": 19,
   "id": "54aca3f1",
   "metadata": {},
   "outputs": [
    {
     "data": {
      "text/plain": [
       "2015    23452\n",
       "2016    16316\n",
       "2014    16180\n",
       "2012    15972\n",
       "2013    15537\n",
       "2011    15063\n",
       "2010    13091\n",
       "2009    10783\n",
       "2008     7743\n",
       "Name: published, dtype: int64"
      ]
     },
     "execution_count": 19,
     "metadata": {},
     "output_type": "execute_result"
    }
   ],
   "source": [
    "train_df['published'].apply(lambda s: pd.to_datetime(s).year).value_counts()"
   ]
  },
  {
   "cell_type": "markdown",
   "id": "04021e42",
   "metadata": {},
   "source": [
    "# Разбиение на train/valid"
   ]
  },
  {
   "cell_type": "code",
   "execution_count": 20,
   "id": "cc8722f9",
   "metadata": {},
   "outputs": [],
   "source": [
    "features = ['author', 'flow', 'domain','title']\n",
    "train_size = int(0.7 * train_df.shape[0])"
   ]
  },
  {
   "cell_type": "code",
   "execution_count": 21,
   "id": "1b23c7fe",
   "metadata": {},
   "outputs": [
    {
     "data": {
      "text/plain": [
       "(134137, 93895)"
      ]
     },
     "execution_count": 21,
     "metadata": {},
     "output_type": "execute_result"
    }
   ],
   "source": [
    "len(train_df), train_size"
   ]
  },
  {
   "cell_type": "code",
   "execution_count": 23,
   "id": "85b4a01a",
   "metadata": {},
   "outputs": [],
   "source": [
    "X, y = train_df.loc[:, features], train_df['favs_lognorm']\n",
    "\n",
    "X_test = test_df.loc[:, features]"
   ]
  },
  {
   "cell_type": "code",
   "execution_count": 24,
   "id": "237534e2",
   "metadata": {},
   "outputs": [],
   "source": [
    "X_train, X_valid = X.iloc[:train_size, :], X.iloc[train_size:,:]\n",
    "\n",
    "y_train, y_valid = y.iloc[:train_size], y.iloc[train_size:]"
   ]
  },
  {
   "cell_type": "code",
   "execution_count": null,
   "id": "d07cc54a",
   "metadata": {},
   "outputs": [],
   "source": []
  },
  {
   "cell_type": "markdown",
   "id": "0f5bfc24",
   "metadata": {},
   "source": [
    "# Применение TfidfVectorizer"
   ]
  },
  {
   "cell_type": "code",
   "execution_count": 29,
   "id": "00768577",
   "metadata": {},
   "outputs": [],
   "source": [
    "vectorizer_title = TfidfVectorizer(min_df=3, max_df=0.3, ngram_range=(1, 3))\n",
    "\n",
    "X_train_title = vectorizer_title.fit_transform(X_train['title'])\n",
    "X_valid_title = vectorizer_title.transform(X_valid['title'])\n",
    "X_test_title = vectorizer_title.transform(X_test['title'])"
   ]
  },
  {
   "cell_type": "code",
   "execution_count": 33,
   "id": "c4ffd14c",
   "metadata": {},
   "outputs": [
    {
     "data": {
      "text/plain": [
       "50624"
      ]
     },
     "execution_count": 33,
     "metadata": {},
     "output_type": "execute_result"
    }
   ],
   "source": [
    "len(vectorizer_title.vocabulary_)"
   ]
  },
  {
   "cell_type": "code",
   "execution_count": 36,
   "id": "7e745393",
   "metadata": {},
   "outputs": [
    {
     "data": {
      "text/plain": [
       "9065"
      ]
     },
     "execution_count": 36,
     "metadata": {},
     "output_type": "execute_result"
    }
   ],
   "source": [
    "vectorizer_title.vocabulary_['python']"
   ]
  },
  {
   "cell_type": "code",
   "execution_count": null,
   "id": "ecd7bf85",
   "metadata": {},
   "outputs": [],
   "source": []
  },
  {
   "cell_type": "code",
   "execution_count": 37,
   "id": "f70a55c1",
   "metadata": {},
   "outputs": [],
   "source": [
    "vectorizer_title_ch = TfidfVectorizer(analyzer='char')\n",
    "\n",
    "X_train_title_ch = vectorizer_title_ch.fit_transform(X_train['title'])\n",
    "X_valid_title_ch = vectorizer_title_ch.transform(X_valid['title'])\n",
    "X_test_title_ch = vectorizer_title_ch.transform(X_test['title'])"
   ]
  },
  {
   "cell_type": "code",
   "execution_count": 41,
   "id": "2707c5a3",
   "metadata": {},
   "outputs": [
    {
     "data": {
      "text/plain": [
       "218"
      ]
     },
     "execution_count": 41,
     "metadata": {},
     "output_type": "execute_result"
    }
   ],
   "source": [
    "len(vectorizer_title_ch.vocabulary_)"
   ]
  },
  {
   "cell_type": "code",
   "execution_count": null,
   "id": "1f5ae180",
   "metadata": {},
   "outputs": [],
   "source": []
  },
  {
   "cell_type": "markdown",
   "id": "937e8386",
   "metadata": {},
   "source": [
    "# Работа с категориальными признаками"
   ]
  },
  {
   "cell_type": "code",
   "execution_count": 42,
   "id": "0292fa16",
   "metadata": {},
   "outputs": [
    {
     "data": {
      "text/html": [
       "<div>\n",
       "<style scoped>\n",
       "    .dataframe tbody tr th:only-of-type {\n",
       "        vertical-align: middle;\n",
       "    }\n",
       "\n",
       "    .dataframe tbody tr th {\n",
       "        vertical-align: top;\n",
       "    }\n",
       "\n",
       "    .dataframe thead th {\n",
       "        text-align: right;\n",
       "    }\n",
       "</style>\n",
       "<table border=\"1\" class=\"dataframe\">\n",
       "  <thead>\n",
       "    <tr style=\"text-align: right;\">\n",
       "      <th></th>\n",
       "      <th>author</th>\n",
       "      <th>flow</th>\n",
       "      <th>domain</th>\n",
       "    </tr>\n",
       "  </thead>\n",
       "  <tbody>\n",
       "    <tr>\n",
       "      <th>0</th>\n",
       "      <td>@Tapac</td>\n",
       "      <td>develop</td>\n",
       "      <td>habrahabr.ru</td>\n",
       "    </tr>\n",
       "    <tr>\n",
       "      <th>1</th>\n",
       "      <td>@DezmASter</td>\n",
       "      <td>design</td>\n",
       "      <td>habrahabr.ru</td>\n",
       "    </tr>\n",
       "    <tr>\n",
       "      <th>2</th>\n",
       "      <td>@DezmASter</td>\n",
       "      <td>design</td>\n",
       "      <td>habrahabr.ru</td>\n",
       "    </tr>\n",
       "    <tr>\n",
       "      <th>3</th>\n",
       "      <td>@Taoorus</td>\n",
       "      <td>design</td>\n",
       "      <td>habrahabr.ru</td>\n",
       "    </tr>\n",
       "    <tr>\n",
       "      <th>4</th>\n",
       "      <td>@dennydo</td>\n",
       "      <td>NaN</td>\n",
       "      <td>geektimes.ru</td>\n",
       "    </tr>\n",
       "  </tbody>\n",
       "</table>\n",
       "</div>"
      ],
      "text/plain": [
       "       author     flow        domain\n",
       "0      @Tapac  develop  habrahabr.ru\n",
       "1  @DezmASter   design  habrahabr.ru\n",
       "2  @DezmASter   design  habrahabr.ru\n",
       "3    @Taoorus   design  habrahabr.ru\n",
       "4    @dennydo      NaN  geektimes.ru"
      ]
     },
     "execution_count": 42,
     "metadata": {},
     "output_type": "execute_result"
    }
   ],
   "source": [
    "feats = ['author', 'flow', 'domain']\n",
    "X_train[feats][:5]"
   ]
  },
  {
   "cell_type": "code",
   "execution_count": 46,
   "id": "02f30663",
   "metadata": {},
   "outputs": [
    {
     "data": {
      "text/plain": [
       "{0: {'author': '@Tapac', 'flow': 'develop', 'domain': 'habrahabr.ru'},\n",
       " 1: {'author': '@DezmASter', 'flow': 'design', 'domain': 'habrahabr.ru'},\n",
       " 2: {'author': '@DezmASter', 'flow': 'design', 'domain': 'habrahabr.ru'},\n",
       " 3: {'author': '@Taoorus', 'flow': 'design', 'domain': 'habrahabr.ru'},\n",
       " 4: {'author': '@dennydo', 'flow': '-', 'domain': 'geektimes.ru'}}"
      ]
     },
     "execution_count": 46,
     "metadata": {},
     "output_type": "execute_result"
    }
   ],
   "source": [
    "X_train[feats][:5].fillna('-').T.to_dict()"
   ]
  },
  {
   "cell_type": "code",
   "execution_count": 48,
   "id": "7540d0d5",
   "metadata": {},
   "outputs": [
    {
     "data": {
      "text/plain": [
       "dict_values([{'author': '@Tapac', 'flow': 'develop', 'domain': 'habrahabr.ru'}, {'author': '@DezmASter', 'flow': 'design', 'domain': 'habrahabr.ru'}, {'author': '@DezmASter', 'flow': 'design', 'domain': 'habrahabr.ru'}, {'author': '@Taoorus', 'flow': 'design', 'domain': 'habrahabr.ru'}, {'author': '@dennydo', 'flow': '-', 'domain': 'geektimes.ru'}])"
      ]
     },
     "execution_count": 48,
     "metadata": {},
     "output_type": "execute_result"
    }
   ],
   "source": [
    "X_train[feats][:5].fillna('-').T.to_dict().values()"
   ]
  },
  {
   "cell_type": "code",
   "execution_count": 49,
   "id": "d1610722",
   "metadata": {},
   "outputs": [
    {
     "data": {
      "text/plain": [
       "<5x9 sparse matrix of type '<class 'numpy.float64'>'\n",
       "\twith 15 stored elements in Compressed Sparse Row format>"
      ]
     },
     "execution_count": 49,
     "metadata": {},
     "output_type": "execute_result"
    }
   ],
   "source": [
    "dict_vect = DictVectorizer()\n",
    "dict_vect_matrix = dict_vect.fit_transform(X_train[feats][:5].fillna('-').T.to_dict().values())\n",
    "dict_vect_matrix"
   ]
  },
  {
   "cell_type": "code",
   "execution_count": 50,
   "id": "0c91b030",
   "metadata": {},
   "outputs": [
    {
     "data": {
      "text/plain": [
       "array([[0., 0., 1., 0., 0., 1., 0., 0., 1.],\n",
       "       [1., 0., 0., 0., 0., 1., 0., 1., 0.],\n",
       "       [1., 0., 0., 0., 0., 1., 0., 1., 0.],\n",
       "       [0., 1., 0., 0., 0., 1., 0., 1., 0.],\n",
       "       [0., 0., 0., 1., 1., 0., 1., 0., 0.]])"
      ]
     },
     "execution_count": 50,
     "metadata": {},
     "output_type": "execute_result"
    }
   ],
   "source": [
    "dict_vect_matrix.toarray()"
   ]
  },
  {
   "cell_type": "code",
   "execution_count": 51,
   "id": "478e809d",
   "metadata": {},
   "outputs": [
    {
     "data": {
      "text/plain": [
       "(5, 9)"
      ]
     },
     "execution_count": 51,
     "metadata": {},
     "output_type": "execute_result"
    }
   ],
   "source": [
    "dict_vect_matrix.shape"
   ]
  },
  {
   "cell_type": "code",
   "execution_count": 52,
   "id": "081fca83",
   "metadata": {},
   "outputs": [
    {
     "name": "stdout",
     "output_type": "stream",
     "text": [
      "author 4\n",
      "flow 3\n",
      "domain 2\n"
     ]
    }
   ],
   "source": [
    "for col in feats:\n",
    "    print(col,len(X_train[col][:5].fillna('-').unique()))"
   ]
  },
  {
   "cell_type": "code",
   "execution_count": 53,
   "id": "4e5a7f32",
   "metadata": {},
   "outputs": [
    {
     "data": {
      "text/plain": [
       "['author=@DezmASter',\n",
       " 'author=@Taoorus',\n",
       " 'author=@Tapac',\n",
       " 'author=@dennydo',\n",
       " 'domain=geektimes.ru',\n",
       " 'domain=habrahabr.ru',\n",
       " 'flow=-',\n",
       " 'flow=design',\n",
       " 'flow=develop']"
      ]
     },
     "execution_count": 53,
     "metadata": {},
     "output_type": "execute_result"
    }
   ],
   "source": [
    "dict_vect.feature_names_"
   ]
  },
  {
   "cell_type": "code",
   "execution_count": 55,
   "id": "f2ba0e16",
   "metadata": {},
   "outputs": [],
   "source": [
    "vectorizer_feats = DictVectorizer()\n",
    "\n",
    "X_train_feats = vectorizer_feats.fit_transform(X_train[feats].fillna('-').T.to_dict().values())\n",
    "X_valid_feats = vectorizer_feats.transform(X_valid[feats].fillna('-').T.to_dict().values())\n",
    "X_test_feats = vectorizer_feats.transform(X_test[feats].fillna('-').T.to_dict().values())"
   ]
  },
  {
   "cell_type": "code",
   "execution_count": 56,
   "id": "f5298768",
   "metadata": {},
   "outputs": [
    {
     "data": {
      "text/plain": [
       "(93895, 17869)"
      ]
     },
     "execution_count": 56,
     "metadata": {},
     "output_type": "execute_result"
    }
   ],
   "source": [
    "X_train_feats.shape"
   ]
  },
  {
   "cell_type": "code",
   "execution_count": 57,
   "id": "248f5b9e",
   "metadata": {},
   "outputs": [],
   "source": [
    "X_train_new = scipy.sparse.hstack([X_train_title, X_train_feats, X_train_title_ch])\n",
    "X_valid_new = scipy.sparse.hstack([X_valid_title, X_valid_feats, X_valid_title_ch])\n",
    "X_test_new =  scipy.sparse.hstack([X_test_title, X_test_feats, X_test_title_ch])"
   ]
  },
  {
   "cell_type": "markdown",
   "id": "edb6cbea",
   "metadata": {},
   "source": [
    "# Обучение модели"
   ]
  },
  {
   "cell_type": "code",
   "execution_count": 61,
   "id": "06d848c8",
   "metadata": {},
   "outputs": [
    {
     "name": "stdout",
     "output_type": "stream",
     "text": [
      "Wall time: 4.73 s\n"
     ]
    },
    {
     "data": {
      "text/plain": [
       "Ridge(alpha=0.1, random_state=1)"
      ]
     },
     "execution_count": 61,
     "metadata": {},
     "output_type": "execute_result"
    }
   ],
   "source": [
    "%%time\n",
    "model1 = Ridge(alpha=0.1, random_state=1)\n",
    "model1.fit(X_train_new, y_train)"
   ]
  },
  {
   "cell_type": "code",
   "execution_count": 62,
   "id": "94db7a86",
   "metadata": {},
   "outputs": [
    {
     "name": "stdout",
     "output_type": "stream",
     "text": [
      "Ошибка на трейне 0.18462112051330712\n",
      "Ошибка на тесте 0.9029182154626404\n"
     ]
    }
   ],
   "source": [
    "train_preds1 = model1.predict(X_train_new)\n",
    "valid_preds1 = model1.predict(X_valid_new)\n",
    "\n",
    "print('Ошибка на трейне',mean_squared_error(y_train, train_preds1))\n",
    "print('Ошибка на тесте',mean_squared_error(y_valid, valid_preds1))"
   ]
  },
  {
   "cell_type": "code",
   "execution_count": 63,
   "id": "115f35a3",
   "metadata": {},
   "outputs": [
    {
     "name": "stdout",
     "output_type": "stream",
     "text": [
      "Wall time: 2.42 s\n"
     ]
    },
    {
     "data": {
      "text/plain": [
       "Ridge(alpha=1, random_state=1)"
      ]
     },
     "execution_count": 63,
     "metadata": {},
     "output_type": "execute_result"
    }
   ],
   "source": [
    "%%time\n",
    "model2 = Ridge(alpha=1, random_state=1)\n",
    "model2.fit(X_train_new, y_train)"
   ]
  },
  {
   "cell_type": "code",
   "execution_count": 64,
   "id": "07da1c89",
   "metadata": {},
   "outputs": [
    {
     "name": "stdout",
     "output_type": "stream",
     "text": [
      "Ошибка на трейне 0.28661948432357953\n",
      "Ошибка на тесте 0.7011737386557428\n"
     ]
    }
   ],
   "source": [
    "train_preds2 = model2.predict(X_train_new)\n",
    "valid_preds2 = model2.predict(X_valid_new)\n",
    "\n",
    "print('Ошибка на трейне',mean_squared_error(y_train, train_preds2))\n",
    "print('Ошибка на тесте',mean_squared_error(y_valid, valid_preds2))"
   ]
  },
  {
   "cell_type": "markdown",
   "id": "1bc10fa1",
   "metadata": {},
   "source": [
    "# BaseLine"
   ]
  },
  {
   "cell_type": "code",
   "execution_count": 67,
   "id": "c1d9bb91",
   "metadata": {},
   "outputs": [
    {
     "name": "stdout",
     "output_type": "stream",
     "text": [
      "Wall time: 3.89 s\n"
     ]
    }
   ],
   "source": [
    "%%time\n",
    "model = Ridge()\n",
    "model.fit(scipy.sparse.vstack([X_train_new, X_valid_new]), y)\n",
    "\n",
    "test_preds = model.predict(X_test_new)"
   ]
  }
 ],
 "metadata": {
  "kernelspec": {
   "display_name": "Python 3",
   "language": "python",
   "name": "python3"
  },
  "language_info": {
   "codemirror_mode": {
    "name": "ipython",
    "version": 3
   },
   "file_extension": ".py",
   "mimetype": "text/x-python",
   "name": "python",
   "nbconvert_exporter": "python",
   "pygments_lexer": "ipython3",
   "version": "3.8.8"
  }
 },
 "nbformat": 4,
 "nbformat_minor": 5
}
