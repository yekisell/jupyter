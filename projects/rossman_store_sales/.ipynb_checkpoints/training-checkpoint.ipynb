{
 "cells": [
  {
   "cell_type": "code",
   "execution_count": 143,
   "id": "7100f120",
   "metadata": {},
   "outputs": [],
   "source": [
    "import pandas as pd\n",
    "import numpy as np\n",
    "import seaborn as sns\n",
    "import matplotlib.pyplot as plt\n",
    "from matplotlib import rcParams\n",
    "\n",
    "from statsmodels.graphics import tsaplots\n",
    "from xgboost import XGBRegressor\n",
    "from time import time\n",
    "import pickle\n",
    "\n",
    "from sklearn.metrics import mean_squared_error as mse\n",
    "from sklearn.metrics import mean_absolute_error as mae"
   ]
  },
  {
   "cell_type": "code",
   "execution_count": 89,
   "id": "3aec1bcb",
   "metadata": {},
   "outputs": [
    {
     "name": "stderr",
     "output_type": "stream",
     "text": [
      "D:\\EduPr\\anaconda\\lib\\site-packages\\IPython\\core\\interactiveshell.py:3165: DtypeWarning: Columns (7) have mixed types.Specify dtype option on import or set low_memory=False.\n",
      "  has_raised = await self.run_ast_nodes(code_ast.body, cell_name,\n",
      "D:\\EduPr\\anaconda\\lib\\site-packages\\numpy\\lib\\arraysetops.py:583: FutureWarning: elementwise comparison failed; returning scalar instead, but in the future will perform elementwise comparison\n",
      "  mask |= (ar1 == a)\n"
     ]
    },
    {
     "data": {
      "text/html": [
       "<div>\n",
       "<style scoped>\n",
       "    .dataframe tbody tr th:only-of-type {\n",
       "        vertical-align: middle;\n",
       "    }\n",
       "\n",
       "    .dataframe tbody tr th {\n",
       "        vertical-align: top;\n",
       "    }\n",
       "\n",
       "    .dataframe thead th {\n",
       "        text-align: right;\n",
       "    }\n",
       "</style>\n",
       "<table border=\"1\" class=\"dataframe\">\n",
       "  <thead>\n",
       "    <tr style=\"text-align: right;\">\n",
       "      <th></th>\n",
       "      <th>Store</th>\n",
       "      <th>DayOfWeek</th>\n",
       "      <th>Date</th>\n",
       "      <th>Sales</th>\n",
       "      <th>Open</th>\n",
       "      <th>Promo</th>\n",
       "      <th>StateHoliday</th>\n",
       "      <th>SchoolHoliday</th>\n",
       "      <th>Year</th>\n",
       "      <th>Month</th>\n",
       "      <th>...</th>\n",
       "      <th>t-5</th>\n",
       "      <th>t-6</th>\n",
       "      <th>t-7</th>\n",
       "      <th>t-8</th>\n",
       "      <th>t-9</th>\n",
       "      <th>t-10</th>\n",
       "      <th>t-11</th>\n",
       "      <th>t-12</th>\n",
       "      <th>t-13</th>\n",
       "      <th>t-14</th>\n",
       "    </tr>\n",
       "  </thead>\n",
       "  <tbody>\n",
       "    <tr>\n",
       "      <th>941</th>\n",
       "      <td>1</td>\n",
       "      <td>2</td>\n",
       "      <td>2013-01-01</td>\n",
       "      <td>0</td>\n",
       "      <td>0</td>\n",
       "      <td>0</td>\n",
       "      <td>a</td>\n",
       "      <td>1</td>\n",
       "      <td>2013</td>\n",
       "      <td>1</td>\n",
       "      <td>...</td>\n",
       "      <td>0.0</td>\n",
       "      <td>0.0</td>\n",
       "      <td>0.0</td>\n",
       "      <td>0.0</td>\n",
       "      <td>0.0</td>\n",
       "      <td>0.0</td>\n",
       "      <td>0.0</td>\n",
       "      <td>0.0</td>\n",
       "      <td>0.0</td>\n",
       "      <td>0.0</td>\n",
       "    </tr>\n",
       "    <tr>\n",
       "      <th>1883</th>\n",
       "      <td>2</td>\n",
       "      <td>2</td>\n",
       "      <td>2013-01-01</td>\n",
       "      <td>0</td>\n",
       "      <td>0</td>\n",
       "      <td>0</td>\n",
       "      <td>a</td>\n",
       "      <td>1</td>\n",
       "      <td>2013</td>\n",
       "      <td>1</td>\n",
       "      <td>...</td>\n",
       "      <td>0.0</td>\n",
       "      <td>0.0</td>\n",
       "      <td>0.0</td>\n",
       "      <td>0.0</td>\n",
       "      <td>0.0</td>\n",
       "      <td>0.0</td>\n",
       "      <td>0.0</td>\n",
       "      <td>0.0</td>\n",
       "      <td>0.0</td>\n",
       "      <td>0.0</td>\n",
       "    </tr>\n",
       "    <tr>\n",
       "      <th>2825</th>\n",
       "      <td>3</td>\n",
       "      <td>2</td>\n",
       "      <td>2013-01-01</td>\n",
       "      <td>0</td>\n",
       "      <td>0</td>\n",
       "      <td>0</td>\n",
       "      <td>a</td>\n",
       "      <td>1</td>\n",
       "      <td>2013</td>\n",
       "      <td>1</td>\n",
       "      <td>...</td>\n",
       "      <td>0.0</td>\n",
       "      <td>0.0</td>\n",
       "      <td>0.0</td>\n",
       "      <td>0.0</td>\n",
       "      <td>0.0</td>\n",
       "      <td>0.0</td>\n",
       "      <td>0.0</td>\n",
       "      <td>0.0</td>\n",
       "      <td>0.0</td>\n",
       "      <td>0.0</td>\n",
       "    </tr>\n",
       "    <tr>\n",
       "      <th>3767</th>\n",
       "      <td>4</td>\n",
       "      <td>2</td>\n",
       "      <td>2013-01-01</td>\n",
       "      <td>0</td>\n",
       "      <td>0</td>\n",
       "      <td>0</td>\n",
       "      <td>a</td>\n",
       "      <td>1</td>\n",
       "      <td>2013</td>\n",
       "      <td>1</td>\n",
       "      <td>...</td>\n",
       "      <td>0.0</td>\n",
       "      <td>0.0</td>\n",
       "      <td>0.0</td>\n",
       "      <td>0.0</td>\n",
       "      <td>0.0</td>\n",
       "      <td>0.0</td>\n",
       "      <td>0.0</td>\n",
       "      <td>0.0</td>\n",
       "      <td>0.0</td>\n",
       "      <td>0.0</td>\n",
       "    </tr>\n",
       "    <tr>\n",
       "      <th>4709</th>\n",
       "      <td>5</td>\n",
       "      <td>2</td>\n",
       "      <td>2013-01-01</td>\n",
       "      <td>0</td>\n",
       "      <td>0</td>\n",
       "      <td>0</td>\n",
       "      <td>a</td>\n",
       "      <td>1</td>\n",
       "      <td>2013</td>\n",
       "      <td>1</td>\n",
       "      <td>...</td>\n",
       "      <td>0.0</td>\n",
       "      <td>0.0</td>\n",
       "      <td>0.0</td>\n",
       "      <td>0.0</td>\n",
       "      <td>0.0</td>\n",
       "      <td>0.0</td>\n",
       "      <td>0.0</td>\n",
       "      <td>0.0</td>\n",
       "      <td>0.0</td>\n",
       "      <td>0.0</td>\n",
       "    </tr>\n",
       "  </tbody>\n",
       "</table>\n",
       "<p>5 rows × 37 columns</p>\n",
       "</div>"
      ],
      "text/plain": [
       "      Store  DayOfWeek        Date  Sales  Open  Promo StateHoliday  \\\n",
       "941       1          2  2013-01-01      0     0      0            a   \n",
       "1883      2          2  2013-01-01      0     0      0            a   \n",
       "2825      3          2  2013-01-01      0     0      0            a   \n",
       "3767      4          2  2013-01-01      0     0      0            a   \n",
       "4709      5          2  2013-01-01      0     0      0            a   \n",
       "\n",
       "      SchoolHoliday  Year  Month  ...  t-5  t-6  t-7  t-8  t-9  t-10  t-11  \\\n",
       "941               1  2013      1  ...  0.0  0.0  0.0  0.0  0.0   0.0   0.0   \n",
       "1883              1  2013      1  ...  0.0  0.0  0.0  0.0  0.0   0.0   0.0   \n",
       "2825              1  2013      1  ...  0.0  0.0  0.0  0.0  0.0   0.0   0.0   \n",
       "3767              1  2013      1  ...  0.0  0.0  0.0  0.0  0.0   0.0   0.0   \n",
       "4709              1  2013      1  ...  0.0  0.0  0.0  0.0  0.0   0.0   0.0   \n",
       "\n",
       "      t-12  t-13  t-14  \n",
       "941    0.0   0.0   0.0  \n",
       "1883   0.0   0.0   0.0  \n",
       "2825   0.0   0.0   0.0  \n",
       "3767   0.0   0.0   0.0  \n",
       "4709   0.0   0.0   0.0  \n",
       "\n",
       "[5 rows x 37 columns]"
      ]
     },
     "execution_count": 89,
     "metadata": {},
     "output_type": "execute_result"
    }
   ],
   "source": [
    "data = pd.read_csv('train_lagged.csv', index_col='Unnamed: 0')\n",
    "data.head()"
   ]
  },
  {
   "cell_type": "code",
   "execution_count": 90,
   "id": "c662b066",
   "metadata": {},
   "outputs": [],
   "source": [
    "data['Date'] = pd.to_datetime(data['Date'])"
   ]
  },
  {
   "cell_type": "code",
   "execution_count": null,
   "id": "bd09bc2b",
   "metadata": {},
   "outputs": [],
   "source": []
  },
  {
   "cell_type": "markdown",
   "id": "f9da1393",
   "metadata": {},
   "source": [
    "## Encoding"
   ]
  },
  {
   "cell_type": "code",
   "execution_count": 84,
   "id": "225e90f5",
   "metadata": {},
   "outputs": [],
   "source": [
    "def te_map(data, target_col, feature_col):\n",
    "    mappings = dict()\n",
    "    table = data.groupby(feature_col).agg({target_col:'mean'})\n",
    "    for item_num in range(len(table)):\n",
    "        mappings.update({table.iloc[item_num, :].name : table.iloc[item_num, :][0]})\n",
    "    return mappings"
   ]
  },
  {
   "cell_type": "code",
   "execution_count": 85,
   "id": "83e02585",
   "metadata": {},
   "outputs": [],
   "source": [
    "def target_encoding(data, target_col):\n",
    "    for obj_col in data.loc[:, data.dtypes == 'object']:\n",
    "        data[obj_col].replace(te_map(data, target_col, obj_col), inplace=True)\n",
    "    return data"
   ]
  },
  {
   "cell_type": "code",
   "execution_count": null,
   "id": "b71039ba",
   "metadata": {},
   "outputs": [],
   "source": []
  },
  {
   "cell_type": "markdown",
   "id": "323370d9",
   "metadata": {},
   "source": [
    "## Corr evaluating"
   ]
  },
  {
   "cell_type": "code",
   "execution_count": 7,
   "id": "9797d758",
   "metadata": {},
   "outputs": [],
   "source": [
    "filter_cols = []\n",
    "filter_cols.append('Sales')\n",
    "filter_cols += [col for col in data if col.startswith('t-')]"
   ]
  },
  {
   "cell_type": "code",
   "execution_count": 8,
   "id": "206f2af8",
   "metadata": {},
   "outputs": [
    {
     "data": {
      "text/plain": [
       "<AxesSubplot:>"
      ]
     },
     "execution_count": 8,
     "metadata": {},
     "output_type": "execute_result"
    },
    {
     "data": {
      "image/png": "[encoded data removed]",
      "text/plain": [
       "<Figure size 1080x936 with 2 Axes>"
      ]
     },
     "metadata": {
      "needs_background": "light"
     },
     "output_type": "display_data"
    }
   ],
   "source": [
    "rcParams['figure.figsize'] = 15, 13\n",
    "sns.heatmap(data[filter_cols].corr(), annot=True, fmt='.2f')"
   ]
  },
  {
   "cell_type": "code",
   "execution_count": null,
   "id": "f542dedc",
   "metadata": {},
   "outputs": [],
   "source": []
  },
  {
   "cell_type": "markdown",
   "id": "75690cac",
   "metadata": {},
   "source": [
    "## Train-Valid split"
   ]
  },
  {
   "cell_type": "code",
   "execution_count": 27,
   "id": "fe4d33ad",
   "metadata": {},
   "outputs": [],
   "source": [
    "train, valid = data_enc.iloc[:-1115 * 7 * 8, :], \\\n",
    "               data_enc.iloc[-1115 * 7 * 8:, :]"
   ]
  },
  {
   "cell_type": "code",
   "execution_count": 28,
   "id": "08a3fee3",
   "metadata": {},
   "outputs": [],
   "source": [
    "index_opened = valid.query('Open == 1').index\n",
    "index_closed = valid.query('Open == 0').index"
   ]
  },
  {
   "cell_type": "code",
   "execution_count": 37,
   "id": "8ed07aba",
   "metadata": {},
   "outputs": [],
   "source": [
    "train = train.query('Open == 1')\n",
    "train.drop(['Date', 'Open'], axis=1, inplace=True)"
   ]
  },
  {
   "cell_type": "code",
   "execution_count": 49,
   "id": "9f1d2d82",
   "metadata": {},
   "outputs": [
    {
     "name": "stderr",
     "output_type": "stream",
     "text": [
      "D:\\EduPr\\anaconda\\lib\\site-packages\\pandas\\core\\frame.py:4308: SettingWithCopyWarning: \n",
      "A value is trying to be set on a copy of a slice from a DataFrame\n",
      "\n",
      "See the caveats in the documentation: https://pandas.pydata.org/pandas-docs/stable/user_guide/indexing.html#returning-a-view-versus-a-copy\n",
      "  return super().drop(\n"
     ]
    }
   ],
   "source": [
    "valid = valid.query('Open == 1')\n",
    "valid.drop(['Date', 'Open'], axis=1, inplace=True)"
   ]
  },
  {
   "cell_type": "code",
   "execution_count": 72,
   "id": "249f3422",
   "metadata": {},
   "outputs": [],
   "source": [
    "X_train, y_train = train.drop('Sales', axis=1), train['Sales']\n",
    "X_valid, y_valid = valid.drop('Sales', axis=1), valid['Sales']"
   ]
  },
  {
   "cell_type": "markdown",
   "id": "eaeafd9e",
   "metadata": {},
   "source": [
    "## Fitting model"
   ]
  },
  {
   "cell_type": "code",
   "execution_count": 44,
   "id": "c4a3b2a8",
   "metadata": {},
   "outputs": [],
   "source": [
    "params = {\n",
    "    \"n_estimators\" : 300,\n",
    "    \"booster\" : \"gbtree\",\n",
    "    \"learning_rate\": 0.03,\n",
    "    \"max_depth\": 10,\n",
    "    \"subsample\": 0.8,\n",
    "    \"colsample_bytree\": 0.7,\n",
    "    \"random_state\": 42,\n",
    "    \"n_jobs\": -1\n",
    "}"
   ]
  },
  {
   "cell_type": "code",
   "execution_count": 45,
   "id": "600d4f28",
   "metadata": {},
   "outputs": [],
   "source": [
    "model = XGBRegressor(**params)"
   ]
  },
  {
   "cell_type": "code",
   "execution_count": 73,
   "id": "5d764f5e",
   "metadata": {},
   "outputs": [],
   "source": [
    "y_train = np.log1p(y_train)"
   ]
  },
  {
   "cell_type": "code",
   "execution_count": 75,
   "id": "44475c65",
   "metadata": {},
   "outputs": [
    {
     "name": "stdout",
     "output_type": "stream",
     "text": [
      "Train a XGBoost model\n",
      "Training time is 179.688971 s.\n"
     ]
    }
   ],
   "source": [
    "print(\"Train a XGBoost model\")\n",
    "start = time()\n",
    "\n",
    "model.fit(X_train, y_train)\n",
    "\n",
    "end = time()\n",
    "print('Training time is {:2f} s.'.format(end-start))"
   ]
  },
  {
   "cell_type": "code",
   "execution_count": 80,
   "id": "5d864b13",
   "metadata": {},
   "outputs": [],
   "source": [
    "y_pr_log_300 = model.predict(X_valid)\n",
    "y_pr_log_300 = np.expm1(y_pr_log_300)"
   ]
  },
  {
   "cell_type": "code",
   "execution_count": 81,
   "id": "f1d0a09f",
   "metadata": {},
   "outputs": [
    {
     "name": "stdout",
     "output_type": "stream",
     "text": [
      "RMSE (no log, 300) error: 757.1504182786912\n",
      "RMSE (log, 300) error: 794.3521230268829\n"
     ]
    }
   ],
   "source": [
    "print(f'RMSE (no log, 300) error: {mse(y_pr_nolog_300, y_valid, squared=False)}')\n",
    "print(f'RMSE (log, 300) error: {mse(y_pr_log_300, y_valid, squared=False)}')"
   ]
  },
  {
   "cell_type": "markdown",
   "id": "33621988",
   "metadata": {},
   "source": [
    "## Another encoding tactics"
   ]
  },
  {
   "cell_type": "code",
   "execution_count": 102,
   "id": "56ab1f02",
   "metadata": {},
   "outputs": [
    {
     "name": "stderr",
     "output_type": "stream",
     "text": [
      "D:\\EduPr\\anaconda\\lib\\site-packages\\pandas\\core\\frame.py:4308: SettingWithCopyWarning: \n",
      "A value is trying to be set on a copy of a slice from a DataFrame\n",
      "\n",
      "See the caveats in the documentation: https://pandas.pydata.org/pandas-docs/stable/user_guide/indexing.html#returning-a-view-versus-a-copy\n",
      "  return super().drop(\n"
     ]
    }
   ],
   "source": [
    "data_opened = data.query('Open == 1')\n",
    "data_opened.drop(['Date', 'Open'], axis=1, inplace=True)"
   ]
  },
  {
   "cell_type": "code",
   "execution_count": 107,
   "id": "714f0ec3",
   "metadata": {},
   "outputs": [
    {
     "data": {
      "text/html": [
       "<div>\n",
       "<style scoped>\n",
       "    .dataframe tbody tr th:only-of-type {\n",
       "        vertical-align: middle;\n",
       "    }\n",
       "\n",
       "    .dataframe tbody tr th {\n",
       "        vertical-align: top;\n",
       "    }\n",
       "\n",
       "    .dataframe thead th {\n",
       "        text-align: right;\n",
       "    }\n",
       "</style>\n",
       "<table border=\"1\" class=\"dataframe\">\n",
       "  <thead>\n",
       "    <tr style=\"text-align: right;\">\n",
       "      <th></th>\n",
       "      <th>Store</th>\n",
       "      <th>DayOfWeek</th>\n",
       "      <th>Sales</th>\n",
       "      <th>Promo</th>\n",
       "      <th>StateHoliday</th>\n",
       "      <th>SchoolHoliday</th>\n",
       "      <th>Year</th>\n",
       "      <th>Month</th>\n",
       "      <th>DayOfMonth</th>\n",
       "      <th>WeekOfYear</th>\n",
       "      <th>...</th>\n",
       "      <th>t-5</th>\n",
       "      <th>t-6</th>\n",
       "      <th>t-7</th>\n",
       "      <th>t-8</th>\n",
       "      <th>t-9</th>\n",
       "      <th>t-10</th>\n",
       "      <th>t-11</th>\n",
       "      <th>t-12</th>\n",
       "      <th>t-13</th>\n",
       "      <th>t-14</th>\n",
       "    </tr>\n",
       "  </thead>\n",
       "  <tbody>\n",
       "    <tr>\n",
       "      <th>77677</th>\n",
       "      <td>85</td>\n",
       "      <td>2</td>\n",
       "      <td>4220</td>\n",
       "      <td>0</td>\n",
       "      <td>8487.471182</td>\n",
       "      <td>1</td>\n",
       "      <td>2013</td>\n",
       "      <td>1</td>\n",
       "      <td>1</td>\n",
       "      <td>1</td>\n",
       "      <td>...</td>\n",
       "      <td>0.0</td>\n",
       "      <td>0.0</td>\n",
       "      <td>0.0</td>\n",
       "      <td>0.0</td>\n",
       "      <td>0.0</td>\n",
       "      <td>0.0</td>\n",
       "      <td>0.0</td>\n",
       "      <td>0.0</td>\n",
       "      <td>0.0</td>\n",
       "      <td>0.0</td>\n",
       "    </tr>\n",
       "    <tr>\n",
       "      <th>235513</th>\n",
       "      <td>259</td>\n",
       "      <td>2</td>\n",
       "      <td>6851</td>\n",
       "      <td>0</td>\n",
       "      <td>8487.471182</td>\n",
       "      <td>1</td>\n",
       "      <td>2013</td>\n",
       "      <td>1</td>\n",
       "      <td>1</td>\n",
       "      <td>1</td>\n",
       "      <td>...</td>\n",
       "      <td>0.0</td>\n",
       "      <td>0.0</td>\n",
       "      <td>0.0</td>\n",
       "      <td>0.0</td>\n",
       "      <td>0.0</td>\n",
       "      <td>0.0</td>\n",
       "      <td>0.0</td>\n",
       "      <td>0.0</td>\n",
       "      <td>0.0</td>\n",
       "      <td>0.0</td>\n",
       "    </tr>\n",
       "    <tr>\n",
       "      <th>238339</th>\n",
       "      <td>262</td>\n",
       "      <td>2</td>\n",
       "      <td>17267</td>\n",
       "      <td>0</td>\n",
       "      <td>8487.471182</td>\n",
       "      <td>1</td>\n",
       "      <td>2013</td>\n",
       "      <td>1</td>\n",
       "      <td>1</td>\n",
       "      <td>1</td>\n",
       "      <td>...</td>\n",
       "      <td>0.0</td>\n",
       "      <td>0.0</td>\n",
       "      <td>0.0</td>\n",
       "      <td>0.0</td>\n",
       "      <td>0.0</td>\n",
       "      <td>0.0</td>\n",
       "      <td>0.0</td>\n",
       "      <td>0.0</td>\n",
       "      <td>0.0</td>\n",
       "      <td>0.0</td>\n",
       "    </tr>\n",
       "    <tr>\n",
       "      <th>249459</th>\n",
       "      <td>274</td>\n",
       "      <td>2</td>\n",
       "      <td>3102</td>\n",
       "      <td>0</td>\n",
       "      <td>8487.471182</td>\n",
       "      <td>1</td>\n",
       "      <td>2013</td>\n",
       "      <td>1</td>\n",
       "      <td>1</td>\n",
       "      <td>1</td>\n",
       "      <td>...</td>\n",
       "      <td>0.0</td>\n",
       "      <td>0.0</td>\n",
       "      <td>0.0</td>\n",
       "      <td>0.0</td>\n",
       "      <td>0.0</td>\n",
       "      <td>0.0</td>\n",
       "      <td>0.0</td>\n",
       "      <td>0.0</td>\n",
       "      <td>0.0</td>\n",
       "      <td>0.0</td>\n",
       "    </tr>\n",
       "    <tr>\n",
       "      <th>305081</th>\n",
       "      <td>335</td>\n",
       "      <td>2</td>\n",
       "      <td>2401</td>\n",
       "      <td>0</td>\n",
       "      <td>8487.471182</td>\n",
       "      <td>1</td>\n",
       "      <td>2013</td>\n",
       "      <td>1</td>\n",
       "      <td>1</td>\n",
       "      <td>1</td>\n",
       "      <td>...</td>\n",
       "      <td>0.0</td>\n",
       "      <td>0.0</td>\n",
       "      <td>0.0</td>\n",
       "      <td>0.0</td>\n",
       "      <td>0.0</td>\n",
       "      <td>0.0</td>\n",
       "      <td>0.0</td>\n",
       "      <td>0.0</td>\n",
       "      <td>0.0</td>\n",
       "      <td>0.0</td>\n",
       "    </tr>\n",
       "  </tbody>\n",
       "</table>\n",
       "<p>5 rows × 35 columns</p>\n",
       "</div>"
      ],
      "text/plain": [
       "        Store  DayOfWeek  Sales  Promo  StateHoliday  SchoolHoliday  Year  \\\n",
       "77677      85          2   4220      0   8487.471182              1  2013   \n",
       "235513    259          2   6851      0   8487.471182              1  2013   \n",
       "238339    262          2  17267      0   8487.471182              1  2013   \n",
       "249459    274          2   3102      0   8487.471182              1  2013   \n",
       "305081    335          2   2401      0   8487.471182              1  2013   \n",
       "\n",
       "        Month  DayOfMonth  WeekOfYear  ...  t-5  t-6  t-7  t-8  t-9  t-10  \\\n",
       "77677       1           1           1  ...  0.0  0.0  0.0  0.0  0.0   0.0   \n",
       "235513      1           1           1  ...  0.0  0.0  0.0  0.0  0.0   0.0   \n",
       "238339      1           1           1  ...  0.0  0.0  0.0  0.0  0.0   0.0   \n",
       "249459      1           1           1  ...  0.0  0.0  0.0  0.0  0.0   0.0   \n",
       "305081      1           1           1  ...  0.0  0.0  0.0  0.0  0.0   0.0   \n",
       "\n",
       "        t-11  t-12  t-13  t-14  \n",
       "77677    0.0   0.0   0.0   0.0  \n",
       "235513   0.0   0.0   0.0   0.0  \n",
       "238339   0.0   0.0   0.0   0.0  \n",
       "249459   0.0   0.0   0.0   0.0  \n",
       "305081   0.0   0.0   0.0   0.0  \n",
       "\n",
       "[5 rows x 35 columns]"
      ]
     },
     "execution_count": 107,
     "metadata": {},
     "output_type": "execute_result"
    }
   ],
   "source": [
    "data_enc = target_encoding(data_opened.copy(), 'Sales')\n",
    "data_enc.head()"
   ]
  },
  {
   "cell_type": "code",
   "execution_count": 108,
   "id": "6a47ff09",
   "metadata": {},
   "outputs": [],
   "source": [
    "train, valid = data_enc.iloc[:-53720, :], \\\n",
    "               data_enc.iloc[-53720:, :]"
   ]
  },
  {
   "cell_type": "code",
   "execution_count": 112,
   "id": "0efe88fd",
   "metadata": {},
   "outputs": [],
   "source": [
    "X_train, y_train = train.drop('Sales', axis=1), train['Sales']\n",
    "X_valid, y_valid = valid.drop('Sales', axis=1), valid['Sales']"
   ]
  },
  {
   "cell_type": "markdown",
   "id": "97b262ba",
   "metadata": {},
   "source": [
    "## Fitting with another encoding"
   ]
  },
  {
   "cell_type": "code",
   "execution_count": 120,
   "id": "10cd16c4",
   "metadata": {},
   "outputs": [],
   "source": [
    "params = {\n",
    "    \"n_estimators\" : 300,\n",
    "    \"booster\" : \"gbtree\",\n",
    "    \"learning_rate\": 0.03,\n",
    "    \"max_depth\": 10,\n",
    "    \"subsample\": 0.8,\n",
    "    \"colsample_bytree\": 0.7,\n",
    "    \"random_state\": 42,\n",
    "    \"n_jobs\": -1\n",
    "}"
   ]
  },
  {
   "cell_type": "code",
   "execution_count": 121,
   "id": "de53a962",
   "metadata": {},
   "outputs": [],
   "source": [
    "model = XGBRegressor(**params)"
   ]
  },
  {
   "cell_type": "code",
   "execution_count": 122,
   "id": "a207057e",
   "metadata": {},
   "outputs": [],
   "source": [
    "y_train = np.log1p(y_train)"
   ]
  },
  {
   "cell_type": "code",
   "execution_count": 123,
   "id": "5e175f46",
   "metadata": {},
   "outputs": [
    {
     "name": "stdout",
     "output_type": "stream",
     "text": [
      "Train a XGBoost model\n",
      "Training time is 189.678842 s.\n"
     ]
    }
   ],
   "source": [
    "print(\"Train a XGBoost model\")\n",
    "start = time()\n",
    "\n",
    "model.fit(X_train, y_train)\n",
    "\n",
    "end = time()\n",
    "print('Training time is {:2f} s.'.format(end-start))"
   ]
  },
  {
   "cell_type": "code",
   "execution_count": 117,
   "id": "a1d2e835",
   "metadata": {},
   "outputs": [],
   "source": [
    "y_pr_nolog_enc2 = model.predict(X_valid)"
   ]
  },
  {
   "cell_type": "code",
   "execution_count": 128,
   "id": "095e2b4b",
   "metadata": {},
   "outputs": [],
   "source": [
    "y_pr_log_enc2 = model.predict(X_valid)\n",
    "y_pr_log_enc2 = np.expm1(y_pr_log_enc2)"
   ]
  },
  {
   "cell_type": "code",
   "execution_count": 129,
   "id": "a45851de",
   "metadata": {},
   "outputs": [
    {
     "name": "stdout",
     "output_type": "stream",
     "text": [
      "RMSE (no log, enc2) error: 755.7126901938742\n",
      "RMSE (log, enc2) error: 810.9213393286414\n"
     ]
    }
   ],
   "source": [
    "print(f'RMSE (no log, enc2) error: {mse(y_pr_nolog_enc2, y_valid, squared=False)}')\n",
    "print(f'RMSE (log, enc2) error: {mse(y_pr_log_enc2, y_valid, squared=False)}')"
   ]
  },
  {
   "cell_type": "markdown",
   "id": "d529162e",
   "metadata": {},
   "source": [
    "## Giant model: here we go!"
   ]
  },
  {
   "cell_type": "code",
   "execution_count": 133,
   "id": "6af9d39f",
   "metadata": {},
   "outputs": [
    {
     "name": "stderr",
     "output_type": "stream",
     "text": [
      "D:\\EduPr\\anaconda\\lib\\site-packages\\pandas\\core\\frame.py:4308: SettingWithCopyWarning: \n",
      "A value is trying to be set on a copy of a slice from a DataFrame\n",
      "\n",
      "See the caveats in the documentation: https://pandas.pydata.org/pandas-docs/stable/user_guide/indexing.html#returning-a-view-versus-a-copy\n",
      "  return super().drop(\n"
     ]
    }
   ],
   "source": [
    "data_opened = data.query('Open == 1')\n",
    "data_opened.drop(['Date', 'Open'], axis=1, inplace=True)\n",
    "\n",
    "data_enc = target_encoding(data_opened.copy(), 'Sales')\n",
    "\n",
    "train, valid = data_enc.iloc[:-53720, :], \\\n",
    "               data_enc.iloc[-53720:, :]\n",
    "\n",
    "X_train, y_train = train.drop('Sales', axis=1), train['Sales']\n",
    "X_valid, y_valid = valid.drop('Sales', axis=1), valid['Sales']"
   ]
  },
  {
   "cell_type": "code",
   "execution_count": 134,
   "id": "e88d88a9",
   "metadata": {},
   "outputs": [],
   "source": [
    "params = {\n",
    "    \"n_estimators\" : 1500,\n",
    "    \"booster\" : \"gbtree\",\n",
    "    \"learning_rate\": 0.03,\n",
    "    \"max_depth\": 10,\n",
    "    \"subsample\": 0.8,\n",
    "    \"colsample_bytree\": 0.7,\n",
    "    \"random_state\": 42,\n",
    "    \"n_jobs\": -1\n",
    "}"
   ]
  },
  {
   "cell_type": "code",
   "execution_count": 135,
   "id": "47687716",
   "metadata": {},
   "outputs": [],
   "source": [
    "model = XGBRegressor(**params)"
   ]
  },
  {
   "cell_type": "code",
   "execution_count": 136,
   "id": "b9ec288e",
   "metadata": {},
   "outputs": [
    {
     "name": "stdout",
     "output_type": "stream",
     "text": [
      "Train a XGBoost model\n",
      "Training time is 912.433071 s.\n"
     ]
    }
   ],
   "source": [
    "print(\"Train a XGBoost model\")\n",
    "start = time()\n",
    "\n",
    "model.fit(X_train, y_train)\n",
    "\n",
    "end = time()\n",
    "print('Training time is {:2f} s.'.format(end-start))"
   ]
  },
  {
   "cell_type": "code",
   "execution_count": 137,
   "id": "2ca9a68a",
   "metadata": {},
   "outputs": [],
   "source": [
    "y_pr = model.predict(X_valid)"
   ]
  },
  {
   "cell_type": "code",
   "execution_count": 145,
   "id": "15c991ae",
   "metadata": {},
   "outputs": [
    {
     "name": "stdout",
     "output_type": "stream",
     "text": [
      "RMSE error for 1300 trees: 734.4725258647516\n"
     ]
    }
   ],
   "source": [
    "print(f'RMSE error for 1300 trees: {np.sqrt(mse(y_pr, y_valid, squared=True))}')"
   ]
  },
  {
   "cell_type": "code",
   "execution_count": 146,
   "id": "e85172d9",
   "metadata": {},
   "outputs": [
    {
     "data": {
      "text/plain": [
       "514.7817744603728"
      ]
     },
     "execution_count": 146,
     "metadata": {},
     "output_type": "execute_result"
    }
   ],
   "source": [
    "mae(y_pr, y_valid)"
   ]
  },
  {
   "cell_type": "code",
   "execution_count": 148,
   "id": "8eff1f35",
   "metadata": {},
   "outputs": [
    {
     "data": {
      "text/plain": [
       "529.2994596309477"
      ]
     },
     "execution_count": 148,
     "metadata": {},
     "output_type": "execute_result"
    }
   ],
   "source": [
    "mae(y_pr_nolog_enc2, y_valid)"
   ]
  },
  {
   "cell_type": "code",
   "execution_count": 160,
   "id": "4dde2570",
   "metadata": {},
   "outputs": [],
   "source": [
    "def rmspe(y_pr, y_valid):\n",
    "    return np.sum(((y_pr - y_valid) / y_valid) ** 2) / len(y_valid)"
   ]
  },
  {
   "cell_type": "code",
   "execution_count": 161,
   "id": "7b8bae00",
   "metadata": {},
   "outputs": [
    {
     "data": {
      "text/plain": [
       "0.011201786089547073"
      ]
     },
     "execution_count": 161,
     "metadata": {},
     "output_type": "execute_result"
    }
   ],
   "source": [
    "rmspe(y_pr, y_valid)"
   ]
  },
  {
   "cell_type": "code",
   "execution_count": 162,
   "id": "62277a2a",
   "metadata": {},
   "outputs": [
    {
     "data": {
      "text/plain": [
       "0.011894374912741996"
      ]
     },
     "execution_count": 162,
     "metadata": {},
     "output_type": "execute_result"
    }
   ],
   "source": [
    "rmspe(y_pr_nolog_enc2, y_valid)"
   ]
  },
  {
   "cell_type": "code",
   "execution_count": null,
   "id": "e9b90dc6",
   "metadata": {},
   "outputs": [],
   "source": []
  }
 ],
 "metadata": {
  "kernelspec": {
   "display_name": "Python 3",
   "language": "python",
   "name": "python3"
  },
  "language_info": {
   "codemirror_mode": {
    "name": "ipython",
    "version": 3
   },
   "file_extension": ".py",
   "mimetype": "text/x-python",
   "name": "python",
   "nbconvert_exporter": "python",
   "pygments_lexer": "ipython3",
   "version": "3.8.8"
  }
 },
 "nbformat": 4,
 "nbformat_minor": 5
}
