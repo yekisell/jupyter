{
 "cells": [
  {
   "cell_type": "markdown",
   "id": "ef23e7eb",
   "metadata": {},
   "source": [
    "# Project\n",
    "\n",
    "1. EDA - Разверточный анализ данных\n",
    "    * preprocessing\n",
    "    * eda\n",
    "        * fgh \n",
    "    * выбросы \n",
    "    * "
   ]
  },
  {
   "cell_type": "code",
   "execution_count": 174,
   "id": "c06707a8",
   "metadata": {},
   "outputs": [],
   "source": [
    "import numpy as np \n",
    "import pandas as pd\n",
    "import seaborn as sns\n",
    "from sklearn.metrics import accuracy_score, precision_score, recall_score\n",
    "from sklearn import preprocessing\n",
    "from sklearn.model_selection import train_test_split\n",
    "from sklearn.model_selection import cross_val_score\n",
    "from sklearn.model_selection import GridSearchCV\n",
    "from sklearn.model_selection import StratifiedKFold\n",
    "from sklearn.metrics import roc_auc_score, accuracy_score\n",
    "\n",
    "from sklearn.ensemble import RandomForestClassifier\n",
    "from sklearn.ensemble import GradientBoostingClassifier\n",
    "from sklearn.linear_model import LogisticRegression\n",
    "from sklearn.linear_model import SGDClassifier\n",
    "from sklearn.svm import SVC\n",
    "from catboost import CatBoostClassifier\n",
    "from matplotlib import rcParams\n",
    "import matplotlib as mpl\n",
    "import matplotlib.pyplot as plt\n",
    "rcParams['figure.figsize'] = 15,8\n",
    "\n",
    "from scipy.stats import ttest_ind"
   ]
  },
  {
   "cell_type": "code",
   "execution_count": 238,
   "id": "214de7a9",
   "metadata": {},
   "outputs": [],
   "source": [
    "train = pd.read_csv('../data_frames/TITANIC/train.csv')\n",
    "test = pd.read_csv('../data_frames/TITANIC/test.csv')"
   ]
  },
  {
   "cell_type": "code",
   "execution_count": 239,
   "id": "4b52fba4",
   "metadata": {},
   "outputs": [],
   "source": [
    "passId = test['PassengerId']"
   ]
  },
  {
   "cell_type": "code",
   "execution_count": 176,
   "id": "5299e141",
   "metadata": {},
   "outputs": [
    {
     "data": {
      "text/plain": [
       "(891, 12)"
      ]
     },
     "execution_count": 176,
     "metadata": {},
     "output_type": "execute_result"
    }
   ],
   "source": [
    "train.shape"
   ]
  },
  {
   "cell_type": "code",
   "execution_count": 177,
   "id": "d2ab8f10",
   "metadata": {
    "scrolled": true
   },
   "outputs": [
    {
     "data": {
      "text/html": [
       "<div>\n",
       "<style scoped>\n",
       "    .dataframe tbody tr th:only-of-type {\n",
       "        vertical-align: middle;\n",
       "    }\n",
       "\n",
       "    .dataframe tbody tr th {\n",
       "        vertical-align: top;\n",
       "    }\n",
       "\n",
       "    .dataframe thead th {\n",
       "        text-align: right;\n",
       "    }\n",
       "</style>\n",
       "<table border=\"1\" class=\"dataframe\">\n",
       "  <thead>\n",
       "    <tr style=\"text-align: right;\">\n",
       "      <th></th>\n",
       "      <th>PassengerId</th>\n",
       "      <th>Survived</th>\n",
       "      <th>Pclass</th>\n",
       "      <th>Name</th>\n",
       "      <th>Sex</th>\n",
       "      <th>Age</th>\n",
       "      <th>SibSp</th>\n",
       "      <th>Parch</th>\n",
       "      <th>Ticket</th>\n",
       "      <th>Fare</th>\n",
       "      <th>Cabin</th>\n",
       "      <th>Embarked</th>\n",
       "    </tr>\n",
       "  </thead>\n",
       "  <tbody>\n",
       "    <tr>\n",
       "      <th>0</th>\n",
       "      <td>1</td>\n",
       "      <td>0</td>\n",
       "      <td>3</td>\n",
       "      <td>Braund, Mr. Owen Harris</td>\n",
       "      <td>male</td>\n",
       "      <td>22.0</td>\n",
       "      <td>1</td>\n",
       "      <td>0</td>\n",
       "      <td>A/5 21171</td>\n",
       "      <td>7.2500</td>\n",
       "      <td>NaN</td>\n",
       "      <td>S</td>\n",
       "    </tr>\n",
       "    <tr>\n",
       "      <th>1</th>\n",
       "      <td>2</td>\n",
       "      <td>1</td>\n",
       "      <td>1</td>\n",
       "      <td>Cumings, Mrs. John Bradley (Florence Briggs Th...</td>\n",
       "      <td>female</td>\n",
       "      <td>38.0</td>\n",
       "      <td>1</td>\n",
       "      <td>0</td>\n",
       "      <td>PC 17599</td>\n",
       "      <td>71.2833</td>\n",
       "      <td>C85</td>\n",
       "      <td>C</td>\n",
       "    </tr>\n",
       "    <tr>\n",
       "      <th>2</th>\n",
       "      <td>3</td>\n",
       "      <td>1</td>\n",
       "      <td>3</td>\n",
       "      <td>Heikkinen, Miss. Laina</td>\n",
       "      <td>female</td>\n",
       "      <td>26.0</td>\n",
       "      <td>0</td>\n",
       "      <td>0</td>\n",
       "      <td>STON/O2. 3101282</td>\n",
       "      <td>7.9250</td>\n",
       "      <td>NaN</td>\n",
       "      <td>S</td>\n",
       "    </tr>\n",
       "    <tr>\n",
       "      <th>3</th>\n",
       "      <td>4</td>\n",
       "      <td>1</td>\n",
       "      <td>1</td>\n",
       "      <td>Futrelle, Mrs. Jacques Heath (Lily May Peel)</td>\n",
       "      <td>female</td>\n",
       "      <td>35.0</td>\n",
       "      <td>1</td>\n",
       "      <td>0</td>\n",
       "      <td>113803</td>\n",
       "      <td>53.1000</td>\n",
       "      <td>C123</td>\n",
       "      <td>S</td>\n",
       "    </tr>\n",
       "    <tr>\n",
       "      <th>4</th>\n",
       "      <td>5</td>\n",
       "      <td>0</td>\n",
       "      <td>3</td>\n",
       "      <td>Allen, Mr. William Henry</td>\n",
       "      <td>male</td>\n",
       "      <td>35.0</td>\n",
       "      <td>0</td>\n",
       "      <td>0</td>\n",
       "      <td>373450</td>\n",
       "      <td>8.0500</td>\n",
       "      <td>NaN</td>\n",
       "      <td>S</td>\n",
       "    </tr>\n",
       "  </tbody>\n",
       "</table>\n",
       "</div>"
      ],
      "text/plain": [
       "   PassengerId  Survived  Pclass  \\\n",
       "0            1         0       3   \n",
       "1            2         1       1   \n",
       "2            3         1       3   \n",
       "3            4         1       1   \n",
       "4            5         0       3   \n",
       "\n",
       "                                                Name     Sex   Age  SibSp  \\\n",
       "0                            Braund, Mr. Owen Harris    male  22.0      1   \n",
       "1  Cumings, Mrs. John Bradley (Florence Briggs Th...  female  38.0      1   \n",
       "2                             Heikkinen, Miss. Laina  female  26.0      0   \n",
       "3       Futrelle, Mrs. Jacques Heath (Lily May Peel)  female  35.0      1   \n",
       "4                           Allen, Mr. William Henry    male  35.0      0   \n",
       "\n",
       "   Parch            Ticket     Fare Cabin Embarked  \n",
       "0      0         A/5 21171   7.2500   NaN        S  \n",
       "1      0          PC 17599  71.2833   C85        C  \n",
       "2      0  STON/O2. 3101282   7.9250   NaN        S  \n",
       "3      0            113803  53.1000  C123        S  \n",
       "4      0            373450   8.0500   NaN        S  "
      ]
     },
     "execution_count": 177,
     "metadata": {},
     "output_type": "execute_result"
    }
   ],
   "source": [
    "train.head()"
   ]
  },
  {
   "cell_type": "markdown",
   "id": "e29baf70",
   "metadata": {},
   "source": [
    "**EDA**\n",
    "1. "
   ]
  },
  {
   "cell_type": "code",
   "execution_count": 178,
   "id": "adcb5f6b",
   "metadata": {},
   "outputs": [
    {
     "name": "stdout",
     "output_type": "stream",
     "text": [
      "<class 'pandas.core.frame.DataFrame'>\n",
      "RangeIndex: 891 entries, 0 to 890\n",
      "Data columns (total 12 columns):\n",
      " #   Column       Non-Null Count  Dtype  \n",
      "---  ------       --------------  -----  \n",
      " 0   PassengerId  891 non-null    int64  \n",
      " 1   Survived     891 non-null    int64  \n",
      " 2   Pclass       891 non-null    int64  \n",
      " 3   Name         891 non-null    object \n",
      " 4   Sex          891 non-null    object \n",
      " 5   Age          714 non-null    float64\n",
      " 6   SibSp        891 non-null    int64  \n",
      " 7   Parch        891 non-null    int64  \n",
      " 8   Ticket       891 non-null    object \n",
      " 9   Fare         891 non-null    float64\n",
      " 10  Cabin        204 non-null    object \n",
      " 11  Embarked     889 non-null    object \n",
      "dtypes: float64(2), int64(5), object(5)\n",
      "memory usage: 83.7+ KB\n"
     ]
    }
   ],
   "source": [
    "train.info()"
   ]
  },
  {
   "cell_type": "markdown",
   "id": "fb3b5923",
   "metadata": {},
   "source": [
    "# Визуализация"
   ]
  },
  {
   "cell_type": "code",
   "execution_count": 179,
   "id": "33dd7e3b",
   "metadata": {
    "scrolled": true
   },
   "outputs": [],
   "source": [
    "numeric_columns = train.columns[train.dtypes != 'object']\n",
    "object_columns = train.columns[train.dtypes == 'object']"
   ]
  },
  {
   "cell_type": "code",
   "execution_count": 180,
   "id": "a637dd26",
   "metadata": {},
   "outputs": [],
   "source": [
    "df_num = train[numeric_columns].drop('PassengerId', axis=1)\n",
    "df_obj = train[object_columns]"
   ]
  },
  {
   "cell_type": "code",
   "execution_count": 181,
   "id": "789dce54",
   "metadata": {},
   "outputs": [
    {
     "data": {
      "text/plain": [
       "3    491\n",
       "1    216\n",
       "2    184\n",
       "Name: Pclass, dtype: int64"
      ]
     },
     "execution_count": 181,
     "metadata": {},
     "output_type": "execute_result"
    }
   ],
   "source": [
    "train.Pclass.value_counts()"
   ]
  },
  {
   "cell_type": "code",
   "execution_count": 182,
   "id": "d9f96d6e",
   "metadata": {},
   "outputs": [
    {
     "data": {
      "text/plain": [
       "<AxesSubplot:xlabel='Pclass', ylabel='count'>"
      ]
     },
     "execution_count": 182,
     "metadata": {},
     "output_type": "execute_result"
    },
    {
     "data": {
      "image/png": "[encoded data removed]",
      "text/plain": [
       "<Figure size 864x720 with 1 Axes>"
      ]
     },
     "metadata": {
      "needs_background": "light"
     },
     "output_type": "display_data"
    }
   ],
   "source": [
    "fig, ax = plt.subplots(figsize=(12,10))\n",
    "sns.countplot(x='Pclass', hue='Survived', data=train)"
   ]
  },
  {
   "cell_type": "code",
   "execution_count": 183,
   "id": "e26e3e9c",
   "metadata": {},
   "outputs": [
    {
     "data": {
      "text/plain": [
       "[None, None, None, None, None, None, None, None, None, None, None, None]"
      ]
     },
     "execution_count": 183,
     "metadata": {},
     "output_type": "execute_result"
    },
    {
     "data": {
      "image/png": "[encoded data removed]",
      "text/plain": [
       "<Figure size 1080x576 with 2 Axes>"
      ]
     },
     "metadata": {
      "needs_background": "light"
     },
     "output_type": "display_data"
    }
   ],
   "source": [
    "ax = sns.heatmap(df_num.corr(), linewidths=.3);\n",
    "locs, labels = plt.yticks()\n",
    "plt.setp(labels, rotation=45)"
   ]
  },
  {
   "cell_type": "code",
   "execution_count": 184,
   "id": "5f3ddf17",
   "metadata": {},
   "outputs": [
    {
     "data": {
      "image/png": "[encoded data removed]",
      "text/plain": [
       "<Figure size 1080x1080 with 42 Axes>"
      ]
     },
     "metadata": {
      "needs_background": "light"
     },
     "output_type": "display_data"
    }
   ],
   "source": [
    "sns.pairplot(df_num);"
   ]
  },
  {
   "cell_type": "code",
   "execution_count": 185,
   "id": "1636e246",
   "metadata": {
    "scrolled": false
   },
   "outputs": [
    {
     "data": {
      "image/png": "[encoded data removed]",
      "text/plain": [
       "<Figure size 1080x576 with 1 Axes>"
      ]
     },
     "metadata": {
      "needs_background": "light"
     },
     "output_type": "display_data"
    }
   ],
   "source": [
    "sns.boxplot(data=train, x='Survived', y='Age');"
   ]
  },
  {
   "cell_type": "code",
   "execution_count": 186,
   "id": "95b4cee2",
   "metadata": {},
   "outputs": [],
   "source": [
    "train_viz = train.copy()\n",
    "train_viz.Survived = train.Survived.map({1:'Survived', 0:\"Didn't survived\"})"
   ]
  },
  {
   "cell_type": "code",
   "execution_count": 187,
   "id": "e571e353",
   "metadata": {},
   "outputs": [
    {
     "data": {
      "image/png": "[encoded data removed]",
      "text/plain": [
       "<Figure size 648x648 with 9 Axes>"
      ]
     },
     "metadata": {
      "needs_background": "light"
     },
     "output_type": "display_data"
    }
   ],
   "source": [
    "ax = sns.FacetGrid(data=train_viz, col='Pclass', row='Embarked', hue='Survived');\n",
    "ax.map(plt.scatter, 'Age', 'Fare', alpha=0.7);\n",
    "plt.legend(loc='best');\n",
    "plt.legend(bbox_to_anchor=(1.02, 1), loc='upper left', borderaxespad=0);"
   ]
  },
  {
   "cell_type": "code",
   "execution_count": null,
   "id": "edd84ddb",
   "metadata": {},
   "outputs": [],
   "source": []
  },
  {
   "cell_type": "code",
   "execution_count": 188,
   "id": "5c7efde4",
   "metadata": {},
   "outputs": [
    {
     "data": {
      "text/html": [
       "<div>\n",
       "<style scoped>\n",
       "    .dataframe tbody tr th:only-of-type {\n",
       "        vertical-align: middle;\n",
       "    }\n",
       "\n",
       "    .dataframe tbody tr th {\n",
       "        vertical-align: top;\n",
       "    }\n",
       "\n",
       "    .dataframe thead th {\n",
       "        text-align: right;\n",
       "    }\n",
       "</style>\n",
       "<table border=\"1\" class=\"dataframe\">\n",
       "  <thead>\n",
       "    <tr style=\"text-align: right;\">\n",
       "      <th></th>\n",
       "      <th>PassengerId</th>\n",
       "      <th>Survived</th>\n",
       "      <th>Pclass</th>\n",
       "      <th>Name</th>\n",
       "      <th>Sex</th>\n",
       "      <th>Age</th>\n",
       "      <th>SibSp</th>\n",
       "      <th>Parch</th>\n",
       "      <th>Ticket</th>\n",
       "      <th>Fare</th>\n",
       "      <th>Cabin</th>\n",
       "      <th>Embarked</th>\n",
       "    </tr>\n",
       "  </thead>\n",
       "  <tbody>\n",
       "    <tr>\n",
       "      <th>0</th>\n",
       "      <td>1</td>\n",
       "      <td>0</td>\n",
       "      <td>3</td>\n",
       "      <td>Braund, Mr. Owen Harris</td>\n",
       "      <td>male</td>\n",
       "      <td>22.0</td>\n",
       "      <td>1</td>\n",
       "      <td>0</td>\n",
       "      <td>A/5 21171</td>\n",
       "      <td>7.2500</td>\n",
       "      <td>NaN</td>\n",
       "      <td>S</td>\n",
       "    </tr>\n",
       "    <tr>\n",
       "      <th>1</th>\n",
       "      <td>2</td>\n",
       "      <td>1</td>\n",
       "      <td>1</td>\n",
       "      <td>Cumings, Mrs. John Bradley (Florence Briggs Th...</td>\n",
       "      <td>female</td>\n",
       "      <td>38.0</td>\n",
       "      <td>1</td>\n",
       "      <td>0</td>\n",
       "      <td>PC 17599</td>\n",
       "      <td>71.2833</td>\n",
       "      <td>C85</td>\n",
       "      <td>C</td>\n",
       "    </tr>\n",
       "    <tr>\n",
       "      <th>2</th>\n",
       "      <td>3</td>\n",
       "      <td>1</td>\n",
       "      <td>3</td>\n",
       "      <td>Heikkinen, Miss. Laina</td>\n",
       "      <td>female</td>\n",
       "      <td>26.0</td>\n",
       "      <td>0</td>\n",
       "      <td>0</td>\n",
       "      <td>STON/O2. 3101282</td>\n",
       "      <td>7.9250</td>\n",
       "      <td>NaN</td>\n",
       "      <td>S</td>\n",
       "    </tr>\n",
       "    <tr>\n",
       "      <th>3</th>\n",
       "      <td>4</td>\n",
       "      <td>1</td>\n",
       "      <td>1</td>\n",
       "      <td>Futrelle, Mrs. Jacques Heath (Lily May Peel)</td>\n",
       "      <td>female</td>\n",
       "      <td>35.0</td>\n",
       "      <td>1</td>\n",
       "      <td>0</td>\n",
       "      <td>113803</td>\n",
       "      <td>53.1000</td>\n",
       "      <td>C123</td>\n",
       "      <td>S</td>\n",
       "    </tr>\n",
       "    <tr>\n",
       "      <th>4</th>\n",
       "      <td>5</td>\n",
       "      <td>0</td>\n",
       "      <td>3</td>\n",
       "      <td>Allen, Mr. William Henry</td>\n",
       "      <td>male</td>\n",
       "      <td>35.0</td>\n",
       "      <td>0</td>\n",
       "      <td>0</td>\n",
       "      <td>373450</td>\n",
       "      <td>8.0500</td>\n",
       "      <td>NaN</td>\n",
       "      <td>S</td>\n",
       "    </tr>\n",
       "  </tbody>\n",
       "</table>\n",
       "</div>"
      ],
      "text/plain": [
       "   PassengerId  Survived  Pclass  \\\n",
       "0            1         0       3   \n",
       "1            2         1       1   \n",
       "2            3         1       3   \n",
       "3            4         1       1   \n",
       "4            5         0       3   \n",
       "\n",
       "                                                Name     Sex   Age  SibSp  \\\n",
       "0                            Braund, Mr. Owen Harris    male  22.0      1   \n",
       "1  Cumings, Mrs. John Bradley (Florence Briggs Th...  female  38.0      1   \n",
       "2                             Heikkinen, Miss. Laina  female  26.0      0   \n",
       "3       Futrelle, Mrs. Jacques Heath (Lily May Peel)  female  35.0      1   \n",
       "4                           Allen, Mr. William Henry    male  35.0      0   \n",
       "\n",
       "   Parch            Ticket     Fare Cabin Embarked  \n",
       "0      0         A/5 21171   7.2500   NaN        S  \n",
       "1      0          PC 17599  71.2833   C85        C  \n",
       "2      0  STON/O2. 3101282   7.9250   NaN        S  \n",
       "3      0            113803  53.1000  C123        S  \n",
       "4      0            373450   8.0500   NaN        S  "
      ]
     },
     "execution_count": 188,
     "metadata": {},
     "output_type": "execute_result"
    }
   ],
   "source": [
    "train.head()"
   ]
  },
  {
   "cell_type": "code",
   "execution_count": 189,
   "id": "10eadc97",
   "metadata": {},
   "outputs": [],
   "source": [
    "train['is_child'] = train.Age < 10\n",
    "train['is_child'] = train['is_child'].map({False:0, True:1})\n",
    "test['is_child'] = test.Age < 10\n",
    "test['is_child'] = test['is_child'].map({False:0, True:1})"
   ]
  },
  {
   "cell_type": "code",
   "execution_count": 190,
   "id": "d0ab795b",
   "metadata": {},
   "outputs": [
    {
     "data": {
      "text/plain": [
       "Cabin          77.10\n",
       "Age            19.87\n",
       "Embarked        0.22\n",
       "PassengerId     0.00\n",
       "Survived        0.00\n",
       "Pclass          0.00\n",
       "Name            0.00\n",
       "Sex             0.00\n",
       "SibSp           0.00\n",
       "Parch           0.00\n",
       "Ticket          0.00\n",
       "Fare            0.00\n",
       "is_child        0.00\n",
       "dtype: float64"
      ]
     },
     "execution_count": 190,
     "metadata": {},
     "output_type": "execute_result"
    }
   ],
   "source": [
    "round(train.isna().sum()/train.shape[0] * 100, 2).sort_values(ascending=False)"
   ]
  },
  {
   "cell_type": "code",
   "execution_count": 191,
   "id": "3249f922",
   "metadata": {},
   "outputs": [],
   "source": [
    "train['NameLength'] = train['Name'].apply(lambda x: len(x))\n",
    "test['NameLength'] = test['Name'].apply(lambda x: len(x))"
   ]
  },
  {
   "cell_type": "code",
   "execution_count": 192,
   "id": "ba595b4c",
   "metadata": {
    "scrolled": false
   },
   "outputs": [
    {
     "data": {
      "text/plain": [
       "<AxesSubplot:xlabel='Survived', ylabel='NameLength'>"
      ]
     },
     "execution_count": 192,
     "metadata": {},
     "output_type": "execute_result"
    },
    {
     "data": {
      "image/png": "[encoded data removed]",
      "text/plain": [
       "<Figure size 1080x576 with 1 Axes>"
      ]
     },
     "metadata": {
      "needs_background": "light"
     },
     "output_type": "display_data"
    }
   ],
   "source": [
    "sns.boxplot(data=train, x='Survived', y='NameLength')"
   ]
  },
  {
   "cell_type": "code",
   "execution_count": 193,
   "id": "c78cc06f",
   "metadata": {},
   "outputs": [],
   "source": [
    "a = train[train['Survived'] == 0]['NameLength'].values\n",
    "b = train[train['Survived'] == 1]['NameLength'].values"
   ]
  },
  {
   "cell_type": "code",
   "execution_count": 194,
   "id": "218abd34",
   "metadata": {},
   "outputs": [
    {
     "data": {
      "text/plain": [
       "Ttest_indResult(statistic=-10.506602212381356, pvalue=2.026795066343707e-24)"
      ]
     },
     "execution_count": 194,
     "metadata": {},
     "output_type": "execute_result"
    }
   ],
   "source": [
    "ttest_ind(a, b)"
   ]
  },
  {
   "cell_type": "code",
   "execution_count": null,
   "id": "0af272a4",
   "metadata": {},
   "outputs": [],
   "source": []
  },
  {
   "cell_type": "code",
   "execution_count": 197,
   "id": "a0fef8cc",
   "metadata": {},
   "outputs": [],
   "source": [
    "train.drop(['Ticket', 'Name', 'Cabin', 'PassengerId'], axis=1, inplace=True)\n",
    "test.drop(['Ticket', 'Name', 'Cabin', 'PassengerId'], axis=1, inplace=True)"
   ]
  },
  {
   "cell_type": "code",
   "execution_count": 198,
   "id": "6a4aca2a",
   "metadata": {},
   "outputs": [],
   "source": [
    "train[\"Age\"] = train[\"Age\"].fillna(train[\"Age\"].median())\n",
    "test[\"Age\"] = test[\"Age\"].fillna(test[\"Age\"].median())"
   ]
  },
  {
   "cell_type": "code",
   "execution_count": 199,
   "id": "bb8023b9",
   "metadata": {},
   "outputs": [],
   "source": [
    "train['Embarked'] = train['Embarked'].fillna(train['Embarked'].mode()[0])\n",
    "test['Embarked'] = test['Embarked'].fillna(test['Embarked'].mode()[0])"
   ]
  },
  {
   "cell_type": "code",
   "execution_count": null,
   "id": "954d556a",
   "metadata": {},
   "outputs": [],
   "source": []
  },
  {
   "cell_type": "code",
   "execution_count": 200,
   "id": "f2bf718f",
   "metadata": {},
   "outputs": [
    {
     "data": {
      "text/html": [
       "<div>\n",
       "<style scoped>\n",
       "    .dataframe tbody tr th:only-of-type {\n",
       "        vertical-align: middle;\n",
       "    }\n",
       "\n",
       "    .dataframe tbody tr th {\n",
       "        vertical-align: top;\n",
       "    }\n",
       "\n",
       "    .dataframe thead th {\n",
       "        text-align: right;\n",
       "    }\n",
       "</style>\n",
       "<table border=\"1\" class=\"dataframe\">\n",
       "  <thead>\n",
       "    <tr style=\"text-align: right;\">\n",
       "      <th></th>\n",
       "      <th>Survived</th>\n",
       "      <th>Pclass</th>\n",
       "      <th>Sex</th>\n",
       "      <th>Age</th>\n",
       "      <th>SibSp</th>\n",
       "      <th>Parch</th>\n",
       "      <th>Fare</th>\n",
       "      <th>Embarked</th>\n",
       "      <th>is_child</th>\n",
       "      <th>NameLength</th>\n",
       "    </tr>\n",
       "  </thead>\n",
       "  <tbody>\n",
       "    <tr>\n",
       "      <th>0</th>\n",
       "      <td>0</td>\n",
       "      <td>3</td>\n",
       "      <td>male</td>\n",
       "      <td>22.0</td>\n",
       "      <td>1</td>\n",
       "      <td>0</td>\n",
       "      <td>7.2500</td>\n",
       "      <td>S</td>\n",
       "      <td>0</td>\n",
       "      <td>23</td>\n",
       "    </tr>\n",
       "    <tr>\n",
       "      <th>1</th>\n",
       "      <td>1</td>\n",
       "      <td>1</td>\n",
       "      <td>female</td>\n",
       "      <td>38.0</td>\n",
       "      <td>1</td>\n",
       "      <td>0</td>\n",
       "      <td>71.2833</td>\n",
       "      <td>C</td>\n",
       "      <td>0</td>\n",
       "      <td>51</td>\n",
       "    </tr>\n",
       "    <tr>\n",
       "      <th>2</th>\n",
       "      <td>1</td>\n",
       "      <td>3</td>\n",
       "      <td>female</td>\n",
       "      <td>26.0</td>\n",
       "      <td>0</td>\n",
       "      <td>0</td>\n",
       "      <td>7.9250</td>\n",
       "      <td>S</td>\n",
       "      <td>0</td>\n",
       "      <td>22</td>\n",
       "    </tr>\n",
       "    <tr>\n",
       "      <th>3</th>\n",
       "      <td>1</td>\n",
       "      <td>1</td>\n",
       "      <td>female</td>\n",
       "      <td>35.0</td>\n",
       "      <td>1</td>\n",
       "      <td>0</td>\n",
       "      <td>53.1000</td>\n",
       "      <td>S</td>\n",
       "      <td>0</td>\n",
       "      <td>44</td>\n",
       "    </tr>\n",
       "    <tr>\n",
       "      <th>4</th>\n",
       "      <td>0</td>\n",
       "      <td>3</td>\n",
       "      <td>male</td>\n",
       "      <td>35.0</td>\n",
       "      <td>0</td>\n",
       "      <td>0</td>\n",
       "      <td>8.0500</td>\n",
       "      <td>S</td>\n",
       "      <td>0</td>\n",
       "      <td>24</td>\n",
       "    </tr>\n",
       "  </tbody>\n",
       "</table>\n",
       "</div>"
      ],
      "text/plain": [
       "   Survived  Pclass     Sex   Age  SibSp  Parch     Fare Embarked  is_child  \\\n",
       "0         0       3    male  22.0      1      0   7.2500        S         0   \n",
       "1         1       1  female  38.0      1      0  71.2833        C         0   \n",
       "2         1       3  female  26.0      0      0   7.9250        S         0   \n",
       "3         1       1  female  35.0      1      0  53.1000        S         0   \n",
       "4         0       3    male  35.0      0      0   8.0500        S         0   \n",
       "\n",
       "   NameLength  \n",
       "0          23  \n",
       "1          51  \n",
       "2          22  \n",
       "3          44  \n",
       "4          24  "
      ]
     },
     "execution_count": 200,
     "metadata": {},
     "output_type": "execute_result"
    }
   ],
   "source": [
    "train.head()"
   ]
  },
  {
   "cell_type": "code",
   "execution_count": 236,
   "id": "67734f31",
   "metadata": {},
   "outputs": [],
   "source": [
    "test.Fare = test.Fare.fillna(test.Fare.median())"
   ]
  },
  {
   "cell_type": "code",
   "execution_count": 202,
   "id": "616942f8",
   "metadata": {},
   "outputs": [],
   "source": [
    "X_train, y_train = train.drop(['Survived'], axis=1), train['Survived']"
   ]
  },
  {
   "cell_type": "code",
   "execution_count": 203,
   "id": "3adceca5",
   "metadata": {},
   "outputs": [
    {
     "data": {
      "text/html": [
       "<div>\n",
       "<style scoped>\n",
       "    .dataframe tbody tr th:only-of-type {\n",
       "        vertical-align: middle;\n",
       "    }\n",
       "\n",
       "    .dataframe tbody tr th {\n",
       "        vertical-align: top;\n",
       "    }\n",
       "\n",
       "    .dataframe thead th {\n",
       "        text-align: right;\n",
       "    }\n",
       "</style>\n",
       "<table border=\"1\" class=\"dataframe\">\n",
       "  <thead>\n",
       "    <tr style=\"text-align: right;\">\n",
       "      <th></th>\n",
       "      <th>Pclass</th>\n",
       "      <th>Sex</th>\n",
       "      <th>Age</th>\n",
       "      <th>SibSp</th>\n",
       "      <th>Parch</th>\n",
       "      <th>Fare</th>\n",
       "      <th>Embarked</th>\n",
       "      <th>is_child</th>\n",
       "      <th>NameLength</th>\n",
       "    </tr>\n",
       "  </thead>\n",
       "  <tbody>\n",
       "    <tr>\n",
       "      <th>0</th>\n",
       "      <td>3</td>\n",
       "      <td>male</td>\n",
       "      <td>22.0</td>\n",
       "      <td>1</td>\n",
       "      <td>0</td>\n",
       "      <td>7.2500</td>\n",
       "      <td>S</td>\n",
       "      <td>0</td>\n",
       "      <td>23</td>\n",
       "    </tr>\n",
       "    <tr>\n",
       "      <th>1</th>\n",
       "      <td>1</td>\n",
       "      <td>female</td>\n",
       "      <td>38.0</td>\n",
       "      <td>1</td>\n",
       "      <td>0</td>\n",
       "      <td>71.2833</td>\n",
       "      <td>C</td>\n",
       "      <td>0</td>\n",
       "      <td>51</td>\n",
       "    </tr>\n",
       "    <tr>\n",
       "      <th>2</th>\n",
       "      <td>3</td>\n",
       "      <td>female</td>\n",
       "      <td>26.0</td>\n",
       "      <td>0</td>\n",
       "      <td>0</td>\n",
       "      <td>7.9250</td>\n",
       "      <td>S</td>\n",
       "      <td>0</td>\n",
       "      <td>22</td>\n",
       "    </tr>\n",
       "    <tr>\n",
       "      <th>3</th>\n",
       "      <td>1</td>\n",
       "      <td>female</td>\n",
       "      <td>35.0</td>\n",
       "      <td>1</td>\n",
       "      <td>0</td>\n",
       "      <td>53.1000</td>\n",
       "      <td>S</td>\n",
       "      <td>0</td>\n",
       "      <td>44</td>\n",
       "    </tr>\n",
       "    <tr>\n",
       "      <th>4</th>\n",
       "      <td>3</td>\n",
       "      <td>male</td>\n",
       "      <td>35.0</td>\n",
       "      <td>0</td>\n",
       "      <td>0</td>\n",
       "      <td>8.0500</td>\n",
       "      <td>S</td>\n",
       "      <td>0</td>\n",
       "      <td>24</td>\n",
       "    </tr>\n",
       "    <tr>\n",
       "      <th>...</th>\n",
       "      <td>...</td>\n",
       "      <td>...</td>\n",
       "      <td>...</td>\n",
       "      <td>...</td>\n",
       "      <td>...</td>\n",
       "      <td>...</td>\n",
       "      <td>...</td>\n",
       "      <td>...</td>\n",
       "      <td>...</td>\n",
       "    </tr>\n",
       "    <tr>\n",
       "      <th>886</th>\n",
       "      <td>2</td>\n",
       "      <td>male</td>\n",
       "      <td>27.0</td>\n",
       "      <td>0</td>\n",
       "      <td>0</td>\n",
       "      <td>13.0000</td>\n",
       "      <td>S</td>\n",
       "      <td>0</td>\n",
       "      <td>21</td>\n",
       "    </tr>\n",
       "    <tr>\n",
       "      <th>887</th>\n",
       "      <td>1</td>\n",
       "      <td>female</td>\n",
       "      <td>19.0</td>\n",
       "      <td>0</td>\n",
       "      <td>0</td>\n",
       "      <td>30.0000</td>\n",
       "      <td>S</td>\n",
       "      <td>0</td>\n",
       "      <td>28</td>\n",
       "    </tr>\n",
       "    <tr>\n",
       "      <th>888</th>\n",
       "      <td>3</td>\n",
       "      <td>female</td>\n",
       "      <td>28.0</td>\n",
       "      <td>1</td>\n",
       "      <td>2</td>\n",
       "      <td>23.4500</td>\n",
       "      <td>S</td>\n",
       "      <td>0</td>\n",
       "      <td>40</td>\n",
       "    </tr>\n",
       "    <tr>\n",
       "      <th>889</th>\n",
       "      <td>1</td>\n",
       "      <td>male</td>\n",
       "      <td>26.0</td>\n",
       "      <td>0</td>\n",
       "      <td>0</td>\n",
       "      <td>30.0000</td>\n",
       "      <td>C</td>\n",
       "      <td>0</td>\n",
       "      <td>21</td>\n",
       "    </tr>\n",
       "    <tr>\n",
       "      <th>890</th>\n",
       "      <td>3</td>\n",
       "      <td>male</td>\n",
       "      <td>32.0</td>\n",
       "      <td>0</td>\n",
       "      <td>0</td>\n",
       "      <td>7.7500</td>\n",
       "      <td>Q</td>\n",
       "      <td>0</td>\n",
       "      <td>19</td>\n",
       "    </tr>\n",
       "  </tbody>\n",
       "</table>\n",
       "<p>891 rows × 9 columns</p>\n",
       "</div>"
      ],
      "text/plain": [
       "     Pclass     Sex   Age  SibSp  Parch     Fare Embarked  is_child  \\\n",
       "0         3    male  22.0      1      0   7.2500        S         0   \n",
       "1         1  female  38.0      1      0  71.2833        C         0   \n",
       "2         3  female  26.0      0      0   7.9250        S         0   \n",
       "3         1  female  35.0      1      0  53.1000        S         0   \n",
       "4         3    male  35.0      0      0   8.0500        S         0   \n",
       "..      ...     ...   ...    ...    ...      ...      ...       ...   \n",
       "886       2    male  27.0      0      0  13.0000        S         0   \n",
       "887       1  female  19.0      0      0  30.0000        S         0   \n",
       "888       3  female  28.0      1      2  23.4500        S         0   \n",
       "889       1    male  26.0      0      0  30.0000        C         0   \n",
       "890       3    male  32.0      0      0   7.7500        Q         0   \n",
       "\n",
       "     NameLength  \n",
       "0            23  \n",
       "1            51  \n",
       "2            22  \n",
       "3            44  \n",
       "4            24  \n",
       "..          ...  \n",
       "886          21  \n",
       "887          28  \n",
       "888          40  \n",
       "889          21  \n",
       "890          19  \n",
       "\n",
       "[891 rows x 9 columns]"
      ]
     },
     "execution_count": 203,
     "metadata": {},
     "output_type": "execute_result"
    }
   ],
   "source": [
    "X_train"
   ]
  },
  {
   "cell_type": "code",
   "execution_count": 266,
   "id": "c1b4c0ae",
   "metadata": {},
   "outputs": [],
   "source": []
  },
  {
   "cell_type": "code",
   "execution_count": null,
   "id": "e7a40f1a",
   "metadata": {},
   "outputs": [],
   "source": []
  },
  {
   "cell_type": "code",
   "execution_count": null,
   "id": "97a0f674",
   "metadata": {},
   "outputs": [],
   "source": []
  },
  {
   "cell_type": "code",
   "execution_count": null,
   "id": "9f28109a",
   "metadata": {},
   "outputs": [],
   "source": []
  },
  {
   "cell_type": "markdown",
   "id": "54fa3fe0",
   "metadata": {},
   "source": [
    "# OHE (dummies)\n"
   ]
  },
  {
   "cell_type": "code",
   "execution_count": 204,
   "id": "caeba84e",
   "metadata": {},
   "outputs": [],
   "source": [
    "X_dummies = X_train.copy()"
   ]
  },
  {
   "cell_type": "code",
   "execution_count": 205,
   "id": "95766b09",
   "metadata": {},
   "outputs": [],
   "source": [
    "cat_features = X_train.columns\n",
    "cat_features = cat_features.drop(['Age', 'Fare', 'NameLength'])"
   ]
  },
  {
   "cell_type": "code",
   "execution_count": 206,
   "id": "20d303ea",
   "metadata": {},
   "outputs": [],
   "source": [
    "X_dummies[cat_features] = X_dummies[cat_features].astype('object')\n",
    "test[cat_features] = test[cat_features].astype('object')"
   ]
  },
  {
   "cell_type": "code",
   "execution_count": 207,
   "id": "99070b93",
   "metadata": {
    "scrolled": true
   },
   "outputs": [
    {
     "data": {
      "text/plain": [
       "Pclass         object\n",
       "Sex            object\n",
       "Age           float64\n",
       "SibSp          object\n",
       "Parch          object\n",
       "Fare          float64\n",
       "Embarked       object\n",
       "is_child       object\n",
       "NameLength      int64\n",
       "dtype: object"
      ]
     },
     "execution_count": 207,
     "metadata": {},
     "output_type": "execute_result"
    }
   ],
   "source": [
    "X_dummies.dtypes"
   ]
  },
  {
   "cell_type": "code",
   "execution_count": 208,
   "id": "8f5dfa6e",
   "metadata": {},
   "outputs": [],
   "source": [
    "X_dummies = pd.get_dummies(X_dummies, columns=X_dummies.columns[X_dummies.dtypes == 'object'])\n",
    "test = pd.get_dummies(test, columns=test.columns[test.dtypes == 'object'])"
   ]
  },
  {
   "cell_type": "code",
   "execution_count": 209,
   "id": "22f24b54",
   "metadata": {
    "scrolled": true
   },
   "outputs": [
    {
     "data": {
      "text/html": [
       "<div>\n",
       "<style scoped>\n",
       "    .dataframe tbody tr th:only-of-type {\n",
       "        vertical-align: middle;\n",
       "    }\n",
       "\n",
       "    .dataframe tbody tr th {\n",
       "        vertical-align: top;\n",
       "    }\n",
       "\n",
       "    .dataframe thead th {\n",
       "        text-align: right;\n",
       "    }\n",
       "</style>\n",
       "<table border=\"1\" class=\"dataframe\">\n",
       "  <thead>\n",
       "    <tr style=\"text-align: right;\">\n",
       "      <th></th>\n",
       "      <th>Age</th>\n",
       "      <th>Fare</th>\n",
       "      <th>NameLength</th>\n",
       "      <th>Pclass_1</th>\n",
       "      <th>Pclass_2</th>\n",
       "      <th>Pclass_3</th>\n",
       "      <th>Sex_female</th>\n",
       "      <th>Sex_male</th>\n",
       "      <th>SibSp_0</th>\n",
       "      <th>SibSp_1</th>\n",
       "      <th>...</th>\n",
       "      <th>Parch_2</th>\n",
       "      <th>Parch_3</th>\n",
       "      <th>Parch_4</th>\n",
       "      <th>Parch_5</th>\n",
       "      <th>Parch_6</th>\n",
       "      <th>Embarked_C</th>\n",
       "      <th>Embarked_Q</th>\n",
       "      <th>Embarked_S</th>\n",
       "      <th>is_child_0</th>\n",
       "      <th>is_child_1</th>\n",
       "    </tr>\n",
       "  </thead>\n",
       "  <tbody>\n",
       "    <tr>\n",
       "      <th>0</th>\n",
       "      <td>22.0</td>\n",
       "      <td>7.2500</td>\n",
       "      <td>23</td>\n",
       "      <td>0</td>\n",
       "      <td>0</td>\n",
       "      <td>1</td>\n",
       "      <td>0</td>\n",
       "      <td>1</td>\n",
       "      <td>0</td>\n",
       "      <td>1</td>\n",
       "      <td>...</td>\n",
       "      <td>0</td>\n",
       "      <td>0</td>\n",
       "      <td>0</td>\n",
       "      <td>0</td>\n",
       "      <td>0</td>\n",
       "      <td>0</td>\n",
       "      <td>0</td>\n",
       "      <td>1</td>\n",
       "      <td>1</td>\n",
       "      <td>0</td>\n",
       "    </tr>\n",
       "    <tr>\n",
       "      <th>1</th>\n",
       "      <td>38.0</td>\n",
       "      <td>71.2833</td>\n",
       "      <td>51</td>\n",
       "      <td>1</td>\n",
       "      <td>0</td>\n",
       "      <td>0</td>\n",
       "      <td>1</td>\n",
       "      <td>0</td>\n",
       "      <td>0</td>\n",
       "      <td>1</td>\n",
       "      <td>...</td>\n",
       "      <td>0</td>\n",
       "      <td>0</td>\n",
       "      <td>0</td>\n",
       "      <td>0</td>\n",
       "      <td>0</td>\n",
       "      <td>1</td>\n",
       "      <td>0</td>\n",
       "      <td>0</td>\n",
       "      <td>1</td>\n",
       "      <td>0</td>\n",
       "    </tr>\n",
       "    <tr>\n",
       "      <th>2</th>\n",
       "      <td>26.0</td>\n",
       "      <td>7.9250</td>\n",
       "      <td>22</td>\n",
       "      <td>0</td>\n",
       "      <td>0</td>\n",
       "      <td>1</td>\n",
       "      <td>1</td>\n",
       "      <td>0</td>\n",
       "      <td>1</td>\n",
       "      <td>0</td>\n",
       "      <td>...</td>\n",
       "      <td>0</td>\n",
       "      <td>0</td>\n",
       "      <td>0</td>\n",
       "      <td>0</td>\n",
       "      <td>0</td>\n",
       "      <td>0</td>\n",
       "      <td>0</td>\n",
       "      <td>1</td>\n",
       "      <td>1</td>\n",
       "      <td>0</td>\n",
       "    </tr>\n",
       "    <tr>\n",
       "      <th>3</th>\n",
       "      <td>35.0</td>\n",
       "      <td>53.1000</td>\n",
       "      <td>44</td>\n",
       "      <td>1</td>\n",
       "      <td>0</td>\n",
       "      <td>0</td>\n",
       "      <td>1</td>\n",
       "      <td>0</td>\n",
       "      <td>0</td>\n",
       "      <td>1</td>\n",
       "      <td>...</td>\n",
       "      <td>0</td>\n",
       "      <td>0</td>\n",
       "      <td>0</td>\n",
       "      <td>0</td>\n",
       "      <td>0</td>\n",
       "      <td>0</td>\n",
       "      <td>0</td>\n",
       "      <td>1</td>\n",
       "      <td>1</td>\n",
       "      <td>0</td>\n",
       "    </tr>\n",
       "    <tr>\n",
       "      <th>4</th>\n",
       "      <td>35.0</td>\n",
       "      <td>8.0500</td>\n",
       "      <td>24</td>\n",
       "      <td>0</td>\n",
       "      <td>0</td>\n",
       "      <td>1</td>\n",
       "      <td>0</td>\n",
       "      <td>1</td>\n",
       "      <td>1</td>\n",
       "      <td>0</td>\n",
       "      <td>...</td>\n",
       "      <td>0</td>\n",
       "      <td>0</td>\n",
       "      <td>0</td>\n",
       "      <td>0</td>\n",
       "      <td>0</td>\n",
       "      <td>0</td>\n",
       "      <td>0</td>\n",
       "      <td>1</td>\n",
       "      <td>1</td>\n",
       "      <td>0</td>\n",
       "    </tr>\n",
       "  </tbody>\n",
       "</table>\n",
       "<p>5 rows × 27 columns</p>\n",
       "</div>"
      ],
      "text/plain": [
       "    Age     Fare  NameLength  Pclass_1  Pclass_2  Pclass_3  Sex_female  \\\n",
       "0  22.0   7.2500          23         0         0         1           0   \n",
       "1  38.0  71.2833          51         1         0         0           1   \n",
       "2  26.0   7.9250          22         0         0         1           1   \n",
       "3  35.0  53.1000          44         1         0         0           1   \n",
       "4  35.0   8.0500          24         0         0         1           0   \n",
       "\n",
       "   Sex_male  SibSp_0  SibSp_1  ...  Parch_2  Parch_3  Parch_4  Parch_5  \\\n",
       "0         1        0        1  ...        0        0        0        0   \n",
       "1         0        0        1  ...        0        0        0        0   \n",
       "2         0        1        0  ...        0        0        0        0   \n",
       "3         0        0        1  ...        0        0        0        0   \n",
       "4         1        1        0  ...        0        0        0        0   \n",
       "\n",
       "   Parch_6  Embarked_C  Embarked_Q  Embarked_S  is_child_0  is_child_1  \n",
       "0        0           0           0           1           1           0  \n",
       "1        0           1           0           0           1           0  \n",
       "2        0           0           0           1           1           0  \n",
       "3        0           0           0           1           1           0  \n",
       "4        0           0           0           1           1           0  \n",
       "\n",
       "[5 rows x 27 columns]"
      ]
     },
     "execution_count": 209,
     "metadata": {},
     "output_type": "execute_result"
    }
   ],
   "source": [
    "X_dummies.head()"
   ]
  },
  {
   "cell_type": "code",
   "execution_count": 210,
   "id": "de4dc2a6",
   "metadata": {},
   "outputs": [
    {
     "data": {
      "text/html": [
       "<div>\n",
       "<style scoped>\n",
       "    .dataframe tbody tr th:only-of-type {\n",
       "        vertical-align: middle;\n",
       "    }\n",
       "\n",
       "    .dataframe tbody tr th {\n",
       "        vertical-align: top;\n",
       "    }\n",
       "\n",
       "    .dataframe thead th {\n",
       "        text-align: right;\n",
       "    }\n",
       "</style>\n",
       "<table border=\"1\" class=\"dataframe\">\n",
       "  <thead>\n",
       "    <tr style=\"text-align: right;\">\n",
       "      <th></th>\n",
       "      <th>Age</th>\n",
       "      <th>Fare</th>\n",
       "      <th>NameLength</th>\n",
       "      <th>Pclass_1</th>\n",
       "      <th>Pclass_2</th>\n",
       "      <th>Pclass_3</th>\n",
       "      <th>Sex_female</th>\n",
       "      <th>Sex_male</th>\n",
       "      <th>SibSp_0</th>\n",
       "      <th>SibSp_1</th>\n",
       "      <th>...</th>\n",
       "      <th>Parch_3</th>\n",
       "      <th>Parch_4</th>\n",
       "      <th>Parch_5</th>\n",
       "      <th>Parch_6</th>\n",
       "      <th>Parch_9</th>\n",
       "      <th>Embarked_C</th>\n",
       "      <th>Embarked_Q</th>\n",
       "      <th>Embarked_S</th>\n",
       "      <th>is_child_0</th>\n",
       "      <th>is_child_1</th>\n",
       "    </tr>\n",
       "  </thead>\n",
       "  <tbody>\n",
       "    <tr>\n",
       "      <th>0</th>\n",
       "      <td>34.5</td>\n",
       "      <td>7.8292</td>\n",
       "      <td>16</td>\n",
       "      <td>0</td>\n",
       "      <td>0</td>\n",
       "      <td>1</td>\n",
       "      <td>0</td>\n",
       "      <td>1</td>\n",
       "      <td>1</td>\n",
       "      <td>0</td>\n",
       "      <td>...</td>\n",
       "      <td>0</td>\n",
       "      <td>0</td>\n",
       "      <td>0</td>\n",
       "      <td>0</td>\n",
       "      <td>0</td>\n",
       "      <td>0</td>\n",
       "      <td>1</td>\n",
       "      <td>0</td>\n",
       "      <td>1</td>\n",
       "      <td>0</td>\n",
       "    </tr>\n",
       "    <tr>\n",
       "      <th>1</th>\n",
       "      <td>47.0</td>\n",
       "      <td>7.0000</td>\n",
       "      <td>32</td>\n",
       "      <td>0</td>\n",
       "      <td>0</td>\n",
       "      <td>1</td>\n",
       "      <td>1</td>\n",
       "      <td>0</td>\n",
       "      <td>0</td>\n",
       "      <td>1</td>\n",
       "      <td>...</td>\n",
       "      <td>0</td>\n",
       "      <td>0</td>\n",
       "      <td>0</td>\n",
       "      <td>0</td>\n",
       "      <td>0</td>\n",
       "      <td>0</td>\n",
       "      <td>0</td>\n",
       "      <td>1</td>\n",
       "      <td>1</td>\n",
       "      <td>0</td>\n",
       "    </tr>\n",
       "    <tr>\n",
       "      <th>2</th>\n",
       "      <td>62.0</td>\n",
       "      <td>9.6875</td>\n",
       "      <td>25</td>\n",
       "      <td>0</td>\n",
       "      <td>1</td>\n",
       "      <td>0</td>\n",
       "      <td>0</td>\n",
       "      <td>1</td>\n",
       "      <td>1</td>\n",
       "      <td>0</td>\n",
       "      <td>...</td>\n",
       "      <td>0</td>\n",
       "      <td>0</td>\n",
       "      <td>0</td>\n",
       "      <td>0</td>\n",
       "      <td>0</td>\n",
       "      <td>0</td>\n",
       "      <td>1</td>\n",
       "      <td>0</td>\n",
       "      <td>1</td>\n",
       "      <td>0</td>\n",
       "    </tr>\n",
       "    <tr>\n",
       "      <th>3</th>\n",
       "      <td>27.0</td>\n",
       "      <td>8.6625</td>\n",
       "      <td>16</td>\n",
       "      <td>0</td>\n",
       "      <td>0</td>\n",
       "      <td>1</td>\n",
       "      <td>0</td>\n",
       "      <td>1</td>\n",
       "      <td>1</td>\n",
       "      <td>0</td>\n",
       "      <td>...</td>\n",
       "      <td>0</td>\n",
       "      <td>0</td>\n",
       "      <td>0</td>\n",
       "      <td>0</td>\n",
       "      <td>0</td>\n",
       "      <td>0</td>\n",
       "      <td>0</td>\n",
       "      <td>1</td>\n",
       "      <td>1</td>\n",
       "      <td>0</td>\n",
       "    </tr>\n",
       "    <tr>\n",
       "      <th>4</th>\n",
       "      <td>22.0</td>\n",
       "      <td>12.2875</td>\n",
       "      <td>44</td>\n",
       "      <td>0</td>\n",
       "      <td>0</td>\n",
       "      <td>1</td>\n",
       "      <td>1</td>\n",
       "      <td>0</td>\n",
       "      <td>0</td>\n",
       "      <td>1</td>\n",
       "      <td>...</td>\n",
       "      <td>0</td>\n",
       "      <td>0</td>\n",
       "      <td>0</td>\n",
       "      <td>0</td>\n",
       "      <td>0</td>\n",
       "      <td>0</td>\n",
       "      <td>0</td>\n",
       "      <td>1</td>\n",
       "      <td>1</td>\n",
       "      <td>0</td>\n",
       "    </tr>\n",
       "  </tbody>\n",
       "</table>\n",
       "<p>5 rows × 28 columns</p>\n",
       "</div>"
      ],
      "text/plain": [
       "    Age     Fare  NameLength  Pclass_1  Pclass_2  Pclass_3  Sex_female  \\\n",
       "0  34.5   7.8292          16         0         0         1           0   \n",
       "1  47.0   7.0000          32         0         0         1           1   \n",
       "2  62.0   9.6875          25         0         1         0           0   \n",
       "3  27.0   8.6625          16         0         0         1           0   \n",
       "4  22.0  12.2875          44         0         0         1           1   \n",
       "\n",
       "   Sex_male  SibSp_0  SibSp_1  ...  Parch_3  Parch_4  Parch_5  Parch_6  \\\n",
       "0         1        1        0  ...        0        0        0        0   \n",
       "1         0        0        1  ...        0        0        0        0   \n",
       "2         1        1        0  ...        0        0        0        0   \n",
       "3         1        1        0  ...        0        0        0        0   \n",
       "4         0        0        1  ...        0        0        0        0   \n",
       "\n",
       "   Parch_9  Embarked_C  Embarked_Q  Embarked_S  is_child_0  is_child_1  \n",
       "0        0           0           1           0           1           0  \n",
       "1        0           0           0           1           1           0  \n",
       "2        0           0           1           0           1           0  \n",
       "3        0           0           0           1           1           0  \n",
       "4        0           0           0           1           1           0  \n",
       "\n",
       "[5 rows x 28 columns]"
      ]
     },
     "execution_count": 210,
     "metadata": {},
     "output_type": "execute_result"
    }
   ],
   "source": [
    "test.head()"
   ]
  },
  {
   "cell_type": "code",
   "execution_count": 211,
   "id": "c1ad14cb",
   "metadata": {},
   "outputs": [],
   "source": [
    "test.drop('Parch_9', axis=1, inplace=True)"
   ]
  },
  {
   "cell_type": "code",
   "execution_count": 212,
   "id": "7a66de8c",
   "metadata": {},
   "outputs": [],
   "source": [
    "X_train_split, X_valid, y_train_split, y_valid = train_test_split(X_dummies, y_train, test_size=0.3)"
   ]
  },
  {
   "cell_type": "code",
   "execution_count": null,
   "id": "3132b8e0",
   "metadata": {},
   "outputs": [],
   "source": []
  },
  {
   "cell_type": "code",
   "execution_count": 213,
   "id": "30185277",
   "metadata": {},
   "outputs": [],
   "source": [
    "skf = StratifiedKFold(n_splits=5, shuffle=True)"
   ]
  },
  {
   "cell_type": "code",
   "execution_count": 214,
   "id": "b94b2a61",
   "metadata": {},
   "outputs": [],
   "source": [
    "rf = RandomForestClassifier(random_state=17)"
   ]
  },
  {
   "cell_type": "code",
   "execution_count": 215,
   "id": "dab1329e",
   "metadata": {},
   "outputs": [],
   "source": [
    "forest_params = {'n_estimators':range(200, 400, 50),\n",
    "                 'max_depth':range(10, 15),\n",
    "                 'min_samples_split':range(2, 5, 2),\n",
    "                 'min_samples_leaf':range(2, 4)}"
   ]
  },
  {
   "cell_type": "code",
   "execution_count": 216,
   "id": "5e59ea41",
   "metadata": {
    "scrolled": true
   },
   "outputs": [
    {
     "data": {
      "text/plain": [
       "GridSearchCV(cv=StratifiedKFold(n_splits=5, random_state=None, shuffle=True),\n",
       "             estimator=RandomForestClassifier(random_state=17), n_jobs=-1,\n",
       "             param_grid={'max_depth': range(10, 15),\n",
       "                         'min_samples_leaf': range(2, 4),\n",
       "                         'min_samples_split': range(2, 5, 2),\n",
       "                         'n_estimators': range(200, 400, 50)},\n",
       "             scoring='accuracy')"
      ]
     },
     "execution_count": 216,
     "metadata": {},
     "output_type": "execute_result"
    }
   ],
   "source": [
    "clf = GridSearchCV(rf, forest_params, cv=skf, n_jobs=-1, scoring='accuracy')\n",
    "clf.fit(X_train_split, y_train_split)"
   ]
  },
  {
   "cell_type": "code",
   "execution_count": 217,
   "id": "b2a0ff2d",
   "metadata": {},
   "outputs": [
    {
     "data": {
      "text/plain": [
       "{'max_depth': 11,\n",
       " 'min_samples_leaf': 2,\n",
       " 'min_samples_split': 2,\n",
       " 'n_estimators': 350}"
      ]
     },
     "execution_count": 217,
     "metadata": {},
     "output_type": "execute_result"
    }
   ],
   "source": [
    "clf.best_params_"
   ]
  },
  {
   "cell_type": "code",
   "execution_count": 218,
   "id": "688b0400",
   "metadata": {},
   "outputs": [],
   "source": [
    "best_rf = clf.best_estimator_"
   ]
  },
  {
   "cell_type": "code",
   "execution_count": 219,
   "id": "97b251f0",
   "metadata": {},
   "outputs": [],
   "source": [
    "y_pred = best_rf.predict(X_valid)"
   ]
  },
  {
   "cell_type": "code",
   "execution_count": 220,
   "id": "38efe8ce",
   "metadata": {},
   "outputs": [
    {
     "data": {
      "text/plain": [
       "0.7873134328358209"
      ]
     },
     "execution_count": 220,
     "metadata": {},
     "output_type": "execute_result"
    }
   ],
   "source": [
    "accuracy_score(y_valid, y_pred)"
   ]
  },
  {
   "cell_type": "code",
   "execution_count": 221,
   "id": "a6b8e65e",
   "metadata": {
    "scrolled": true
   },
   "outputs": [
    {
     "data": {
      "text/html": [
       "<div>\n",
       "<style scoped>\n",
       "    .dataframe tbody tr th:only-of-type {\n",
       "        vertical-align: middle;\n",
       "    }\n",
       "\n",
       "    .dataframe tbody tr th {\n",
       "        vertical-align: top;\n",
       "    }\n",
       "\n",
       "    .dataframe thead th {\n",
       "        text-align: right;\n",
       "    }\n",
       "</style>\n",
       "<table border=\"1\" class=\"dataframe\">\n",
       "  <thead>\n",
       "    <tr style=\"text-align: right;\">\n",
       "      <th></th>\n",
       "      <th>importance</th>\n",
       "    </tr>\n",
       "  </thead>\n",
       "  <tbody>\n",
       "    <tr>\n",
       "      <th>Sex_female</th>\n",
       "      <td>0.183458</td>\n",
       "    </tr>\n",
       "    <tr>\n",
       "      <th>Sex_male</th>\n",
       "      <td>0.174907</td>\n",
       "    </tr>\n",
       "    <tr>\n",
       "      <th>Fare</th>\n",
       "      <td>0.146337</td>\n",
       "    </tr>\n",
       "    <tr>\n",
       "      <th>NameLength</th>\n",
       "      <td>0.108788</td>\n",
       "    </tr>\n",
       "    <tr>\n",
       "      <th>Age</th>\n",
       "      <td>0.101123</td>\n",
       "    </tr>\n",
       "    <tr>\n",
       "      <th>Pclass_3</th>\n",
       "      <td>0.075334</td>\n",
       "    </tr>\n",
       "    <tr>\n",
       "      <th>Pclass_1</th>\n",
       "      <td>0.042383</td>\n",
       "    </tr>\n",
       "    <tr>\n",
       "      <th>Pclass_2</th>\n",
       "      <td>0.019039</td>\n",
       "    </tr>\n",
       "    <tr>\n",
       "      <th>is_child_0</th>\n",
       "      <td>0.018025</td>\n",
       "    </tr>\n",
       "    <tr>\n",
       "      <th>is_child_1</th>\n",
       "      <td>0.017938</td>\n",
       "    </tr>\n",
       "    <tr>\n",
       "      <th>Embarked_C</th>\n",
       "      <td>0.015680</td>\n",
       "    </tr>\n",
       "    <tr>\n",
       "      <th>SibSp_0</th>\n",
       "      <td>0.014305</td>\n",
       "    </tr>\n",
       "    <tr>\n",
       "      <th>Embarked_S</th>\n",
       "      <td>0.014198</td>\n",
       "    </tr>\n",
       "    <tr>\n",
       "      <th>SibSp_1</th>\n",
       "      <td>0.013734</td>\n",
       "    </tr>\n",
       "    <tr>\n",
       "      <th>Parch_0</th>\n",
       "      <td>0.013362</td>\n",
       "    </tr>\n",
       "    <tr>\n",
       "      <th>Parch_1</th>\n",
       "      <td>0.008813</td>\n",
       "    </tr>\n",
       "    <tr>\n",
       "      <th>Parch_2</th>\n",
       "      <td>0.007646</td>\n",
       "    </tr>\n",
       "    <tr>\n",
       "      <th>Embarked_Q</th>\n",
       "      <td>0.007645</td>\n",
       "    </tr>\n",
       "    <tr>\n",
       "      <th>SibSp_4</th>\n",
       "      <td>0.005831</td>\n",
       "    </tr>\n",
       "    <tr>\n",
       "      <th>SibSp_3</th>\n",
       "      <td>0.003619</td>\n",
       "    </tr>\n",
       "    <tr>\n",
       "      <th>SibSp_8</th>\n",
       "      <td>0.002557</td>\n",
       "    </tr>\n",
       "    <tr>\n",
       "      <th>SibSp_2</th>\n",
       "      <td>0.002511</td>\n",
       "    </tr>\n",
       "    <tr>\n",
       "      <th>Parch_5</th>\n",
       "      <td>0.002133</td>\n",
       "    </tr>\n",
       "    <tr>\n",
       "      <th>Parch_4</th>\n",
       "      <td>0.000384</td>\n",
       "    </tr>\n",
       "    <tr>\n",
       "      <th>SibSp_5</th>\n",
       "      <td>0.000167</td>\n",
       "    </tr>\n",
       "    <tr>\n",
       "      <th>Parch_3</th>\n",
       "      <td>0.000084</td>\n",
       "    </tr>\n",
       "    <tr>\n",
       "      <th>Parch_6</th>\n",
       "      <td>0.000000</td>\n",
       "    </tr>\n",
       "  </tbody>\n",
       "</table>\n",
       "</div>"
      ],
      "text/plain": [
       "            importance\n",
       "Sex_female    0.183458\n",
       "Sex_male      0.174907\n",
       "Fare          0.146337\n",
       "NameLength    0.108788\n",
       "Age           0.101123\n",
       "Pclass_3      0.075334\n",
       "Pclass_1      0.042383\n",
       "Pclass_2      0.019039\n",
       "is_child_0    0.018025\n",
       "is_child_1    0.017938\n",
       "Embarked_C    0.015680\n",
       "SibSp_0       0.014305\n",
       "Embarked_S    0.014198\n",
       "SibSp_1       0.013734\n",
       "Parch_0       0.013362\n",
       "Parch_1       0.008813\n",
       "Parch_2       0.007646\n",
       "Embarked_Q    0.007645\n",
       "SibSp_4       0.005831\n",
       "SibSp_3       0.003619\n",
       "SibSp_8       0.002557\n",
       "SibSp_2       0.002511\n",
       "Parch_5       0.002133\n",
       "Parch_4       0.000384\n",
       "SibSp_5       0.000167\n",
       "Parch_3       0.000084\n",
       "Parch_6       0.000000"
      ]
     },
     "execution_count": 221,
     "metadata": {},
     "output_type": "execute_result"
    }
   ],
   "source": [
    "pd.DataFrame(best_rf.feature_importances_, index=X_train_split.columns) \\\n",
    "    .rename(columns={0:'importance'}) \\\n",
    "    .sort_values('importance', ascending=False)"
   ]
  },
  {
   "cell_type": "code",
   "execution_count": 227,
   "id": "58f4ca05",
   "metadata": {},
   "outputs": [
    {
     "data": {
      "text/plain": [
       "array([ True,  True,  True,  True,  True,  True,  True,  True,  True,\n",
       "        True,  True,  True,  True,  True,  True,  True,  True,  True,\n",
       "        True,  True,  True,  True,  True,  True,  True,  True,  True])"
      ]
     },
     "execution_count": 227,
     "metadata": {},
     "output_type": "execute_result"
    }
   ],
   "source": [
    "X_dummies.columns == test.columns"
   ]
  },
  {
   "cell_type": "code",
   "execution_count": 228,
   "id": "181e5448",
   "metadata": {},
   "outputs": [
    {
     "data": {
      "text/plain": [
       "RandomForestClassifier(max_depth=11, min_samples_leaf=2, n_estimators=350,\n",
       "                       random_state=17)"
      ]
     },
     "execution_count": 228,
     "metadata": {},
     "output_type": "execute_result"
    }
   ],
   "source": [
    "best_rf.fit(X_dummies, y_train)"
   ]
  },
  {
   "cell_type": "code",
   "execution_count": 237,
   "id": "9a40fd83",
   "metadata": {},
   "outputs": [],
   "source": [
    "y_package = best_rf.predict(test)"
   ]
  },
  {
   "cell_type": "code",
   "execution_count": 245,
   "id": "3efd33dd",
   "metadata": {},
   "outputs": [],
   "source": [
    "output = pd.DataFrame({'PassengerId': passId, 'Survived': y_package.astype(int)})"
   ]
  },
  {
   "cell_type": "code",
   "execution_count": 247,
   "id": "bba34916",
   "metadata": {},
   "outputs": [],
   "source": [
    "output.to_csv('submission.csv', index=False)"
   ]
  },
  {
   "cell_type": "markdown",
   "id": "f67bb69f",
   "metadata": {},
   "source": [
    "**CatBoost**"
   ]
  },
  {
   "cell_type": "code",
   "execution_count": 152,
   "id": "666fbacc",
   "metadata": {},
   "outputs": [],
   "source": [
    "ctb = CatBoostClassifier(iterations=500, thread_count=3, max_depth = 6,\n",
    "                         bagging_temperature = 1, learning_rate = 0.03, random_strength=2, random_seed=17)"
   ]
  },
  {
   "cell_type": "code",
   "execution_count": 153,
   "id": "1ee07007",
   "metadata": {},
   "outputs": [],
   "source": [
    "X_train[cat_features] = X_train[cat_features].astype('object')"
   ]
  },
  {
   "cell_type": "code",
   "execution_count": 154,
   "id": "6124a29d",
   "metadata": {},
   "outputs": [],
   "source": [
    "X_train_ctb, X_valid_ctb, y_train_ctb, y_valid_ctb = train_test_split(X_train, y_train, test_size=0.3, random_state=17)"
   ]
  },
  {
   "cell_type": "code",
   "execution_count": 155,
   "id": "6b7e1820",
   "metadata": {},
   "outputs": [],
   "source": [
    "cat_features_idx = np.where(X_train.dtypes == \"object\")[0].tolist()"
   ]
  },
  {
   "cell_type": "code",
   "execution_count": 156,
   "id": "05d9ba70",
   "metadata": {
    "collapsed": true
   },
   "outputs": [
    {
     "name": "stdout",
     "output_type": "stream",
     "text": [
      "0:\tlearn: 0.6792246\ttotal: 7.36ms\tremaining: 3.67s\n",
      "1:\tlearn: 0.6672228\ttotal: 20.8ms\tremaining: 5.17s\n",
      "2:\tlearn: 0.6511450\ttotal: 26ms\tremaining: 4.3s\n",
      "3:\tlearn: 0.6344653\ttotal: 35.9ms\tremaining: 4.45s\n",
      "4:\tlearn: 0.6181810\ttotal: 45.6ms\tremaining: 4.51s\n",
      "5:\tlearn: 0.6088780\ttotal: 50.2ms\tremaining: 4.14s\n",
      "6:\tlearn: 0.5956358\ttotal: 59.5ms\tremaining: 4.19s\n",
      "7:\tlearn: 0.5836565\ttotal: 65.7ms\tremaining: 4.04s\n",
      "8:\tlearn: 0.5766041\ttotal: 68.9ms\tremaining: 3.76s\n",
      "9:\tlearn: 0.5661475\ttotal: 77.9ms\tremaining: 3.82s\n",
      "10:\tlearn: 0.5543149\ttotal: 87.5ms\tremaining: 3.89s\n",
      "11:\tlearn: 0.5484982\ttotal: 92.1ms\tremaining: 3.75s\n",
      "12:\tlearn: 0.5462273\ttotal: 95.3ms\tremaining: 3.57s\n",
      "13:\tlearn: 0.5362769\ttotal: 104ms\tremaining: 3.62s\n",
      "14:\tlearn: 0.5303287\ttotal: 110ms\tremaining: 3.56s\n",
      "15:\tlearn: 0.5221433\ttotal: 119ms\tremaining: 3.61s\n",
      "16:\tlearn: 0.5145663\ttotal: 125ms\tremaining: 3.56s\n",
      "17:\tlearn: 0.5092287\ttotal: 130ms\tremaining: 3.47s\n",
      "18:\tlearn: 0.5027373\ttotal: 136ms\tremaining: 3.43s\n",
      "19:\tlearn: 0.4955448\ttotal: 145ms\tremaining: 3.47s\n",
      "20:\tlearn: 0.4899441\ttotal: 154ms\tremaining: 3.5s\n",
      "21:\tlearn: 0.4848595\ttotal: 159ms\tremaining: 3.46s\n",
      "22:\tlearn: 0.4782803\ttotal: 168ms\tremaining: 3.49s\n",
      "23:\tlearn: 0.4726680\ttotal: 177ms\tremaining: 3.51s\n",
      "24:\tlearn: 0.4689053\ttotal: 186ms\tremaining: 3.54s\n",
      "25:\tlearn: 0.4643903\ttotal: 197ms\tremaining: 3.59s\n",
      "26:\tlearn: 0.4578816\ttotal: 207ms\tremaining: 3.63s\n",
      "27:\tlearn: 0.4536479\ttotal: 217ms\tremaining: 3.66s\n",
      "28:\tlearn: 0.4508792\ttotal: 227ms\tremaining: 3.68s\n",
      "29:\tlearn: 0.4465289\ttotal: 236ms\tremaining: 3.7s\n",
      "30:\tlearn: 0.4434803\ttotal: 244ms\tremaining: 3.69s\n",
      "31:\tlearn: 0.4394192\ttotal: 253ms\tremaining: 3.7s\n",
      "32:\tlearn: 0.4380444\ttotal: 262ms\tremaining: 3.71s\n",
      "33:\tlearn: 0.4368668\ttotal: 270ms\tremaining: 3.7s\n",
      "34:\tlearn: 0.4351544\ttotal: 277ms\tremaining: 3.68s\n",
      "35:\tlearn: 0.4349268\ttotal: 280ms\tremaining: 3.61s\n",
      "36:\tlearn: 0.4315354\ttotal: 289ms\tremaining: 3.62s\n",
      "37:\tlearn: 0.4280592\ttotal: 299ms\tremaining: 3.63s\n",
      "38:\tlearn: 0.4255032\ttotal: 308ms\tremaining: 3.64s\n",
      "39:\tlearn: 0.4239705\ttotal: 317ms\tremaining: 3.64s\n",
      "40:\tlearn: 0.4224422\ttotal: 324ms\tremaining: 3.62s\n",
      "41:\tlearn: 0.4216073\ttotal: 327ms\tremaining: 3.56s\n",
      "42:\tlearn: 0.4208043\ttotal: 334ms\tremaining: 3.55s\n",
      "43:\tlearn: 0.4179688\ttotal: 343ms\tremaining: 3.56s\n",
      "44:\tlearn: 0.4173146\ttotal: 348ms\tremaining: 3.52s\n",
      "45:\tlearn: 0.4143586\ttotal: 357ms\tremaining: 3.52s\n",
      "46:\tlearn: 0.4132940\ttotal: 361ms\tremaining: 3.48s\n",
      "47:\tlearn: 0.4116098\ttotal: 369ms\tremaining: 3.47s\n",
      "48:\tlearn: 0.4110014\ttotal: 373ms\tremaining: 3.43s\n",
      "49:\tlearn: 0.4101331\ttotal: 382ms\tremaining: 3.43s\n",
      "50:\tlearn: 0.4090715\ttotal: 403ms\tremaining: 3.54s\n",
      "51:\tlearn: 0.4074702\ttotal: 413ms\tremaining: 3.55s\n",
      "52:\tlearn: 0.4049769\ttotal: 422ms\tremaining: 3.56s\n",
      "53:\tlearn: 0.4048421\ttotal: 428ms\tremaining: 3.53s\n",
      "54:\tlearn: 0.4046010\ttotal: 431ms\tremaining: 3.48s\n",
      "55:\tlearn: 0.4042393\ttotal: 434ms\tremaining: 3.44s\n",
      "56:\tlearn: 0.4035868\ttotal: 441ms\tremaining: 3.43s\n",
      "57:\tlearn: 0.4020977\ttotal: 450ms\tremaining: 3.43s\n",
      "58:\tlearn: 0.4010611\ttotal: 459ms\tremaining: 3.43s\n",
      "59:\tlearn: 0.4004224\ttotal: 465ms\tremaining: 3.41s\n",
      "60:\tlearn: 0.3991318\ttotal: 474ms\tremaining: 3.41s\n",
      "61:\tlearn: 0.3979164\ttotal: 483ms\tremaining: 3.41s\n",
      "62:\tlearn: 0.3972304\ttotal: 493ms\tremaining: 3.42s\n",
      "63:\tlearn: 0.3959166\ttotal: 502ms\tremaining: 3.42s\n",
      "64:\tlearn: 0.3945045\ttotal: 511ms\tremaining: 3.42s\n",
      "65:\tlearn: 0.3936243\ttotal: 521ms\tremaining: 3.42s\n",
      "66:\tlearn: 0.3935119\ttotal: 524ms\tremaining: 3.38s\n",
      "67:\tlearn: 0.3931653\ttotal: 528ms\tremaining: 3.35s\n",
      "68:\tlearn: 0.3919708\ttotal: 537ms\tremaining: 3.36s\n",
      "69:\tlearn: 0.3915828\ttotal: 543ms\tremaining: 3.34s\n",
      "70:\tlearn: 0.3897527\ttotal: 552ms\tremaining: 3.34s\n",
      "71:\tlearn: 0.3886940\ttotal: 562ms\tremaining: 3.34s\n",
      "72:\tlearn: 0.3874956\ttotal: 571ms\tremaining: 3.34s\n",
      "73:\tlearn: 0.3868663\ttotal: 578ms\tremaining: 3.33s\n",
      "74:\tlearn: 0.3866406\ttotal: 582ms\tremaining: 3.3s\n",
      "75:\tlearn: 0.3859609\ttotal: 593ms\tremaining: 3.31s\n",
      "76:\tlearn: 0.3844978\ttotal: 604ms\tremaining: 3.32s\n",
      "77:\tlearn: 0.3837194\ttotal: 614ms\tremaining: 3.32s\n",
      "78:\tlearn: 0.3834264\ttotal: 618ms\tremaining: 3.29s\n",
      "79:\tlearn: 0.3825212\ttotal: 628ms\tremaining: 3.29s\n",
      "80:\tlearn: 0.3824494\ttotal: 631ms\tremaining: 3.27s\n",
      "81:\tlearn: 0.3818135\ttotal: 641ms\tremaining: 3.27s\n",
      "82:\tlearn: 0.3814507\ttotal: 648ms\tremaining: 3.25s\n",
      "83:\tlearn: 0.3809134\ttotal: 658ms\tremaining: 3.26s\n",
      "84:\tlearn: 0.3805854\ttotal: 664ms\tremaining: 3.24s\n",
      "85:\tlearn: 0.3785299\ttotal: 674ms\tremaining: 3.25s\n",
      "86:\tlearn: 0.3785199\ttotal: 678ms\tremaining: 3.22s\n",
      "87:\tlearn: 0.3783562\ttotal: 682ms\tremaining: 3.19s\n",
      "88:\tlearn: 0.3777910\ttotal: 691ms\tremaining: 3.19s\n",
      "89:\tlearn: 0.3765241\ttotal: 701ms\tremaining: 3.19s\n",
      "90:\tlearn: 0.3757444\ttotal: 711ms\tremaining: 3.2s\n",
      "91:\tlearn: 0.3748394\ttotal: 721ms\tremaining: 3.2s\n",
      "92:\tlearn: 0.3735515\ttotal: 732ms\tremaining: 3.2s\n",
      "93:\tlearn: 0.3733142\ttotal: 742ms\tremaining: 3.21s\n",
      "94:\tlearn: 0.3726456\ttotal: 753ms\tremaining: 3.21s\n",
      "95:\tlearn: 0.3721734\ttotal: 763ms\tremaining: 3.21s\n",
      "96:\tlearn: 0.3717497\ttotal: 773ms\tremaining: 3.21s\n",
      "97:\tlearn: 0.3700581\ttotal: 784ms\tremaining: 3.21s\n",
      "98:\tlearn: 0.3686837\ttotal: 795ms\tremaining: 3.22s\n",
      "99:\tlearn: 0.3676655\ttotal: 805ms\tremaining: 3.22s\n",
      "100:\tlearn: 0.3669737\ttotal: 815ms\tremaining: 3.22s\n",
      "101:\tlearn: 0.3655770\ttotal: 824ms\tremaining: 3.22s\n",
      "102:\tlearn: 0.3655283\ttotal: 828ms\tremaining: 3.19s\n",
      "103:\tlearn: 0.3645813\ttotal: 837ms\tremaining: 3.19s\n",
      "104:\tlearn: 0.3638345\ttotal: 846ms\tremaining: 3.18s\n",
      "105:\tlearn: 0.3635811\ttotal: 852ms\tremaining: 3.17s\n",
      "106:\tlearn: 0.3623229\ttotal: 862ms\tremaining: 3.17s\n",
      "107:\tlearn: 0.3618358\ttotal: 871ms\tremaining: 3.16s\n",
      "108:\tlearn: 0.3610306\ttotal: 882ms\tremaining: 3.16s\n",
      "109:\tlearn: 0.3601256\ttotal: 893ms\tremaining: 3.16s\n",
      "110:\tlearn: 0.3599810\ttotal: 896ms\tremaining: 3.14s\n",
      "111:\tlearn: 0.3587732\ttotal: 907ms\tremaining: 3.14s\n",
      "112:\tlearn: 0.3585380\ttotal: 930ms\tremaining: 3.19s\n",
      "113:\tlearn: 0.3580616\ttotal: 941ms\tremaining: 3.19s\n",
      "114:\tlearn: 0.3570142\ttotal: 952ms\tremaining: 3.19s\n",
      "115:\tlearn: 0.3568586\ttotal: 959ms\tremaining: 3.17s\n",
      "116:\tlearn: 0.3557346\ttotal: 970ms\tremaining: 3.18s\n",
      "117:\tlearn: 0.3556767\ttotal: 979ms\tremaining: 3.17s\n",
      "118:\tlearn: 0.3550379\ttotal: 990ms\tremaining: 3.17s\n",
      "119:\tlearn: 0.3547382\ttotal: 996ms\tremaining: 3.15s\n",
      "120:\tlearn: 0.3539422\ttotal: 1.01s\tremaining: 3.16s\n",
      "121:\tlearn: 0.3538675\ttotal: 1.01s\tremaining: 3.13s\n",
      "122:\tlearn: 0.3531544\ttotal: 1.02s\tremaining: 3.13s\n",
      "123:\tlearn: 0.3529167\ttotal: 1.03s\tremaining: 3.13s\n",
      "124:\tlearn: 0.3522419\ttotal: 1.04s\tremaining: 3.13s\n",
      "125:\tlearn: 0.3513073\ttotal: 1.05s\tremaining: 3.12s\n",
      "126:\tlearn: 0.3506232\ttotal: 1.06s\tremaining: 3.12s\n",
      "127:\tlearn: 0.3504898\ttotal: 1.07s\tremaining: 3.11s\n",
      "128:\tlearn: 0.3501427\ttotal: 1.08s\tremaining: 3.1s\n",
      "129:\tlearn: 0.3501422\ttotal: 1.08s\tremaining: 3.07s\n",
      "130:\tlearn: 0.3496517\ttotal: 1.09s\tremaining: 3.07s\n",
      "131:\tlearn: 0.3484854\ttotal: 1.1s\tremaining: 3.06s\n",
      "132:\tlearn: 0.3484723\ttotal: 1.1s\tremaining: 3.04s\n",
      "133:\tlearn: 0.3481380\ttotal: 1.11s\tremaining: 3.04s\n",
      "134:\tlearn: 0.3481270\ttotal: 1.11s\tremaining: 3.02s\n",
      "135:\tlearn: 0.3472647\ttotal: 1.13s\tremaining: 3.01s\n",
      "136:\tlearn: 0.3470765\ttotal: 1.14s\tremaining: 3.01s\n",
      "137:\tlearn: 0.3468008\ttotal: 1.15s\tremaining: 3.02s\n",
      "138:\tlearn: 0.3458947\ttotal: 1.16s\tremaining: 3.02s\n",
      "139:\tlearn: 0.3458277\ttotal: 1.17s\tremaining: 3s\n",
      "140:\tlearn: 0.3454519\ttotal: 1.18s\tremaining: 3s\n",
      "141:\tlearn: 0.3448823\ttotal: 1.19s\tremaining: 3s\n",
      "142:\tlearn: 0.3444598\ttotal: 1.21s\tremaining: 3.03s\n",
      "143:\tlearn: 0.3438546\ttotal: 1.22s\tremaining: 3.02s\n",
      "144:\tlearn: 0.3433564\ttotal: 1.23s\tremaining: 3.02s\n",
      "145:\tlearn: 0.3432612\ttotal: 1.24s\tremaining: 3s\n",
      "146:\tlearn: 0.3432612\ttotal: 1.24s\tremaining: 2.98s\n",
      "147:\tlearn: 0.3432612\ttotal: 1.24s\tremaining: 2.95s\n",
      "148:\tlearn: 0.3419062\ttotal: 1.25s\tremaining: 2.95s\n",
      "149:\tlearn: 0.3419062\ttotal: 1.25s\tremaining: 2.92s\n",
      "150:\tlearn: 0.3410323\ttotal: 1.26s\tremaining: 2.92s\n",
      "151:\tlearn: 0.3408874\ttotal: 1.27s\tremaining: 2.91s\n",
      "152:\tlearn: 0.3390751\ttotal: 1.28s\tremaining: 2.9s\n",
      "153:\tlearn: 0.3388436\ttotal: 1.29s\tremaining: 2.89s\n",
      "154:\tlearn: 0.3387432\ttotal: 1.29s\tremaining: 2.87s\n",
      "155:\tlearn: 0.3385336\ttotal: 1.3s\tremaining: 2.86s\n",
      "156:\tlearn: 0.3378532\ttotal: 1.31s\tremaining: 2.86s\n",
      "157:\tlearn: 0.3374830\ttotal: 1.32s\tremaining: 2.85s\n",
      "158:\tlearn: 0.3371664\ttotal: 1.33s\tremaining: 2.85s\n",
      "159:\tlearn: 0.3371239\ttotal: 1.33s\tremaining: 2.83s\n",
      "160:\tlearn: 0.3371029\ttotal: 1.33s\tremaining: 2.81s\n",
      "161:\tlearn: 0.3364913\ttotal: 1.34s\tremaining: 2.8s\n"
     ]
    },
    {
     "name": "stdout",
     "output_type": "stream",
     "text": [
      "162:\tlearn: 0.3360032\ttotal: 1.35s\tremaining: 2.8s\n",
      "163:\tlearn: 0.3358484\ttotal: 1.36s\tremaining: 2.79s\n",
      "164:\tlearn: 0.3355162\ttotal: 1.37s\tremaining: 2.78s\n",
      "165:\tlearn: 0.3351847\ttotal: 1.38s\tremaining: 2.77s\n",
      "166:\tlearn: 0.3346572\ttotal: 1.39s\tremaining: 2.76s\n",
      "167:\tlearn: 0.3345240\ttotal: 1.39s\tremaining: 2.75s\n",
      "168:\tlearn: 0.3344316\ttotal: 1.4s\tremaining: 2.74s\n",
      "169:\tlearn: 0.3339299\ttotal: 1.41s\tremaining: 2.74s\n",
      "170:\tlearn: 0.3334339\ttotal: 1.42s\tremaining: 2.73s\n",
      "171:\tlearn: 0.3326629\ttotal: 1.43s\tremaining: 2.72s\n",
      "172:\tlearn: 0.3323644\ttotal: 1.44s\tremaining: 2.72s\n",
      "173:\tlearn: 0.3318263\ttotal: 1.45s\tremaining: 2.71s\n",
      "174:\tlearn: 0.3313369\ttotal: 1.46s\tremaining: 2.7s\n",
      "175:\tlearn: 0.3303837\ttotal: 1.46s\tremaining: 2.69s\n",
      "176:\tlearn: 0.3301420\ttotal: 1.47s\tremaining: 2.69s\n",
      "177:\tlearn: 0.3299981\ttotal: 1.48s\tremaining: 2.67s\n",
      "178:\tlearn: 0.3293627\ttotal: 1.49s\tremaining: 2.67s\n",
      "179:\tlearn: 0.3280020\ttotal: 1.5s\tremaining: 2.66s\n",
      "180:\tlearn: 0.3278164\ttotal: 1.5s\tremaining: 2.65s\n",
      "181:\tlearn: 0.3268616\ttotal: 1.51s\tremaining: 2.65s\n",
      "182:\tlearn: 0.3267264\ttotal: 1.52s\tremaining: 2.64s\n",
      "183:\tlearn: 0.3266333\ttotal: 1.53s\tremaining: 2.62s\n",
      "184:\tlearn: 0.3264154\ttotal: 1.53s\tremaining: 2.61s\n",
      "185:\tlearn: 0.3262280\ttotal: 1.54s\tremaining: 2.6s\n",
      "186:\tlearn: 0.3256537\ttotal: 1.55s\tremaining: 2.6s\n",
      "187:\tlearn: 0.3256536\ttotal: 1.55s\tremaining: 2.58s\n",
      "188:\tlearn: 0.3252173\ttotal: 1.57s\tremaining: 2.58s\n",
      "189:\tlearn: 0.3250939\ttotal: 1.58s\tremaining: 2.57s\n",
      "190:\tlearn: 0.3249635\ttotal: 1.58s\tremaining: 2.56s\n",
      "191:\tlearn: 0.3249635\ttotal: 1.58s\tremaining: 2.54s\n",
      "192:\tlearn: 0.3240150\ttotal: 1.59s\tremaining: 2.53s\n",
      "193:\tlearn: 0.3239062\ttotal: 1.6s\tremaining: 2.52s\n",
      "194:\tlearn: 0.3238654\ttotal: 1.6s\tremaining: 2.51s\n",
      "195:\tlearn: 0.3236873\ttotal: 1.61s\tremaining: 2.5s\n",
      "196:\tlearn: 0.3233613\ttotal: 1.62s\tremaining: 2.5s\n",
      "197:\tlearn: 0.3227044\ttotal: 1.63s\tremaining: 2.49s\n",
      "198:\tlearn: 0.3227044\ttotal: 1.64s\tremaining: 2.47s\n",
      "199:\tlearn: 0.3222395\ttotal: 1.65s\tremaining: 2.47s\n",
      "200:\tlearn: 0.3211993\ttotal: 1.65s\tremaining: 2.46s\n",
      "201:\tlearn: 0.3211993\ttotal: 1.66s\tremaining: 2.44s\n",
      "202:\tlearn: 0.3208882\ttotal: 1.67s\tremaining: 2.44s\n",
      "203:\tlearn: 0.3206203\ttotal: 1.68s\tremaining: 2.43s\n",
      "204:\tlearn: 0.3205076\ttotal: 1.68s\tremaining: 2.42s\n",
      "205:\tlearn: 0.3205076\ttotal: 1.68s\tremaining: 2.4s\n",
      "206:\tlearn: 0.3203277\ttotal: 1.7s\tremaining: 2.41s\n",
      "207:\tlearn: 0.3198124\ttotal: 1.71s\tremaining: 2.4s\n",
      "208:\tlearn: 0.3194314\ttotal: 1.72s\tremaining: 2.4s\n",
      "209:\tlearn: 0.3193363\ttotal: 1.73s\tremaining: 2.38s\n",
      "210:\tlearn: 0.3186448\ttotal: 1.73s\tremaining: 2.38s\n",
      "211:\tlearn: 0.3181623\ttotal: 1.74s\tremaining: 2.37s\n",
      "212:\tlearn: 0.3170475\ttotal: 1.75s\tremaining: 2.36s\n",
      "213:\tlearn: 0.3168681\ttotal: 1.76s\tremaining: 2.36s\n",
      "214:\tlearn: 0.3168556\ttotal: 1.77s\tremaining: 2.34s\n",
      "215:\tlearn: 0.3163879\ttotal: 1.78s\tremaining: 2.34s\n",
      "216:\tlearn: 0.3157591\ttotal: 1.79s\tremaining: 2.33s\n",
      "217:\tlearn: 0.3156256\ttotal: 1.8s\tremaining: 2.32s\n",
      "218:\tlearn: 0.3153840\ttotal: 1.82s\tremaining: 2.34s\n",
      "219:\tlearn: 0.3147334\ttotal: 1.83s\tremaining: 2.33s\n",
      "220:\tlearn: 0.3140257\ttotal: 1.84s\tremaining: 2.32s\n",
      "221:\tlearn: 0.3136883\ttotal: 1.85s\tremaining: 2.32s\n",
      "222:\tlearn: 0.3129143\ttotal: 1.86s\tremaining: 2.31s\n",
      "223:\tlearn: 0.3128633\ttotal: 1.87s\tremaining: 2.3s\n",
      "224:\tlearn: 0.3124018\ttotal: 1.88s\tremaining: 2.29s\n",
      "225:\tlearn: 0.3115779\ttotal: 1.9s\tremaining: 2.3s\n",
      "226:\tlearn: 0.3108374\ttotal: 1.91s\tremaining: 2.3s\n",
      "227:\tlearn: 0.3105358\ttotal: 1.92s\tremaining: 2.29s\n",
      "228:\tlearn: 0.3102890\ttotal: 1.93s\tremaining: 2.29s\n",
      "229:\tlearn: 0.3097780\ttotal: 1.96s\tremaining: 2.3s\n",
      "230:\tlearn: 0.3094104\ttotal: 1.97s\tremaining: 2.3s\n",
      "231:\tlearn: 0.3092354\ttotal: 1.98s\tremaining: 2.29s\n",
      "232:\tlearn: 0.3087741\ttotal: 1.99s\tremaining: 2.28s\n",
      "233:\tlearn: 0.3082959\ttotal: 2s\tremaining: 2.28s\n",
      "234:\tlearn: 0.3082132\ttotal: 2.01s\tremaining: 2.26s\n",
      "235:\tlearn: 0.3079207\ttotal: 2.02s\tremaining: 2.25s\n",
      "236:\tlearn: 0.3076315\ttotal: 2.02s\tremaining: 2.25s\n",
      "237:\tlearn: 0.3075128\ttotal: 2.03s\tremaining: 2.24s\n",
      "238:\tlearn: 0.3068656\ttotal: 2.04s\tremaining: 2.23s\n",
      "239:\tlearn: 0.3065288\ttotal: 2.05s\tremaining: 2.22s\n",
      "240:\tlearn: 0.3054636\ttotal: 2.06s\tremaining: 2.21s\n",
      "241:\tlearn: 0.3049421\ttotal: 2.07s\tremaining: 2.21s\n",
      "242:\tlearn: 0.3047030\ttotal: 2.08s\tremaining: 2.2s\n",
      "243:\tlearn: 0.3044338\ttotal: 2.09s\tremaining: 2.19s\n",
      "244:\tlearn: 0.3039326\ttotal: 2.1s\tremaining: 2.18s\n",
      "245:\tlearn: 0.3038724\ttotal: 2.1s\tremaining: 2.17s\n",
      "246:\tlearn: 0.3034840\ttotal: 2.11s\tremaining: 2.16s\n",
      "247:\tlearn: 0.3030773\ttotal: 2.12s\tremaining: 2.16s\n",
      "248:\tlearn: 0.3029445\ttotal: 2.13s\tremaining: 2.15s\n",
      "249:\tlearn: 0.3028425\ttotal: 2.14s\tremaining: 2.14s\n",
      "250:\tlearn: 0.3024052\ttotal: 2.15s\tremaining: 2.13s\n",
      "251:\tlearn: 0.3017970\ttotal: 2.16s\tremaining: 2.12s\n",
      "252:\tlearn: 0.3017120\ttotal: 2.16s\tremaining: 2.11s\n",
      "253:\tlearn: 0.3012355\ttotal: 2.17s\tremaining: 2.1s\n",
      "254:\tlearn: 0.3006638\ttotal: 2.18s\tremaining: 2.1s\n",
      "255:\tlearn: 0.3004457\ttotal: 2.19s\tremaining: 2.09s\n",
      "256:\tlearn: 0.3000728\ttotal: 2.2s\tremaining: 2.08s\n",
      "257:\tlearn: 0.2995352\ttotal: 2.21s\tremaining: 2.07s\n",
      "258:\tlearn: 0.2993589\ttotal: 2.22s\tremaining: 2.06s\n",
      "259:\tlearn: 0.2988677\ttotal: 2.23s\tremaining: 2.06s\n",
      "260:\tlearn: 0.2984617\ttotal: 2.24s\tremaining: 2.05s\n",
      "261:\tlearn: 0.2979696\ttotal: 2.25s\tremaining: 2.04s\n",
      "262:\tlearn: 0.2977645\ttotal: 2.26s\tremaining: 2.03s\n",
      "263:\tlearn: 0.2976951\ttotal: 2.27s\tremaining: 2.02s\n",
      "264:\tlearn: 0.2973045\ttotal: 2.27s\tremaining: 2.02s\n",
      "265:\tlearn: 0.2965113\ttotal: 2.28s\tremaining: 2.01s\n",
      "266:\tlearn: 0.2962775\ttotal: 2.29s\tremaining: 2s\n",
      "267:\tlearn: 0.2958543\ttotal: 2.3s\tremaining: 1.99s\n",
      "268:\tlearn: 0.2953925\ttotal: 2.31s\tremaining: 1.99s\n",
      "269:\tlearn: 0.2943921\ttotal: 2.32s\tremaining: 1.98s\n",
      "270:\tlearn: 0.2940818\ttotal: 2.33s\tremaining: 1.97s\n",
      "271:\tlearn: 0.2933805\ttotal: 2.34s\tremaining: 1.96s\n",
      "272:\tlearn: 0.2932660\ttotal: 2.35s\tremaining: 1.95s\n",
      "273:\tlearn: 0.2928266\ttotal: 2.36s\tremaining: 1.95s\n",
      "274:\tlearn: 0.2925787\ttotal: 2.37s\tremaining: 1.94s\n",
      "275:\tlearn: 0.2922323\ttotal: 2.38s\tremaining: 1.94s\n",
      "276:\tlearn: 0.2919554\ttotal: 2.39s\tremaining: 1.93s\n",
      "277:\tlearn: 0.2918779\ttotal: 2.4s\tremaining: 1.92s\n",
      "278:\tlearn: 0.2918118\ttotal: 2.4s\tremaining: 1.9s\n",
      "279:\tlearn: 0.2916584\ttotal: 2.41s\tremaining: 1.9s\n",
      "280:\tlearn: 0.2914689\ttotal: 2.42s\tremaining: 1.89s\n",
      "281:\tlearn: 0.2907810\ttotal: 2.43s\tremaining: 1.88s\n",
      "282:\tlearn: 0.2903312\ttotal: 2.44s\tremaining: 1.87s\n",
      "283:\tlearn: 0.2902004\ttotal: 2.45s\tremaining: 1.86s\n",
      "284:\tlearn: 0.2896159\ttotal: 2.46s\tremaining: 1.86s\n",
      "285:\tlearn: 0.2890708\ttotal: 2.47s\tremaining: 1.85s\n",
      "286:\tlearn: 0.2889728\ttotal: 2.48s\tremaining: 1.84s\n",
      "287:\tlearn: 0.2883628\ttotal: 2.49s\tremaining: 1.83s\n",
      "288:\tlearn: 0.2880334\ttotal: 2.5s\tremaining: 1.82s\n",
      "289:\tlearn: 0.2867524\ttotal: 2.51s\tremaining: 1.82s\n",
      "290:\tlearn: 0.2856978\ttotal: 2.52s\tremaining: 1.81s\n",
      "291:\tlearn: 0.2855357\ttotal: 2.53s\tremaining: 1.8s\n",
      "292:\tlearn: 0.2850887\ttotal: 2.54s\tremaining: 1.79s\n",
      "293:\tlearn: 0.2843221\ttotal: 2.55s\tremaining: 1.79s\n",
      "294:\tlearn: 0.2839535\ttotal: 2.56s\tremaining: 1.78s\n",
      "295:\tlearn: 0.2825490\ttotal: 2.57s\tremaining: 1.77s\n",
      "296:\tlearn: 0.2822718\ttotal: 2.58s\tremaining: 1.76s\n",
      "297:\tlearn: 0.2822290\ttotal: 2.58s\tremaining: 1.75s\n",
      "298:\tlearn: 0.2817634\ttotal: 2.59s\tremaining: 1.74s\n",
      "299:\tlearn: 0.2809822\ttotal: 2.6s\tremaining: 1.74s\n",
      "300:\tlearn: 0.2808360\ttotal: 2.61s\tremaining: 1.73s\n",
      "301:\tlearn: 0.2802206\ttotal: 2.62s\tremaining: 1.72s\n",
      "302:\tlearn: 0.2798728\ttotal: 2.63s\tremaining: 1.71s\n",
      "303:\tlearn: 0.2796837\ttotal: 2.64s\tremaining: 1.7s\n",
      "304:\tlearn: 0.2793967\ttotal: 2.65s\tremaining: 1.7s\n",
      "305:\tlearn: 0.2793524\ttotal: 2.66s\tremaining: 1.69s\n",
      "306:\tlearn: 0.2792194\ttotal: 2.68s\tremaining: 1.68s\n",
      "307:\tlearn: 0.2779555\ttotal: 2.69s\tremaining: 1.68s\n",
      "308:\tlearn: 0.2778693\ttotal: 2.7s\tremaining: 1.67s\n",
      "309:\tlearn: 0.2775595\ttotal: 2.71s\tremaining: 1.66s\n",
      "310:\tlearn: 0.2774661\ttotal: 2.72s\tremaining: 1.65s\n",
      "311:\tlearn: 0.2773976\ttotal: 2.72s\tremaining: 1.64s\n",
      "312:\tlearn: 0.2769926\ttotal: 2.73s\tremaining: 1.63s\n",
      "313:\tlearn: 0.2765175\ttotal: 2.75s\tremaining: 1.63s\n",
      "314:\tlearn: 0.2754324\ttotal: 2.75s\tremaining: 1.62s\n",
      "315:\tlearn: 0.2751088\ttotal: 2.77s\tremaining: 1.61s\n",
      "316:\tlearn: 0.2750507\ttotal: 2.77s\tremaining: 1.6s\n",
      "317:\tlearn: 0.2746021\ttotal: 2.78s\tremaining: 1.59s\n",
      "318:\tlearn: 0.2740724\ttotal: 2.79s\tremaining: 1.58s\n",
      "319:\tlearn: 0.2734608\ttotal: 2.8s\tremaining: 1.58s\n",
      "320:\tlearn: 0.2727101\ttotal: 2.81s\tremaining: 1.57s\n",
      "321:\tlearn: 0.2720728\ttotal: 2.82s\tremaining: 1.56s\n",
      "322:\tlearn: 0.2715977\ttotal: 2.83s\tremaining: 1.55s\n",
      "323:\tlearn: 0.2704990\ttotal: 2.84s\tremaining: 1.54s\n",
      "324:\tlearn: 0.2699209\ttotal: 2.85s\tremaining: 1.54s\n",
      "325:\tlearn: 0.2691224\ttotal: 2.86s\tremaining: 1.53s\n",
      "326:\tlearn: 0.2687477\ttotal: 2.87s\tremaining: 1.52s\n",
      "327:\tlearn: 0.2682872\ttotal: 2.88s\tremaining: 1.51s\n",
      "328:\tlearn: 0.2680660\ttotal: 2.89s\tremaining: 1.5s\n",
      "329:\tlearn: 0.2677246\ttotal: 2.9s\tremaining: 1.49s\n",
      "330:\tlearn: 0.2668975\ttotal: 2.91s\tremaining: 1.49s\n"
     ]
    },
    {
     "name": "stdout",
     "output_type": "stream",
     "text": [
      "331:\tlearn: 0.2667609\ttotal: 2.92s\tremaining: 1.48s\n",
      "332:\tlearn: 0.2657680\ttotal: 2.93s\tremaining: 1.47s\n",
      "333:\tlearn: 0.2650738\ttotal: 2.94s\tremaining: 1.46s\n",
      "334:\tlearn: 0.2649053\ttotal: 2.95s\tremaining: 1.45s\n",
      "335:\tlearn: 0.2647498\ttotal: 2.96s\tremaining: 1.45s\n",
      "336:\tlearn: 0.2646113\ttotal: 2.97s\tremaining: 1.44s\n",
      "337:\tlearn: 0.2639352\ttotal: 2.98s\tremaining: 1.43s\n",
      "338:\tlearn: 0.2636730\ttotal: 2.99s\tremaining: 1.42s\n",
      "339:\tlearn: 0.2635871\ttotal: 3s\tremaining: 1.41s\n",
      "340:\tlearn: 0.2634821\ttotal: 3.01s\tremaining: 1.4s\n",
      "341:\tlearn: 0.2630641\ttotal: 3.02s\tremaining: 1.4s\n",
      "342:\tlearn: 0.2623457\ttotal: 3.03s\tremaining: 1.39s\n",
      "343:\tlearn: 0.2613303\ttotal: 3.04s\tremaining: 1.38s\n",
      "344:\tlearn: 0.2611504\ttotal: 3.05s\tremaining: 1.37s\n",
      "345:\tlearn: 0.2607090\ttotal: 3.06s\tremaining: 1.36s\n",
      "346:\tlearn: 0.2606591\ttotal: 3.07s\tremaining: 1.35s\n",
      "347:\tlearn: 0.2605885\ttotal: 3.08s\tremaining: 1.34s\n",
      "348:\tlearn: 0.2602724\ttotal: 3.09s\tremaining: 1.34s\n",
      "349:\tlearn: 0.2597117\ttotal: 3.1s\tremaining: 1.33s\n",
      "350:\tlearn: 0.2596500\ttotal: 3.11s\tremaining: 1.32s\n",
      "351:\tlearn: 0.2589822\ttotal: 3.12s\tremaining: 1.31s\n",
      "352:\tlearn: 0.2588134\ttotal: 3.13s\tremaining: 1.3s\n",
      "353:\tlearn: 0.2586425\ttotal: 3.14s\tremaining: 1.29s\n",
      "354:\tlearn: 0.2585894\ttotal: 3.15s\tremaining: 1.29s\n",
      "355:\tlearn: 0.2585430\ttotal: 3.16s\tremaining: 1.28s\n",
      "356:\tlearn: 0.2584096\ttotal: 3.17s\tremaining: 1.27s\n",
      "357:\tlearn: 0.2580008\ttotal: 3.18s\tremaining: 1.26s\n",
      "358:\tlearn: 0.2572200\ttotal: 3.19s\tremaining: 1.25s\n",
      "359:\tlearn: 0.2567434\ttotal: 3.2s\tremaining: 1.25s\n",
      "360:\tlearn: 0.2560036\ttotal: 3.21s\tremaining: 1.24s\n",
      "361:\tlearn: 0.2557643\ttotal: 3.22s\tremaining: 1.23s\n",
      "362:\tlearn: 0.2553021\ttotal: 3.23s\tremaining: 1.22s\n",
      "363:\tlearn: 0.2551550\ttotal: 3.24s\tremaining: 1.21s\n",
      "364:\tlearn: 0.2550996\ttotal: 3.25s\tremaining: 1.2s\n",
      "365:\tlearn: 0.2547579\ttotal: 3.26s\tremaining: 1.2s\n",
      "366:\tlearn: 0.2545554\ttotal: 3.27s\tremaining: 1.19s\n",
      "367:\tlearn: 0.2544001\ttotal: 3.29s\tremaining: 1.18s\n",
      "368:\tlearn: 0.2534869\ttotal: 3.3s\tremaining: 1.17s\n",
      "369:\tlearn: 0.2527351\ttotal: 3.34s\tremaining: 1.17s\n",
      "370:\tlearn: 0.2526866\ttotal: 3.35s\tremaining: 1.17s\n",
      "371:\tlearn: 0.2522593\ttotal: 3.36s\tremaining: 1.16s\n",
      "372:\tlearn: 0.2521504\ttotal: 3.37s\tremaining: 1.15s\n",
      "373:\tlearn: 0.2521123\ttotal: 3.38s\tremaining: 1.14s\n",
      "374:\tlearn: 0.2513604\ttotal: 3.39s\tremaining: 1.13s\n",
      "375:\tlearn: 0.2505682\ttotal: 3.4s\tremaining: 1.12s\n",
      "376:\tlearn: 0.2502953\ttotal: 3.41s\tremaining: 1.11s\n",
      "377:\tlearn: 0.2501064\ttotal: 3.42s\tremaining: 1.1s\n",
      "378:\tlearn: 0.2496637\ttotal: 3.43s\tremaining: 1.1s\n",
      "379:\tlearn: 0.2490017\ttotal: 3.44s\tremaining: 1.09s\n",
      "380:\tlearn: 0.2483875\ttotal: 3.45s\tremaining: 1.08s\n",
      "381:\tlearn: 0.2480622\ttotal: 3.46s\tremaining: 1.07s\n",
      "382:\tlearn: 0.2473538\ttotal: 3.47s\tremaining: 1.06s\n",
      "383:\tlearn: 0.2466790\ttotal: 3.48s\tremaining: 1.05s\n",
      "384:\tlearn: 0.2462736\ttotal: 3.49s\tremaining: 1.04s\n",
      "385:\tlearn: 0.2453423\ttotal: 3.5s\tremaining: 1.03s\n",
      "386:\tlearn: 0.2449544\ttotal: 3.51s\tremaining: 1.03s\n",
      "387:\tlearn: 0.2443641\ttotal: 3.52s\tremaining: 1.02s\n",
      "388:\tlearn: 0.2438678\ttotal: 3.53s\tremaining: 1.01s\n",
      "389:\tlearn: 0.2435956\ttotal: 3.54s\tremaining: 1000ms\n",
      "390:\tlearn: 0.2430318\ttotal: 3.56s\tremaining: 991ms\n",
      "391:\tlearn: 0.2424215\ttotal: 3.56s\tremaining: 982ms\n",
      "392:\tlearn: 0.2423697\ttotal: 3.57s\tremaining: 973ms\n",
      "393:\tlearn: 0.2421950\ttotal: 3.58s\tremaining: 964ms\n",
      "394:\tlearn: 0.2414546\ttotal: 3.59s\tremaining: 956ms\n",
      "395:\tlearn: 0.2410691\ttotal: 3.6s\tremaining: 947ms\n",
      "396:\tlearn: 0.2402604\ttotal: 3.61s\tremaining: 938ms\n",
      "397:\tlearn: 0.2402163\ttotal: 3.62s\tremaining: 929ms\n",
      "398:\tlearn: 0.2394562\ttotal: 3.64s\tremaining: 921ms\n",
      "399:\tlearn: 0.2393913\ttotal: 3.65s\tremaining: 912ms\n",
      "400:\tlearn: 0.2387630\ttotal: 3.66s\tremaining: 903ms\n",
      "401:\tlearn: 0.2385441\ttotal: 3.67s\tremaining: 895ms\n",
      "402:\tlearn: 0.2383555\ttotal: 3.68s\tremaining: 886ms\n",
      "403:\tlearn: 0.2376819\ttotal: 3.69s\tremaining: 878ms\n",
      "404:\tlearn: 0.2373656\ttotal: 3.71s\tremaining: 869ms\n",
      "405:\tlearn: 0.2369128\ttotal: 3.72s\tremaining: 861ms\n",
      "406:\tlearn: 0.2363885\ttotal: 3.73s\tremaining: 852ms\n",
      "407:\tlearn: 0.2360245\ttotal: 3.74s\tremaining: 844ms\n",
      "408:\tlearn: 0.2356150\ttotal: 3.75s\tremaining: 835ms\n",
      "409:\tlearn: 0.2352373\ttotal: 3.76s\tremaining: 826ms\n",
      "410:\tlearn: 0.2348647\ttotal: 3.77s\tremaining: 818ms\n",
      "411:\tlearn: 0.2341898\ttotal: 3.79s\tremaining: 809ms\n",
      "412:\tlearn: 0.2337850\ttotal: 3.8s\tremaining: 800ms\n",
      "413:\tlearn: 0.2334722\ttotal: 3.81s\tremaining: 791ms\n",
      "414:\tlearn: 0.2329725\ttotal: 3.82s\tremaining: 782ms\n",
      "415:\tlearn: 0.2329354\ttotal: 3.83s\tremaining: 773ms\n",
      "416:\tlearn: 0.2324370\ttotal: 3.84s\tremaining: 764ms\n",
      "417:\tlearn: 0.2320620\ttotal: 3.85s\tremaining: 755ms\n",
      "418:\tlearn: 0.2317151\ttotal: 3.86s\tremaining: 746ms\n",
      "419:\tlearn: 0.2315240\ttotal: 3.87s\tremaining: 736ms\n",
      "420:\tlearn: 0.2313803\ttotal: 3.88s\tremaining: 727ms\n",
      "421:\tlearn: 0.2308521\ttotal: 3.88s\tremaining: 718ms\n",
      "422:\tlearn: 0.2308223\ttotal: 3.89s\tremaining: 709ms\n",
      "423:\tlearn: 0.2306362\ttotal: 3.9s\tremaining: 700ms\n",
      "424:\tlearn: 0.2305798\ttotal: 3.92s\tremaining: 691ms\n",
      "425:\tlearn: 0.2305254\ttotal: 3.93s\tremaining: 682ms\n",
      "426:\tlearn: 0.2302890\ttotal: 3.94s\tremaining: 673ms\n",
      "427:\tlearn: 0.2297254\ttotal: 3.95s\tremaining: 664ms\n",
      "428:\tlearn: 0.2296585\ttotal: 3.96s\tremaining: 655ms\n",
      "429:\tlearn: 0.2290827\ttotal: 3.97s\tremaining: 646ms\n",
      "430:\tlearn: 0.2285652\ttotal: 3.98s\tremaining: 637ms\n",
      "431:\tlearn: 0.2283553\ttotal: 3.99s\tremaining: 628ms\n",
      "432:\tlearn: 0.2279210\ttotal: 4.01s\tremaining: 621ms\n",
      "433:\tlearn: 0.2276155\ttotal: 4.02s\tremaining: 611ms\n",
      "434:\tlearn: 0.2273857\ttotal: 4.03s\tremaining: 602ms\n",
      "435:\tlearn: 0.2271255\ttotal: 4.04s\tremaining: 593ms\n",
      "436:\tlearn: 0.2261806\ttotal: 4.05s\tremaining: 584ms\n",
      "437:\tlearn: 0.2260000\ttotal: 4.06s\tremaining: 575ms\n",
      "438:\tlearn: 0.2256740\ttotal: 4.07s\tremaining: 566ms\n",
      "439:\tlearn: 0.2249051\ttotal: 4.08s\tremaining: 557ms\n",
      "440:\tlearn: 0.2247375\ttotal: 4.09s\tremaining: 547ms\n",
      "441:\tlearn: 0.2246414\ttotal: 4.1s\tremaining: 538ms\n",
      "442:\tlearn: 0.2236126\ttotal: 4.11s\tremaining: 529ms\n",
      "443:\tlearn: 0.2230021\ttotal: 4.12s\tremaining: 520ms\n",
      "444:\tlearn: 0.2229729\ttotal: 4.13s\tremaining: 511ms\n",
      "445:\tlearn: 0.2226773\ttotal: 4.14s\tremaining: 502ms\n",
      "446:\tlearn: 0.2220930\ttotal: 4.15s\tremaining: 492ms\n",
      "447:\tlearn: 0.2219784\ttotal: 4.16s\tremaining: 483ms\n",
      "448:\tlearn: 0.2219174\ttotal: 4.17s\tremaining: 474ms\n",
      "449:\tlearn: 0.2213653\ttotal: 4.18s\tremaining: 465ms\n",
      "450:\tlearn: 0.2209772\ttotal: 4.19s\tremaining: 456ms\n",
      "451:\tlearn: 0.2208928\ttotal: 4.2s\tremaining: 446ms\n",
      "452:\tlearn: 0.2207233\ttotal: 4.21s\tremaining: 437ms\n",
      "453:\tlearn: 0.2206770\ttotal: 4.22s\tremaining: 428ms\n",
      "454:\tlearn: 0.2206438\ttotal: 4.23s\tremaining: 419ms\n",
      "455:\tlearn: 0.2206213\ttotal: 4.24s\tremaining: 409ms\n",
      "456:\tlearn: 0.2201043\ttotal: 4.25s\tremaining: 400ms\n",
      "457:\tlearn: 0.2195188\ttotal: 4.26s\tremaining: 391ms\n",
      "458:\tlearn: 0.2192156\ttotal: 4.27s\tremaining: 382ms\n",
      "459:\tlearn: 0.2185787\ttotal: 4.29s\tremaining: 373ms\n",
      "460:\tlearn: 0.2184091\ttotal: 4.3s\tremaining: 364ms\n",
      "461:\tlearn: 0.2178348\ttotal: 4.31s\tremaining: 355ms\n",
      "462:\tlearn: 0.2177477\ttotal: 4.32s\tremaining: 346ms\n",
      "463:\tlearn: 0.2174085\ttotal: 4.33s\tremaining: 336ms\n",
      "464:\tlearn: 0.2167823\ttotal: 4.34s\tremaining: 327ms\n",
      "465:\tlearn: 0.2165810\ttotal: 4.35s\tremaining: 318ms\n",
      "466:\tlearn: 0.2165295\ttotal: 4.36s\tremaining: 308ms\n",
      "467:\tlearn: 0.2162470\ttotal: 4.37s\tremaining: 299ms\n",
      "468:\tlearn: 0.2157370\ttotal: 4.38s\tremaining: 290ms\n",
      "469:\tlearn: 0.2150600\ttotal: 4.39s\tremaining: 280ms\n",
      "470:\tlearn: 0.2147190\ttotal: 4.4s\tremaining: 271ms\n",
      "471:\tlearn: 0.2141543\ttotal: 4.41s\tremaining: 262ms\n",
      "472:\tlearn: 0.2140659\ttotal: 4.42s\tremaining: 252ms\n",
      "473:\tlearn: 0.2140402\ttotal: 4.43s\tremaining: 243ms\n",
      "474:\tlearn: 0.2137165\ttotal: 4.44s\tremaining: 234ms\n",
      "475:\tlearn: 0.2135863\ttotal: 4.45s\tremaining: 224ms\n",
      "476:\tlearn: 0.2129943\ttotal: 4.46s\tremaining: 215ms\n",
      "477:\tlearn: 0.2127150\ttotal: 4.47s\tremaining: 206ms\n",
      "478:\tlearn: 0.2123384\ttotal: 4.48s\tremaining: 196ms\n",
      "479:\tlearn: 0.2119628\ttotal: 4.49s\tremaining: 187ms\n",
      "480:\tlearn: 0.2117181\ttotal: 4.5s\tremaining: 178ms\n",
      "481:\tlearn: 0.2113427\ttotal: 4.51s\tremaining: 168ms\n",
      "482:\tlearn: 0.2112184\ttotal: 4.52s\tremaining: 159ms\n",
      "483:\tlearn: 0.2111298\ttotal: 4.53s\tremaining: 150ms\n",
      "484:\tlearn: 0.2110122\ttotal: 4.54s\tremaining: 140ms\n",
      "485:\tlearn: 0.2108469\ttotal: 4.55s\tremaining: 131ms\n",
      "486:\tlearn: 0.2103950\ttotal: 4.56s\tremaining: 122ms\n",
      "487:\tlearn: 0.2098038\ttotal: 4.57s\tremaining: 112ms\n",
      "488:\tlearn: 0.2095152\ttotal: 4.58s\tremaining: 103ms\n",
      "489:\tlearn: 0.2094672\ttotal: 4.59s\tremaining: 93.8ms\n",
      "490:\tlearn: 0.2091295\ttotal: 4.61s\tremaining: 84.4ms\n",
      "491:\tlearn: 0.2088565\ttotal: 4.62s\tremaining: 75.1ms\n",
      "492:\tlearn: 0.2088154\ttotal: 4.63s\tremaining: 65.7ms\n",
      "493:\tlearn: 0.2087750\ttotal: 4.65s\tremaining: 56.5ms\n",
      "494:\tlearn: 0.2087366\ttotal: 4.67s\tremaining: 47.1ms\n",
      "495:\tlearn: 0.2081943\ttotal: 4.68s\tremaining: 37.7ms\n",
      "496:\tlearn: 0.2079249\ttotal: 4.69s\tremaining: 28.3ms\n"
     ]
    },
    {
     "name": "stdout",
     "output_type": "stream",
     "text": [
      "497:\tlearn: 0.2078769\ttotal: 4.7s\tremaining: 18.9ms\n",
      "498:\tlearn: 0.2078026\ttotal: 4.71s\tremaining: 9.45ms\n",
      "499:\tlearn: 0.2076277\ttotal: 4.72s\tremaining: 0us\n"
     ]
    }
   ],
   "source": [
    "ctb.fit(X_train_ctb, y_train_ctb, cat_features=cat_features_idx);"
   ]
  },
  {
   "cell_type": "code",
   "execution_count": 159,
   "id": "2b66604c",
   "metadata": {},
   "outputs": [],
   "source": [
    "y_pred_ctb = ctb.predict(X_valid_ctb)"
   ]
  },
  {
   "cell_type": "code",
   "execution_count": 160,
   "id": "5dcdfb7d",
   "metadata": {},
   "outputs": [
    {
     "data": {
      "text/plain": [
       "0.7873134328358209"
      ]
     },
     "execution_count": 160,
     "metadata": {},
     "output_type": "execute_result"
    }
   ],
   "source": [
    "accuracy_score(y_pred_ctb, y_valid_ctb)"
   ]
  },
  {
   "cell_type": "code",
   "execution_count": null,
   "id": "3bef9574",
   "metadata": {},
   "outputs": [],
   "source": []
  }
 ],
 "metadata": {
  "kernelspec": {
   "display_name": "Python 3",
   "language": "python",
   "name": "python3"
  },
  "language_info": {
   "codemirror_mode": {
    "name": "ipython",
    "version": 3
   },
   "file_extension": ".py",
   "mimetype": "text/x-python",
   "name": "python",
   "nbconvert_exporter": "python",
   "pygments_lexer": "ipython3",
   "version": "3.8.8"
  }
 },
 "nbformat": 4,
 "nbformat_minor": 5
}
