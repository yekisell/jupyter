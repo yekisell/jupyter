{
 "cells": [
  {
   "cell_type": "code",
   "execution_count": 1,
   "id": "e60ba0cf",
   "metadata": {},
   "outputs": [],
   "source": [
    "import pandas as pd"
   ]
  },
  {
   "cell_type": "code",
   "execution_count": 2,
   "id": "6163db54",
   "metadata": {},
   "outputs": [],
   "source": [
    "data = pd.read_json('../sentence/finished_sentences.json')"
   ]
  },
  {
   "cell_type": "code",
   "execution_count": 3,
   "id": "b055723c",
   "metadata": {},
   "outputs": [
    {
     "data": {
      "text/html": [
       "<div>\n",
       "<style scoped>\n",
       "    .dataframe tbody tr th:only-of-type {\n",
       "        vertical-align: middle;\n",
       "    }\n",
       "\n",
       "    .dataframe tbody tr th {\n",
       "        vertical-align: top;\n",
       "    }\n",
       "\n",
       "    .dataframe thead th {\n",
       "        text-align: right;\n",
       "    }\n",
       "</style>\n",
       "<table border=\"1\" class=\"dataframe\">\n",
       "  <thead>\n",
       "    <tr style=\"text-align: right;\">\n",
       "      <th></th>\n",
       "      <th>sentence</th>\n",
       "      <th>is_finished</th>\n",
       "    </tr>\n",
       "  </thead>\n",
       "  <tbody>\n",
       "    <tr>\n",
       "      <th>0</th>\n",
       "      <td>Apple supplier AMS cuts forecast, indicating p...</td>\n",
       "      <td>Finished</td>\n",
       "    </tr>\n",
       "    <tr>\n",
       "      <th>1</th>\n",
       "      <td>U.S. factory and services activity quicken in ...</td>\n",
       "      <td>Finished</td>\n",
       "    </tr>\n",
       "    <tr>\n",
       "      <th>2</th>\n",
       "      <td>Exclusive: Tesla expects global shortage of el...</td>\n",
       "      <td>Unfinished</td>\n",
       "    </tr>\n",
       "    <tr>\n",
       "      <th>3</th>\n",
       "      <td>World stocks climb on China trade relief, whil...</td>\n",
       "      <td>Finished</td>\n",
       "    </tr>\n",
       "    <tr>\n",
       "      <th>4</th>\n",
       "      <td>Boeing, J&amp;J, dismal China data drag Wall Stree...</td>\n",
       "      <td>Finished</td>\n",
       "    </tr>\n",
       "    <tr>\n",
       "      <th>...</th>\n",
       "      <td>...</td>\n",
       "      <td>...</td>\n",
       "    </tr>\n",
       "    <tr>\n",
       "      <th>53144</th>\n",
       "      <td>Brexit has made the UK a global joke. How will we</td>\n",
       "      <td>Unfinished</td>\n",
       "    </tr>\n",
       "    <tr>\n",
       "      <th>53145</th>\n",
       "      <td>Rents in UK will rise for next five years, exp...</td>\n",
       "      <td>Finished</td>\n",
       "    </tr>\n",
       "    <tr>\n",
       "      <th>53146</th>\n",
       "      <td>Paper straw factory to open in Britain</td>\n",
       "      <td>Unfinished</td>\n",
       "    </tr>\n",
       "    <tr>\n",
       "      <th>53147</th>\n",
       "      <td>FTSE 100 posts largest quarterly fall since Bl...</td>\n",
       "      <td>Finished</td>\n",
       "    </tr>\n",
       "    <tr>\n",
       "      <th>53148</th>\n",
       "      <td>The Guardian view on Trump’s tariffs: more smo...</td>\n",
       "      <td>Finished</td>\n",
       "    </tr>\n",
       "  </tbody>\n",
       "</table>\n",
       "<p>53149 rows × 2 columns</p>\n",
       "</div>"
      ],
      "text/plain": [
       "                                                sentence is_finished\n",
       "0      Apple supplier AMS cuts forecast, indicating p...    Finished\n",
       "1      U.S. factory and services activity quicken in ...    Finished\n",
       "2      Exclusive: Tesla expects global shortage of el...  Unfinished\n",
       "3      World stocks climb on China trade relief, whil...    Finished\n",
       "4      Boeing, J&J, dismal China data drag Wall Stree...    Finished\n",
       "...                                                  ...         ...\n",
       "53144  Brexit has made the UK a global joke. How will we  Unfinished\n",
       "53145  Rents in UK will rise for next five years, exp...    Finished\n",
       "53146             Paper straw factory to open in Britain  Unfinished\n",
       "53147  FTSE 100 posts largest quarterly fall since Bl...    Finished\n",
       "53148  The Guardian view on Trump’s tariffs: more smo...    Finished\n",
       "\n",
       "[53149 rows x 2 columns]"
      ]
     },
     "execution_count": 3,
     "metadata": {},
     "output_type": "execute_result"
    }
   ],
   "source": [
    "data"
   ]
  },
  {
   "cell_type": "code",
   "execution_count": null,
   "id": "51861af4",
   "metadata": {},
   "outputs": [],
   "source": []
  }
 ],
 "metadata": {
  "kernelspec": {
   "display_name": "Python 3",
   "language": "python",
   "name": "python3"
  },
  "language_info": {
   "codemirror_mode": {
    "name": "ipython",
    "version": 3
   },
   "file_extension": ".py",
   "mimetype": "text/x-python",
   "name": "python",
   "nbconvert_exporter": "python",
   "pygments_lexer": "ipython3",
   "version": "3.8.8"
  }
 },
 "nbformat": 4,
 "nbformat_minor": 5
}
